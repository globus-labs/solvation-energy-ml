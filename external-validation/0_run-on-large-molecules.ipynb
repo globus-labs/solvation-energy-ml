{
 "cells": [
  {
   "cell_type": "markdown",
   "metadata": {},
   "source": [
    "# Run on Large Molecules\n",
    "We have the solvation energies for a few dozen large molecules in different solvents. We are going to use them as a test set.\n",
    "\n",
    "Given the need to scale to large molecules, we assess two different strategies: a model which predict solvation energy given the entire fingerprint of a molecule and a model which uses atomic-level contributions."
   ]
  },
  {
   "cell_type": "code",
   "execution_count": 1,
   "metadata": {},
   "outputs": [
    {
     "name": "stderr",
     "output_type": "stream",
     "text": [
      "Using TensorFlow backend.\n",
      "/lus/theta-fs0/projects/CSC249ADCD08/solvation-energy-ml/env/lib/python3.6/site-packages/tensorflow/python/framework/dtypes.py:526: FutureWarning: Passing (type, 1) or '1type' as a synonym of type is deprecated; in a future version of numpy, it will be understood as (type, (1,)) / '(1,)type'.\n",
      "  _np_qint8 = np.dtype([(\"qint8\", np.int8, 1)])\n",
      "/lus/theta-fs0/projects/CSC249ADCD08/solvation-energy-ml/env/lib/python3.6/site-packages/tensorflow/python/framework/dtypes.py:527: FutureWarning: Passing (type, 1) or '1type' as a synonym of type is deprecated; in a future version of numpy, it will be understood as (type, (1,)) / '(1,)type'.\n",
      "  _np_quint8 = np.dtype([(\"quint8\", np.uint8, 1)])\n",
      "/lus/theta-fs0/projects/CSC249ADCD08/solvation-energy-ml/env/lib/python3.6/site-packages/tensorflow/python/framework/dtypes.py:528: FutureWarning: Passing (type, 1) or '1type' as a synonym of type is deprecated; in a future version of numpy, it will be understood as (type, (1,)) / '(1,)type'.\n",
      "  _np_qint16 = np.dtype([(\"qint16\", np.int16, 1)])\n",
      "/lus/theta-fs0/projects/CSC249ADCD08/solvation-energy-ml/env/lib/python3.6/site-packages/tensorflow/python/framework/dtypes.py:529: FutureWarning: Passing (type, 1) or '1type' as a synonym of type is deprecated; in a future version of numpy, it will be understood as (type, (1,)) / '(1,)type'.\n",
      "  _np_quint16 = np.dtype([(\"quint16\", np.uint16, 1)])\n",
      "/lus/theta-fs0/projects/CSC249ADCD08/solvation-energy-ml/env/lib/python3.6/site-packages/tensorflow/python/framework/dtypes.py:530: FutureWarning: Passing (type, 1) or '1type' as a synonym of type is deprecated; in a future version of numpy, it will be understood as (type, (1,)) / '(1,)type'.\n",
      "  _np_qint32 = np.dtype([(\"qint32\", np.int32, 1)])\n",
      "/lus/theta-fs0/projects/CSC249ADCD08/solvation-energy-ml/env/lib/python3.6/site-packages/tensorflow/python/framework/dtypes.py:535: FutureWarning: Passing (type, 1) or '1type' as a synonym of type is deprecated; in a future version of numpy, it will be understood as (type, (1,)) / '(1,)type'.\n",
      "  np_resource = np.dtype([(\"resource\", np.ubyte, 1)])\n"
     ]
    }
   ],
   "source": [
    "%matplotlib inline\n",
    "from matplotlib import pyplot as plt\n",
    "from jcesr_ml.benchmark import dielectric_constants, load_benchmark_data\n",
    "from jcesr_ml.mpnn import set_custom_objects, run_model, GraphModel\n",
    "from keras.models import load_model\n",
    "from scipy.stats import sem\n",
    "from tqdm import tqdm\n",
    "import pickle as pkl\n",
    "import pandas as pd\n",
    "import numpy as np\n",
    "import shutil\n",
    "import json\n",
    "import os"
   ]
  },
  {
   "cell_type": "code",
   "execution_count": 2,
   "metadata": {},
   "outputs": [],
   "source": [
    "set_custom_objects()"
   ]
  },
  {
   "cell_type": "markdown",
   "metadata": {},
   "source": [
    "## Load in Models\n",
    "Get the models to evaluate by querying the model list"
   ]
  },
  {
   "cell_type": "code",
   "execution_count": 3,
   "metadata": {},
   "outputs": [],
   "source": [
    "all_models = pd.read_csv(os.path.join('..', 'mpnn-gpu', 'mpnn-results.csv'))"
   ]
  },
  {
   "cell_type": "markdown",
   "metadata": {},
   "source": [
    "Look for models with the same number of training epochs"
   ]
  },
  {
   "cell_type": "code",
   "execution_count": 4,
   "metadata": {},
   "outputs": [],
   "source": [
    "model_name = {\n",
    "    'molecular-fingerprint': 'dielectric-constant-softplus',\n",
    "    'atomic-contribution': 'dielectric-constant-softplus-atomic-contrib',\n",
    "    'atomic-contribution-featureless': 'dielectric-constant-softplus-atomic-contrib-featureless',\n",
    "}"
   ]
  },
  {
   "cell_type": "markdown",
   "metadata": {},
   "source": [
    "Load them in and, for reference, link them the best models to a subfolder here"
   ]
  },
  {
   "cell_type": "code",
   "execution_count": 5,
   "metadata": {},
   "outputs": [],
   "source": [
    "shutil.rmtree('models', ignore_errors=True)\n",
    "os.makedirs('models')"
   ]
  },
  {
   "cell_type": "code",
   "execution_count": 6,
   "metadata": {},
   "outputs": [
    {
     "name": "stdout",
     "output_type": "stream",
     "text": [
      "WARNING:tensorflow:From /lus/theta-fs0/projects/CSC249ADCD08/solvation-energy-ml/env/lib/python3.6/site-packages/tensorflow/python/ops/resource_variable_ops.py:435: colocate_with (from tensorflow.python.framework.ops) is deprecated and will be removed in a future version.\n",
      "Instructions for updating:\n",
      "Colocations handled automatically by placer.\n",
      "WARNING:tensorflow:From /lus/theta-fs0/projects/CSC249ADCD08/solvation-energy-ml/env/lib/python3.6/site-packages/tensorflow/python/ops/math_ops.py:3066: to_int32 (from tensorflow.python.ops.math_ops) is deprecated and will be removed in a future version.\n",
      "Instructions for updating:\n",
      "Use tf.cast instead.\n"
     ]
    },
    {
     "name": "stderr",
     "output_type": "stream",
     "text": [
      "/lus/theta-fs0/projects/CSC249ADCD08/solvation-energy-ml/env/lib/python3.6/site-packages/tensorflow/python/ops/gradients_impl.py:110: UserWarning: Converting sparse IndexedSlices to a dense Tensor of unknown shape. This may consume a large amount of memory.\n",
      "  \"Converting sparse IndexedSlices to a dense Tensor of unknown shape. \"\n"
     ]
    }
   ],
   "source": [
    "models = {}\n",
    "convs = {}\n",
    "for k, v in model_name.items():\n",
    "    # Get the model\n",
    "    hits = all_models.query(f'num_epochs==8192 and name==\"{v}\"')\n",
    "    assert len(hits) == 1\n",
    "    model_info = hits.iloc[0]\n",
    "    \n",
    "    # Load it in, link components to special directory\n",
    "    my_dir = os.path.join('models', k)\n",
    "    os.makedirs(my_dir)\n",
    "    model_path = os.path.join('..', 'mpnn-gpu', model_info['path'], 'best_model.h5')\n",
    "    os.symlink(os.path.relpath(model_path, my_dir), os.path.join(my_dir, 'best_model.h5'))\n",
    "    \n",
    "    models[k] = load_model(os.path.join('..', 'mpnn-gpu', model_info['path'], 'best_model.h5'))\n",
    "    conv_path = os.path.join('..', 'mpnn-gpu',  model_info['path'], '..', 'converter.pkl')\n",
    "    os.symlink(os.path.relpath(conv_path, my_dir), os.path.join(my_dir, 'converter.pkl'))\n",
    "    with open(conv_path, 'rb') as fp:\n",
    "        convs[k] = pkl.load(fp)"
   ]
  },
  {
   "cell_type": "markdown",
   "metadata": {},
   "source": [
    "## Load in the Datasets\n",
    "They are stored in our `data/output` directory"
   ]
  },
  {
   "cell_type": "code",
   "execution_count": 7,
   "metadata": {},
   "outputs": [],
   "source": [
    "data = pd.read_json(os.path.join('..', 'data', 'output', 'pdb_data.json'), lines=True)\n",
    "data['source'] = 'pdb'"
   ]
  },
  {
   "cell_type": "markdown",
   "metadata": {},
   "source": [
    "Add in the QM9 holdout set"
   ]
  },
  {
   "cell_type": "code",
   "execution_count": 8,
   "metadata": {},
   "outputs": [],
   "source": [
    "train_data, test_data = load_benchmark_data()\n",
    "test_data['source'] = 'QM9'\n",
    "test_data.rename(columns={'smiles_0': 'smiles', 'n_atom': 'n_atoms'}, inplace=True)\n",
    "data = pd.concat((data, test_data), ignore_index=True, sort=False)"
   ]
  },
  {
   "cell_type": "markdown",
   "metadata": {},
   "source": [
    "Some datasets include both the SMILES and composition in the SMILES string"
   ]
  },
  {
   "cell_type": "code",
   "execution_count": 9,
   "metadata": {},
   "outputs": [],
   "source": [
    "data['smiles'] = data['smiles'].apply(lambda x: x.split('\\t')[0])"
   ]
  },
  {
   "cell_type": "markdown",
   "metadata": {},
   "source": [
    "There is some overlap between the datasets"
   ]
  },
  {
   "cell_type": "code",
   "execution_count": 10,
   "metadata": {},
   "outputs": [
    {
     "name": "stdout",
     "output_type": "stream",
     "text": [
      "Loaded 13217 unique molecules\n"
     ]
    }
   ],
   "source": [
    "data.drop_duplicates('smiles', inplace=True)\n",
    "print(f'Loaded {len(data)} unique molecules')"
   ]
  },
  {
   "cell_type": "code",
   "execution_count": 11,
   "metadata": {},
   "outputs": [
    {
     "data": {
      "text/plain": [
       "QM9    13026\n",
       "pdb      191\n",
       "Name: source, dtype: int64"
      ]
     },
     "execution_count": 11,
     "metadata": {},
     "output_type": "execute_result"
    }
   ],
   "source": [
    "data['source'].value_counts()"
   ]
  },
  {
   "cell_type": "markdown",
   "metadata": {},
   "source": [
    "See how many have molecular motifs we have not yet observed.\n",
    "\n",
    "We first change the tokenizers used in the preprocessor out of training mode, so \n",
    "that they will assign unseen motifs a label of `1`. \n",
    "This will result in the DL model using a randomly-initialized embedding for that atom or bond type,\n",
    "in contrast to the learned embeddings for all other grops"
   ]
  },
  {
   "cell_type": "code",
   "execution_count": 12,
   "metadata": {},
   "outputs": [],
   "source": [
    "for conv in convs.values():\n",
    "    conv.atom_tokenizer.train = conv.bond_tokenizer.train = False"
   ]
  },
  {
   "cell_type": "code",
   "execution_count": 13,
   "metadata": {},
   "outputs": [],
   "source": [
    "conv = convs['molecular-fingerprint']"
   ]
  },
  {
   "cell_type": "code",
   "execution_count": 14,
   "metadata": {},
   "outputs": [],
   "source": [
    "def has_unseen_types(smiles: str) -> str:\n",
    "    \"\"\"Determine whether a molecule contains atom or bond types that\n",
    "    were not included in the training set\n",
    "    \n",
    "    Args:\n",
    "        smiles (str): SMILES string of a molecule\n",
    "    Returns:\n",
    "        (str) Label of whether it has new bonds or atom types\n",
    "    \"\"\"\n",
    "    features = conv.construct_feature_matrices(smiles)\n",
    "    \n",
    "    new_atoms = any(features['atom'] == 1)\n",
    "    new_bonds = any(features['bond'] == 1)\n",
    "    \n",
    "    if not (new_atoms or new_bonds):\n",
    "        return 'none'\n",
    "    elif new_atoms and not new_bonds:\n",
    "        return 'atoms'\n",
    "    elif not new_atoms and new_bonds:\n",
    "        return 'bonds'\n",
    "    else:\n",
    "        return 'atoms+bonds'"
   ]
  },
  {
   "cell_type": "code",
   "execution_count": 15,
   "metadata": {},
   "outputs": [],
   "source": [
    "data['unseen_types'] = data['smiles'].apply(has_unseen_types)"
   ]
  },
  {
   "cell_type": "code",
   "execution_count": 16,
   "metadata": {},
   "outputs": [
    {
     "data": {
      "text/plain": [
       "none     13209\n",
       "bonds        8\n",
       "Name: unseen_types, dtype: int64"
      ]
     },
     "execution_count": 16,
     "metadata": {},
     "output_type": "execute_result"
    }
   ],
   "source": [
    "data['unseen_types'].value_counts()"
   ]
  },
  {
   "cell_type": "code",
   "execution_count": 17,
   "metadata": {},
   "outputs": [
    {
     "data": {
      "text/plain": [
       "{\"(rdkit.Chem.rdchem.BondType.DOUBLE, True, False, ['N', 'N'])\",\n",
       " \"(rdkit.Chem.rdchem.BondType.SINGLE, False, False, ['F', 'N'])\",\n",
       " \"(rdkit.Chem.rdchem.BondType.SINGLE, False, False, ['N', 'N'])\",\n",
       " \"(rdkit.Chem.rdchem.BondType.SINGLE, False, False, ['O', 'O'])\",\n",
       " \"(rdkit.Chem.rdchem.BondType.SINGLE, True, False, ['N', 'N'])\"}"
      ]
     },
     "execution_count": 17,
     "metadata": {},
     "output_type": "execute_result"
    }
   ],
   "source": [
    "set(conv.bond_tokenizer.unknown)"
   ]
  },
  {
   "cell_type": "markdown",
   "metadata": {},
   "source": [
    "*Finding*: 8 of our molecules have unseen bonding types, which include conjugated N=N bonds annd O-O single bonds."
   ]
  },
  {
   "cell_type": "code",
   "execution_count": 18,
   "metadata": {},
   "outputs": [],
   "source": [
    "data.to_csv('validation-data.csv', index=False)"
   ]
  },
  {
   "cell_type": "markdown",
   "metadata": {},
   "source": [
    "## Evaluate Model on this Data\n",
    "Run it for all solvents for which we have data for all solvents"
   ]
  },
  {
   "cell_type": "code",
   "execution_count": 19,
   "metadata": {},
   "outputs": [
    {
     "name": "stdout",
     "output_type": "stream",
     "text": [
      "Found 3 solvation energy columns\n"
     ]
    }
   ],
   "source": [
    "sol_cols = [x for x in data.columns if x.startswith('sol_') and not data[x].isnull().any()]\n",
    "print(f'Found {len(sol_cols)} solvation energy columns')"
   ]
  },
  {
   "cell_type": "markdown",
   "metadata": {},
   "source": [
    "Drop all unnecessary columns"
   ]
  },
  {
   "cell_type": "code",
   "execution_count": 20,
   "metadata": {},
   "outputs": [],
   "source": [
    "data = data[['smiles'] + sol_cols + ['source', 'n_heavy_atoms', 'n_atoms', 'name', 'unseen_types']]"
   ]
  },
  {
   "cell_type": "markdown",
   "metadata": {},
   "source": [
    "Modify the converter to produce entries for these solvents"
   ]
  },
  {
   "cell_type": "code",
   "execution_count": 21,
   "metadata": {},
   "outputs": [],
   "source": [
    "for conv in convs.values():\n",
    "    conv.dielectric_cnsts = [dielectric_constants[c] for c in sol_cols]"
   ]
  },
  {
   "cell_type": "markdown",
   "metadata": {},
   "source": [
    "Run the model and store the errors"
   ]
  },
  {
   "cell_type": "code",
   "execution_count": 22,
   "metadata": {},
   "outputs": [],
   "source": [
    "y_preds = dict((name, run_model(model, convs[name], data['smiles'])) for name, model in models.items())"
   ]
  },
  {
   "cell_type": "code",
   "execution_count": 23,
   "metadata": {},
   "outputs": [],
   "source": [
    "output = {}\n",
    "for name, y_pred in y_preds.items():\n",
    "    errors = (y_pred - data[sol_cols])\n",
    "    errors.rename(mapper=lambda x: x + '_error', axis=1, inplace=True)\n",
    "    err_cols = errors.columns\n",
    "    for n, v in zip([f'{x}_pred' for x in sol_cols], y_pred.T):\n",
    "        errors[n] = v\n",
    "    output[name] = pd.concat((data, errors), ignore_index=False, axis=1)"
   ]
  },
  {
   "cell_type": "code",
   "execution_count": 24,
   "metadata": {},
   "outputs": [],
   "source": [
    "with open('error-columns.json', 'w') as fp:\n",
    "    json.dump(err_cols.tolist(), fp)"
   ]
  },
  {
   "cell_type": "markdown",
   "metadata": {},
   "source": [
    "Plot the total error histogram"
   ]
  },
  {
   "cell_type": "code",
   "execution_count": 25,
   "metadata": {},
   "outputs": [
    {
     "data": {
      "image/png": "[encoded data removed]",
      "text/plain": [
       "<Figure size 468x162 with 3 Axes>"
      ]
     },
     "metadata": {
      "needs_background": "light"
     },
     "output_type": "display_data"
    }
   ],
   "source": [
    "fig, axs = plt.subplots(1, 3, figsize=(6.5, 2.25), sharey=True)\n",
    "\n",
    "for ax, (name, subset) in zip(axs, output.items()):\n",
    "    errors = np.ravel(subset.query('source==\"QM9\"')[err_cols])\n",
    "    ax.hist(errors, bins=64, range=(-2, 2))\n",
    "    ax.set_xlabel('Error (kcal/mol)')\n",
    "    ax.text(1, 0.95, f'MAE:{np.abs(errors).mean() : .2f} kcal/mol', \n",
    "            ha='right', va='top', transform=ax.transAxes)\n",
    "    ax.set_title(name)\n",
    "\n",
    "fig.tight_layout()"
   ]
  },
  {
   "cell_type": "markdown",
   "metadata": {},
   "source": [
    "Break it down by source and size"
   ]
  },
  {
   "cell_type": "code",
   "execution_count": 26,
   "metadata": {},
   "outputs": [],
   "source": [
    "def mean_abs_error(x):\n",
    "    return np.abs(x).mean()\n",
    "def mean_abs_error_sem(x):\n",
    "    return sem(np.abs(x))\n",
    "def mean_abs_deviation(x):\n",
    "    return np.abs(x - np.mean(x)).mean()\n",
    "funcs = [mean_abs_error, mean_abs_error_sem, len]"
   ]
  },
  {
   "cell_type": "code",
   "execution_count": 27,
   "metadata": {},
   "outputs": [],
   "source": [
    "agg_funcs = dict((x, funcs) for x in err_cols)\n",
    "agg_funcs.update(dict((x, [mean_abs_deviation, np.median]) for x in sol_cols))"
   ]
  },
  {
   "cell_type": "markdown",
   "metadata": {},
   "source": [
    "Compare the accuracy on various subsets"
   ]
  },
  {
   "cell_type": "code",
   "execution_count": 28,
   "metadata": {},
   "outputs": [
    {
     "name": "stderr",
     "output_type": "stream",
     "text": [
      "/lus/theta-fs0/projects/CSC249ADCD08/solvation-energy-ml/env/lib/python3.6/site-packages/numpy/core/_methods.py:217: RuntimeWarning: Degrees of freedom <= 0 for slice\n",
      "  keepdims=keepdims)\n",
      "/lus/theta-fs0/projects/CSC249ADCD08/solvation-energy-ml/env/lib/python3.6/site-packages/numpy/core/_methods.py:209: RuntimeWarning: invalid value encountered in double_scalars\n",
      "  ret = ret.dtype.type(ret / rcount)\n"
     ]
    },
    {
     "data": {
      "image/png": "[encoded data removed]",
      "text/plain": [
       "<Figure size 468x288 with 4 Axes>"
      ]
     },
     "metadata": {
      "needs_background": "light"
     },
     "output_type": "display_data"
    }
   ],
   "source": [
    "fig, aaxs = plt.subplots(2, 2, figsize=(6.5, 4.), sharey='row')\n",
    "\n",
    "# Get only the \"molecular\" and \"atomic-contribution\"\n",
    "sources = output.copy()\n",
    "del sources['atomic-contribution-featureless']\n",
    "\n",
    "# Loop over names\n",
    "for ni, (axs, (name, subset)) in enumerate(zip(aaxs.T, sources.items())):\n",
    "    # Get the columns to include in the labels\n",
    "    labels = []\n",
    "\n",
    "    # Plot the dependence on source\n",
    "    errors = np.ravel(subset.query('source==\"QM9\"')[err_cols])\n",
    "    axs[0].hist(errors, bins=128, range=(-2, 2))\n",
    "    axs[0].set_xlabel('Error (kcal/mol)')\n",
    "    axs[0].text(1, 0.95, f'MAE:{np.abs(errors).mean() : .2f} kcal/mol', \n",
    "            ha='right', va='top', transform=axs[0].transAxes,\n",
    "               bbox={'facecolor': 'w', 'edgecolor': 'gray', 'alpha': 0.5})\n",
    "\n",
    "    # Plot the atom count dependence\n",
    "    analysis = subset.query('n_heavy_atoms > 3').groupby('n_heavy_atoms').agg(agg_funcs)\n",
    "    x = analysis.index.min() + np.arange(len(analysis))\n",
    "    for i, c in enumerate(err_cols):\n",
    "        mad = analysis[c[:-6]]['mean_abs_deviation']\n",
    "        l = axs[1].bar(x - 0.25 + i * 0.25, analysis[c]['mean_abs_error'], yerr=analysis[c]['mean_abs_error_sem'],\n",
    "                       width=0.25, align='center')\n",
    "        solvent = c.split(\"_\")[1]\n",
    "        label = solvent.capitalize() if solvent=='water' else solvent.upper()\n",
    "        labels.append((l, label))\n",
    "    axs[1].set_xlabel('Heavy Atom Count')\n",
    "\n",
    "    axs[0].set_title(name.replace(\"-\", \" \").capitalize())\n",
    "\n",
    "for i, ax in enumerate(np.ravel(aaxs)):\n",
    "    ax.text(0.01, 0.9, f'({chr(97+i)})', transform=ax.transAxes, ha='left')\n",
    "\n",
    "aaxs[0, 0].set_ylabel('Frequency')\n",
    "aaxs[1, 0].set_ylabel('MAE (kcal/mol)')\n",
    "    \n",
    "aaxs[1, 1].legend(*zip(*labels), ncol=1, loc='upper right')\n",
    "\n",
    "fig.tight_layout()\n",
    "fig.savefig(os.path.join('figures', 'holdout-set-tests.png'), dpi=320)\n",
    "fig.savefig(os.path.join('figures', 'holdout-set-tests.eps'))"
   ]
  },
  {
   "cell_type": "markdown",
   "metadata": {},
   "source": [
    "Save a succinct summary of the non-QM9 predictions"
   ]
  },
  {
   "cell_type": "code",
   "execution_count": 29,
   "metadata": {},
   "outputs": [
    {
     "name": "stdout",
     "output_type": "stream",
     "text": [
      "molecular-fingerprint\n",
      "n_heavy_atoms\n",
      "10     2.146073\n",
      "11     1.040060\n",
      "12     3.943441\n",
      "13     5.020988\n",
      "14    15.533823\n",
      "Name: (sol_acn_error, mean_abs_error), dtype: float64\n",
      "atomic-contribution\n",
      "n_heavy_atoms\n",
      "10    0.803824\n",
      "11    1.118295\n",
      "12    1.644229\n",
      "13    2.378167\n",
      "14    2.208209\n",
      "Name: (sol_acn_error, mean_abs_error), dtype: float64\n",
      "atomic-contribution-featureless\n",
      "n_heavy_atoms\n",
      "10     1.391751\n",
      "11     1.321872\n",
      "12     2.114819\n",
      "13    10.867373\n",
      "14     3.021756\n",
      "Name: (sol_acn_error, mean_abs_error), dtype: float64\n"
     ]
    }
   ],
   "source": [
    "for name, subset in output.items():\n",
    "    print(name)\n",
    "    print(subset.query('n_heavy_atoms > 9').groupby('n_heavy_atoms').agg(agg_funcs)['sol_acn_error', 'mean_abs_error'])"
   ]
  },
  {
   "cell_type": "markdown",
   "metadata": {},
   "source": [
    "Save the data"
   ]
  },
  {
   "cell_type": "code",
   "execution_count": 30,
   "metadata": {},
   "outputs": [],
   "source": [
    "os.makedirs('test-sets', exist_ok=True)\n",
    "for name, subset in output.items():\n",
    "    subset.to_csv(os.path.join('test-sets', f'{name.lower().replace(\" \", \"-\")}.csv'), index=False)"
   ]
  },
  {
   "cell_type": "code",
   "execution_count": null,
   "metadata": {},
   "outputs": [],
   "source": []
  }
 ],
 "metadata": {
  "kernelspec": {
   "display_name": "solv_ml",
   "language": "python",
   "name": "solv_ml"
  },
  "language_info": {
   "codemirror_mode": {
    "name": "ipython",
    "version": 3
   },
   "file_extension": ".py",
   "mimetype": "text/x-python",
   "name": "python",
   "nbconvert_exporter": "python",
   "pygments_lexer": "ipython3",
   "version": "3.6.8"
  }
 },
 "nbformat": 4,
 "nbformat_minor": 4
}
