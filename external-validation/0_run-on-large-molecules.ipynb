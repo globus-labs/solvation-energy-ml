{
 "cells": [
  {
   "cell_type": "markdown",
   "metadata": {},
   "source": [
    "# Run on Large Molecules\n",
    "We have the solvation energies for a few dozen large molecules in different solvents. We are going to use them as a test set"
   ]
  },
  {
   "cell_type": "code",
   "execution_count": 1,
   "metadata": {},
   "outputs": [
    {
     "name": "stdout",
     "output_type": "stream",
     "text": [
      "The history saving thread hit an unexpected error (DatabaseError('database disk image is malformed',)).History will not be written to the database.\n"
     ]
    },
    {
     "name": "stderr",
     "output_type": "stream",
     "text": [
      "Using TensorFlow backend.\n",
      "/home/wardlt/miniconda3/envs/solv_ml/lib/python3.6/site-packages/tensorflow/python/framework/dtypes.py:526: FutureWarning: Passing (type, 1) or '1type' as a synonym of type is deprecated; in a future version of numpy, it will be understood as (type, (1,)) / '(1,)type'.\n",
      "  _np_qint8 = np.dtype([(\"qint8\", np.int8, 1)])\n",
      "/home/wardlt/miniconda3/envs/solv_ml/lib/python3.6/site-packages/tensorflow/python/framework/dtypes.py:527: FutureWarning: Passing (type, 1) or '1type' as a synonym of type is deprecated; in a future version of numpy, it will be understood as (type, (1,)) / '(1,)type'.\n",
      "  _np_quint8 = np.dtype([(\"quint8\", np.uint8, 1)])\n",
      "/home/wardlt/miniconda3/envs/solv_ml/lib/python3.6/site-packages/tensorflow/python/framework/dtypes.py:528: FutureWarning: Passing (type, 1) or '1type' as a synonym of type is deprecated; in a future version of numpy, it will be understood as (type, (1,)) / '(1,)type'.\n",
      "  _np_qint16 = np.dtype([(\"qint16\", np.int16, 1)])\n",
      "/home/wardlt/miniconda3/envs/solv_ml/lib/python3.6/site-packages/tensorflow/python/framework/dtypes.py:529: FutureWarning: Passing (type, 1) or '1type' as a synonym of type is deprecated; in a future version of numpy, it will be understood as (type, (1,)) / '(1,)type'.\n",
      "  _np_quint16 = np.dtype([(\"quint16\", np.uint16, 1)])\n",
      "/home/wardlt/miniconda3/envs/solv_ml/lib/python3.6/site-packages/tensorflow/python/framework/dtypes.py:530: FutureWarning: Passing (type, 1) or '1type' as a synonym of type is deprecated; in a future version of numpy, it will be understood as (type, (1,)) / '(1,)type'.\n",
      "  _np_qint32 = np.dtype([(\"qint32\", np.int32, 1)])\n",
      "/home/wardlt/miniconda3/envs/solv_ml/lib/python3.6/site-packages/tensorflow/python/framework/dtypes.py:535: FutureWarning: Passing (type, 1) or '1type' as a synonym of type is deprecated; in a future version of numpy, it will be understood as (type, (1,)) / '(1,)type'.\n",
      "  np_resource = np.dtype([(\"resource\", np.ubyte, 1)])\n"
     ]
    }
   ],
   "source": [
    "%matplotlib inline\n",
    "from matplotlib import pyplot as plt\n",
    "from jcesr_ml.benchmark import dielectric_constants, load_benchmark_data\n",
    "from jcesr_ml.mpnn import set_custom_objects, run_model, GraphModel\n",
    "from sklearn.neighbors import NearestNeighbors\n",
    "from sklearn.pipeline import Pipeline\n",
    "from sklearn.decomposition import PCA\n",
    "from sklearn.preprocessing import MinMaxScaler\n",
    "from keras.models import load_model\n",
    "from scipy.stats import sem\n",
    "from tqdm import tqdm\n",
    "import pickle as pkl\n",
    "import pandas as pd\n",
    "import numpy as np\n",
    "import os"
   ]
  },
  {
   "cell_type": "markdown",
   "metadata": {},
   "source": [
    "Model to evaluate"
   ]
  },
  {
   "cell_type": "code",
   "execution_count": 2,
   "metadata": {},
   "outputs": [
    {
     "name": "stdout",
     "output_type": "stream",
     "text": [
      "WARNING:tensorflow:From /home/wardlt/miniconda3/envs/solv_ml/lib/python3.6/site-packages/tensorflow/python/framework/op_def_library.py:263: colocate_with (from tensorflow.python.framework.ops) is deprecated and will be removed in a future version.\n",
      "Instructions for updating:\n",
      "Colocations handled automatically by placer.\n",
      "WARNING:tensorflow:From /home/wardlt/miniconda3/envs/solv_ml/lib/python3.6/site-packages/tensorflow/python/ops/math_ops.py:3066: to_int32 (from tensorflow.python.ops.math_ops) is deprecated and will be removed in a future version.\n",
      "Instructions for updating:\n",
      "Use tf.cast instead.\n"
     ]
    },
    {
     "name": "stderr",
     "output_type": "stream",
     "text": [
      "/home/wardlt/miniconda3/envs/solv_ml/lib/python3.6/site-packages/tensorflow/python/ops/gradients_impl.py:110: UserWarning: Converting sparse IndexedSlices to a dense Tensor of unknown shape. This may consume a large amount of memory.\n",
      "  \"Converting sparse IndexedSlices to a dense Tensor of unknown shape. \"\n"
     ]
    }
   ],
   "source": [
    "set_custom_objects()\n",
    "model = load_model(os.path.join('..', 'mpnn', 'networks', 'dielectric-constant-softplus', '117232-entries',\n",
    "                                '128-nodes', '16384-batch_size', '1.00e-04-learning_rate', 'best_model.h5'))\n",
    "with open(os.path.join('..', 'mpnn', 'networks', 'dielectric-constant-softplus', 'converter.pkl'), 'rb') as fp:\n",
    "    conv = pkl.load(fp)"
   ]
  },
  {
   "cell_type": "markdown",
   "metadata": {},
   "source": [
    "## Load in the Datasets\n",
    "They are stored in our `data/output` directory"
   ]
  },
  {
   "cell_type": "code",
   "execution_count": 3,
   "metadata": {},
   "outputs": [],
   "source": [
    "data = []\n",
    "for name in ['sugar', 'hydrocarbon', 'nonsugars']:\n",
    "    subset = pd.read_json(os.path.join('..', 'data', 'output', f'{name}_data.json'), lines=True)\n",
    "    subset['source'] = name\n",
    "    data.append(subset)\n",
    "data = pd.concat(data, sort=False, ignore_index=True)"
   ]
  },
  {
   "cell_type": "markdown",
   "metadata": {},
   "source": [
    "Add in the QM9 holdout set"
   ]
  },
  {
   "cell_type": "code",
   "execution_count": 4,
   "metadata": {},
   "outputs": [],
   "source": [
    "train_data, test_data = load_benchmark_data()\n",
    "test_data['source'] = 'QM9'\n",
    "test_data.rename(columns={'smiles_0': 'smiles'}, inplace=True)\n",
    "data = pd.concat((data, test_data), ignore_index=True, sort=False)"
   ]
  },
  {
   "cell_type": "markdown",
   "metadata": {},
   "source": [
    "There is some overlap between the datasets"
   ]
  },
  {
   "cell_type": "code",
   "execution_count": 5,
   "metadata": {},
   "outputs": [
    {
     "name": "stdout",
     "output_type": "stream",
     "text": [
      "Loaded 13395 unique molecules\n"
     ]
    }
   ],
   "source": [
    "data.drop_duplicates('smiles', inplace=True)\n",
    "print(f'Loaded {len(data)} unique molecules')"
   ]
  },
  {
   "cell_type": "code",
   "execution_count": 6,
   "metadata": {},
   "outputs": [
    {
     "data": {
      "text/plain": [
       "QM9            13026\n",
       "sugar            168\n",
       "nonsugars        151\n",
       "hydrocarbon       50\n",
       "Name: source, dtype: int64"
      ]
     },
     "execution_count": 6,
     "metadata": {},
     "output_type": "execute_result"
    }
   ],
   "source": [
    "data['source'].value_counts()"
   ]
  },
  {
   "cell_type": "markdown",
   "metadata": {},
   "source": [
    "See how many have molecular motifs we have not yet observed.\n",
    "\n",
    "We first change the tokenizers used in the preprocessor out of training mode, so \n",
    "that they will assign unseen motifs a label of `1`. \n",
    "This will result in the DL model using a randomly-initialized embedding for that atom or bond type,\n",
    "in contrast to the learned embeddings for all other grops"
   ]
  },
  {
   "cell_type": "code",
   "execution_count": 7,
   "metadata": {},
   "outputs": [],
   "source": [
    "conv.atom_tokenizer.train = conv.bond_tokenizer.train = False"
   ]
  },
  {
   "cell_type": "code",
   "execution_count": 8,
   "metadata": {},
   "outputs": [],
   "source": [
    "def has_unseen_types(smiles: str) -> str:\n",
    "    \"\"\"Determine whether a molecule contains atom or bond types that\n",
    "    were not included in the training set\n",
    "    \n",
    "    Args:\n",
    "        smiles (str): SMILES string of a molecule\n",
    "    Returns:\n",
    "        (str) Label of whether it has new bonds or atom types\n",
    "    \"\"\"\n",
    "    features = conv.construct_feature_matrices(smiles)\n",
    "    \n",
    "    new_atoms = any(features['atom'] == 1)\n",
    "    new_bonds = any(features['bond'] == 1)\n",
    "    \n",
    "    if not (new_atoms or new_bonds):\n",
    "        return 'none'\n",
    "    elif new_atoms and not new_bonds:\n",
    "        return 'atoms'\n",
    "    elif not new_atoms and new_bonds:\n",
    "        return 'bonds'\n",
    "    else:\n",
    "        return 'atoms+bonds'"
   ]
  },
  {
   "cell_type": "code",
   "execution_count": 9,
   "metadata": {},
   "outputs": [],
   "source": [
    "data['unseen_types'] = data['smiles'].apply(has_unseen_types)"
   ]
  },
  {
   "cell_type": "code",
   "execution_count": 10,
   "metadata": {},
   "outputs": [
    {
     "data": {
      "text/plain": [
       "none     13387\n",
       "bonds        8\n",
       "Name: unseen_types, dtype: int64"
      ]
     },
     "execution_count": 10,
     "metadata": {},
     "output_type": "execute_result"
    }
   ],
   "source": [
    "data['unseen_types'].value_counts()"
   ]
  },
  {
   "cell_type": "code",
   "execution_count": 11,
   "metadata": {},
   "outputs": [
    {
     "data": {
      "text/plain": [
       "{\"(rdkit.Chem.rdchem.BondType.DOUBLE, True, False, ['N', 'N'])\",\n",
       " \"(rdkit.Chem.rdchem.BondType.SINGLE, False, False, ['F', 'N'])\",\n",
       " \"(rdkit.Chem.rdchem.BondType.SINGLE, False, False, ['N', 'N'])\",\n",
       " \"(rdkit.Chem.rdchem.BondType.SINGLE, False, False, ['O', 'O'])\",\n",
       " \"(rdkit.Chem.rdchem.BondType.SINGLE, True, False, ['N', 'N'])\"}"
      ]
     },
     "execution_count": 11,
     "metadata": {},
     "output_type": "execute_result"
    }
   ],
   "source": [
    "set(conv.bond_tokenizer.unknown)"
   ]
  },
  {
   "cell_type": "markdown",
   "metadata": {},
   "source": [
    "*Finding*: 8 of our molecules have unseen bonding types, which include conjugated N=N bonds annd O-O single bonds."
   ]
  },
  {
   "cell_type": "markdown",
   "metadata": {},
   "source": [
    "## Evaluate Model on this Data\n",
    "Run it for all solvents for which we have data for all solvents"
   ]
  },
  {
   "cell_type": "code",
   "execution_count": 12,
   "metadata": {},
   "outputs": [
    {
     "name": "stdout",
     "output_type": "stream",
     "text": [
      "Found 3 solvation energy columns\n"
     ]
    }
   ],
   "source": [
    "sol_cols = [x for x in data.columns if x.startswith('sol_') and not data[x].isnull().any()]\n",
    "print(f'Found {len(sol_cols)} solvation energy columns')"
   ]
  },
  {
   "cell_type": "markdown",
   "metadata": {},
   "source": [
    "Modify the converter to produce entries for these solvents"
   ]
  },
  {
   "cell_type": "code",
   "execution_count": 13,
   "metadata": {},
   "outputs": [],
   "source": [
    "conv.dielectric_cnsts = [dielectric_constants[c] for c in sol_cols]"
   ]
  },
  {
   "cell_type": "markdown",
   "metadata": {},
   "source": [
    "Run the model and store the errors"
   ]
  },
  {
   "cell_type": "code",
   "execution_count": 14,
   "metadata": {},
   "outputs": [],
   "source": [
    "y_pred = run_model(model, conv, data['smiles'])"
   ]
  },
  {
   "cell_type": "code",
   "execution_count": 15,
   "metadata": {},
   "outputs": [],
   "source": [
    "errors = (y_pred - data[sol_cols])\n",
    "errors.rename(mapper=lambda x: x + '_error', axis=1, inplace=True)\n",
    "err_cols = errors.columns\n",
    "data = pd.concat((data, errors), axis=1)"
   ]
  },
  {
   "cell_type": "markdown",
   "metadata": {},
   "source": [
    "Plot the total error histogram"
   ]
  },
  {
   "cell_type": "code",
   "execution_count": 16,
   "metadata": {},
   "outputs": [
    {
     "data": {
      "text/plain": [
       "Text(0.5, 0, 'Error (kcal/mol)')"
      ]
     },
     "execution_count": 16,
     "metadata": {},
     "output_type": "execute_result"
    },
    {
     "data": {
      "image/png": "[encoded data removed]",
      "text/plain": [
       "<Figure size 252x180 with 1 Axes>"
      ]
     },
     "metadata": {
      "needs_background": "light"
     },
     "output_type": "display_data"
    }
   ],
   "source": [
    "fig, ax = plt.subplots(figsize=(3.5, 2.5))\n",
    "\n",
    "ax.hist(np.ravel(data[err_cols]), bins=64, range=(-2, 2))\n",
    "\n",
    "ax.set_xlabel('Error (kcal/mol)')"
   ]
  },
  {
   "cell_type": "markdown",
   "metadata": {},
   "source": [
    "Break it down by source and size"
   ]
  },
  {
   "cell_type": "code",
   "execution_count": 17,
   "metadata": {},
   "outputs": [],
   "source": [
    "def mean_abs_error(x):\n",
    "    return np.abs(x).mean()\n",
    "def mean_abs_error_sem(x):\n",
    "    return sem(np.abs(x))\n",
    "def mean_abs_deviation(x):\n",
    "    return np.abs(x - np.mean(x)).mean()\n",
    "funcs = [mean_abs_error, mean_abs_error_sem, len]"
   ]
  },
  {
   "cell_type": "code",
   "execution_count": 18,
   "metadata": {},
   "outputs": [],
   "source": [
    "agg_funcs = dict((x, funcs) for x in err_cols)\n",
    "agg_funcs.update(dict((x, [mean_abs_deviation, np.median]) for x in sol_cols))"
   ]
  },
  {
   "cell_type": "code",
   "execution_count": 19,
   "metadata": {},
   "outputs": [
    {
     "data": {
      "text/html": [
       "<div>\n",
       "<style scoped>\n",
       "    .dataframe tbody tr th:only-of-type {\n",
       "        vertical-align: middle;\n",
       "    }\n",
       "\n",
       "    .dataframe tbody tr th {\n",
       "        vertical-align: top;\n",
       "    }\n",
       "\n",
       "    .dataframe thead tr th {\n",
       "        text-align: left;\n",
       "    }\n",
       "\n",
       "    .dataframe thead tr:last-of-type th {\n",
       "        text-align: right;\n",
       "    }\n",
       "</style>\n",
       "<table border=\"1\" class=\"dataframe\">\n",
       "  <thead>\n",
       "    <tr>\n",
       "      <th></th>\n",
       "      <th colspan=\"3\" halign=\"left\">sol_acn_error</th>\n",
       "      <th colspan=\"3\" halign=\"left\">sol_dmso_error</th>\n",
       "      <th colspan=\"3\" halign=\"left\">sol_water_error</th>\n",
       "      <th colspan=\"2\" halign=\"left\">sol_acn</th>\n",
       "      <th colspan=\"2\" halign=\"left\">sol_dmso</th>\n",
       "      <th colspan=\"2\" halign=\"left\">sol_water</th>\n",
       "    </tr>\n",
       "    <tr>\n",
       "      <th></th>\n",
       "      <th>mean_abs_error</th>\n",
       "      <th>mean_abs_error_sem</th>\n",
       "      <th>len</th>\n",
       "      <th>mean_abs_error</th>\n",
       "      <th>mean_abs_error_sem</th>\n",
       "      <th>len</th>\n",
       "      <th>mean_abs_error</th>\n",
       "      <th>mean_abs_error_sem</th>\n",
       "      <th>len</th>\n",
       "      <th>mean_abs_deviation</th>\n",
       "      <th>median</th>\n",
       "      <th>mean_abs_deviation</th>\n",
       "      <th>median</th>\n",
       "      <th>mean_abs_deviation</th>\n",
       "      <th>median</th>\n",
       "    </tr>\n",
       "    <tr>\n",
       "      <th>source</th>\n",
       "      <th></th>\n",
       "      <th></th>\n",
       "      <th></th>\n",
       "      <th></th>\n",
       "      <th></th>\n",
       "      <th></th>\n",
       "      <th></th>\n",
       "      <th></th>\n",
       "      <th></th>\n",
       "      <th></th>\n",
       "      <th></th>\n",
       "      <th></th>\n",
       "      <th></th>\n",
       "      <th></th>\n",
       "      <th></th>\n",
       "    </tr>\n",
       "  </thead>\n",
       "  <tbody>\n",
       "    <tr>\n",
       "      <th>QM9</th>\n",
       "      <td>0.318080</td>\n",
       "      <td>0.004376</td>\n",
       "      <td>13026.0</td>\n",
       "      <td>0.319501</td>\n",
       "      <td>0.004337</td>\n",
       "      <td>13026.0</td>\n",
       "      <td>0.436004</td>\n",
       "      <td>0.005662</td>\n",
       "      <td>13026.0</td>\n",
       "      <td>1.855499</td>\n",
       "      <td>-8.33175</td>\n",
       "      <td>2.049051</td>\n",
       "      <td>-7.1551</td>\n",
       "      <td>3.278651</td>\n",
       "      <td>-7.32150</td>\n",
       "    </tr>\n",
       "    <tr>\n",
       "      <th>hydrocarbon</th>\n",
       "      <td>0.691150</td>\n",
       "      <td>0.111962</td>\n",
       "      <td>50.0</td>\n",
       "      <td>2.194995</td>\n",
       "      <td>0.125077</td>\n",
       "      <td>50.0</td>\n",
       "      <td>0.614861</td>\n",
       "      <td>0.088479</td>\n",
       "      <td>50.0</td>\n",
       "      <td>1.188924</td>\n",
       "      <td>-5.23745</td>\n",
       "      <td>0.876097</td>\n",
       "      <td>-4.9482</td>\n",
       "      <td>1.182210</td>\n",
       "      <td>1.67725</td>\n",
       "    </tr>\n",
       "    <tr>\n",
       "      <th>nonsugars</th>\n",
       "      <td>1.102874</td>\n",
       "      <td>0.077701</td>\n",
       "      <td>151.0</td>\n",
       "      <td>2.439539</td>\n",
       "      <td>0.119621</td>\n",
       "      <td>151.0</td>\n",
       "      <td>1.100049</td>\n",
       "      <td>0.084004</td>\n",
       "      <td>151.0</td>\n",
       "      <td>1.626477</td>\n",
       "      <td>-7.58860</td>\n",
       "      <td>1.584975</td>\n",
       "      <td>-7.2383</td>\n",
       "      <td>2.413245</td>\n",
       "      <td>-2.06770</td>\n",
       "    </tr>\n",
       "    <tr>\n",
       "      <th>sugar</th>\n",
       "      <td>1.651301</td>\n",
       "      <td>0.153793</td>\n",
       "      <td>168.0</td>\n",
       "      <td>1.480477</td>\n",
       "      <td>0.137952</td>\n",
       "      <td>168.0</td>\n",
       "      <td>2.082375</td>\n",
       "      <td>0.207083</td>\n",
       "      <td>168.0</td>\n",
       "      <td>2.109117</td>\n",
       "      <td>-7.22265</td>\n",
       "      <td>2.439686</td>\n",
       "      <td>-6.0908</td>\n",
       "      <td>5.122572</td>\n",
       "      <td>-4.71770</td>\n",
       "    </tr>\n",
       "  </tbody>\n",
       "</table>\n",
       "</div>"
      ],
      "text/plain": [
       "             sol_acn_error                             sol_dmso_error  \\\n",
       "            mean_abs_error mean_abs_error_sem      len mean_abs_error   \n",
       "source                                                                  \n",
       "QM9               0.318080           0.004376  13026.0       0.319501   \n",
       "hydrocarbon       0.691150           0.111962     50.0       2.194995   \n",
       "nonsugars         1.102874           0.077701    151.0       2.439539   \n",
       "sugar             1.651301           0.153793    168.0       1.480477   \n",
       "\n",
       "                                        sol_water_error                     \\\n",
       "            mean_abs_error_sem      len  mean_abs_error mean_abs_error_sem   \n",
       "source                                                                       \n",
       "QM9                   0.004337  13026.0        0.436004           0.005662   \n",
       "hydrocarbon           0.125077     50.0        0.614861           0.088479   \n",
       "nonsugars             0.119621    151.0        1.100049           0.084004   \n",
       "sugar                 0.137952    168.0        2.082375           0.207083   \n",
       "\n",
       "                                sol_acn                    sol_dmso          \\\n",
       "                 len mean_abs_deviation   median mean_abs_deviation  median   \n",
       "source                                                                        \n",
       "QM9          13026.0           1.855499 -8.33175           2.049051 -7.1551   \n",
       "hydrocarbon     50.0           1.188924 -5.23745           0.876097 -4.9482   \n",
       "nonsugars      151.0           1.626477 -7.58860           1.584975 -7.2383   \n",
       "sugar          168.0           2.109117 -7.22265           2.439686 -6.0908   \n",
       "\n",
       "                     sol_water           \n",
       "            mean_abs_deviation   median  \n",
       "source                                   \n",
       "QM9                   3.278651 -7.32150  \n",
       "hydrocarbon           1.182210  1.67725  \n",
       "nonsugars             2.413245 -2.06770  \n",
       "sugar                 5.122572 -4.71770  "
      ]
     },
     "execution_count": 19,
     "metadata": {},
     "output_type": "execute_result"
    }
   ],
   "source": [
    "data.groupby('source').agg(agg_funcs)"
   ]
  },
  {
   "cell_type": "code",
   "execution_count": 20,
   "metadata": {},
   "outputs": [
    {
     "data": {
      "text/html": [
       "<div>\n",
       "<style scoped>\n",
       "    .dataframe tbody tr th:only-of-type {\n",
       "        vertical-align: middle;\n",
       "    }\n",
       "\n",
       "    .dataframe tbody tr th {\n",
       "        vertical-align: top;\n",
       "    }\n",
       "\n",
       "    .dataframe thead tr th {\n",
       "        text-align: left;\n",
       "    }\n",
       "\n",
       "    .dataframe thead tr:last-of-type th {\n",
       "        text-align: right;\n",
       "    }\n",
       "</style>\n",
       "<table border=\"1\" class=\"dataframe\">\n",
       "  <thead>\n",
       "    <tr>\n",
       "      <th></th>\n",
       "      <th colspan=\"3\" halign=\"left\">sol_acn_error</th>\n",
       "      <th colspan=\"3\" halign=\"left\">sol_dmso_error</th>\n",
       "      <th colspan=\"3\" halign=\"left\">sol_water_error</th>\n",
       "      <th colspan=\"2\" halign=\"left\">sol_acn</th>\n",
       "      <th colspan=\"2\" halign=\"left\">sol_dmso</th>\n",
       "      <th colspan=\"2\" halign=\"left\">sol_water</th>\n",
       "    </tr>\n",
       "    <tr>\n",
       "      <th></th>\n",
       "      <th>mean_abs_error</th>\n",
       "      <th>mean_abs_error_sem</th>\n",
       "      <th>len</th>\n",
       "      <th>mean_abs_error</th>\n",
       "      <th>mean_abs_error_sem</th>\n",
       "      <th>len</th>\n",
       "      <th>mean_abs_error</th>\n",
       "      <th>mean_abs_error_sem</th>\n",
       "      <th>len</th>\n",
       "      <th>mean_abs_deviation</th>\n",
       "      <th>median</th>\n",
       "      <th>mean_abs_deviation</th>\n",
       "      <th>median</th>\n",
       "      <th>mean_abs_deviation</th>\n",
       "      <th>median</th>\n",
       "    </tr>\n",
       "    <tr>\n",
       "      <th>n_heavy_atoms</th>\n",
       "      <th></th>\n",
       "      <th></th>\n",
       "      <th></th>\n",
       "      <th></th>\n",
       "      <th></th>\n",
       "      <th></th>\n",
       "      <th></th>\n",
       "      <th></th>\n",
       "      <th></th>\n",
       "      <th></th>\n",
       "      <th></th>\n",
       "      <th></th>\n",
       "      <th></th>\n",
       "      <th></th>\n",
       "      <th></th>\n",
       "    </tr>\n",
       "  </thead>\n",
       "  <tbody>\n",
       "    <tr>\n",
       "      <th>2</th>\n",
       "      <td>0.221154</td>\n",
       "      <td>0.153750</td>\n",
       "      <td>2.0</td>\n",
       "      <td>0.219060</td>\n",
       "      <td>0.174665</td>\n",
       "      <td>2.0</td>\n",
       "      <td>0.181037</td>\n",
       "      <td>0.179816</td>\n",
       "      <td>2.0</td>\n",
       "      <td>0.343300</td>\n",
       "      <td>-2.26710</td>\n",
       "      <td>0.065250</td>\n",
       "      <td>-2.10015</td>\n",
       "      <td>1.328550</td>\n",
       "      <td>-2.06415</td>\n",
       "    </tr>\n",
       "    <tr>\n",
       "      <th>3</th>\n",
       "      <td>0.590055</td>\n",
       "      <td>0.316760</td>\n",
       "      <td>5.0</td>\n",
       "      <td>0.551485</td>\n",
       "      <td>0.312965</td>\n",
       "      <td>5.0</td>\n",
       "      <td>0.693895</td>\n",
       "      <td>0.408250</td>\n",
       "      <td>5.0</td>\n",
       "      <td>0.794352</td>\n",
       "      <td>-3.89940</td>\n",
       "      <td>1.112544</td>\n",
       "      <td>-3.79320</td>\n",
       "      <td>1.636816</td>\n",
       "      <td>-2.36210</td>\n",
       "    </tr>\n",
       "    <tr>\n",
       "      <th>4</th>\n",
       "      <td>0.702498</td>\n",
       "      <td>0.198476</td>\n",
       "      <td>12.0</td>\n",
       "      <td>0.692357</td>\n",
       "      <td>0.209982</td>\n",
       "      <td>12.0</td>\n",
       "      <td>0.871792</td>\n",
       "      <td>0.237136</td>\n",
       "      <td>12.0</td>\n",
       "      <td>0.940561</td>\n",
       "      <td>-4.24335</td>\n",
       "      <td>1.384992</td>\n",
       "      <td>-3.95830</td>\n",
       "      <td>2.064228</td>\n",
       "      <td>-3.31340</td>\n",
       "    </tr>\n",
       "    <tr>\n",
       "      <th>5</th>\n",
       "      <td>0.309450</td>\n",
       "      <td>0.111036</td>\n",
       "      <td>26.0</td>\n",
       "      <td>0.304325</td>\n",
       "      <td>0.097924</td>\n",
       "      <td>26.0</td>\n",
       "      <td>0.332576</td>\n",
       "      <td>0.140629</td>\n",
       "      <td>26.0</td>\n",
       "      <td>1.594491</td>\n",
       "      <td>-5.20645</td>\n",
       "      <td>1.870290</td>\n",
       "      <td>-4.29605</td>\n",
       "      <td>2.554527</td>\n",
       "      <td>-4.04540</td>\n",
       "    </tr>\n",
       "    <tr>\n",
       "      <th>6</th>\n",
       "      <td>0.219064</td>\n",
       "      <td>0.054741</td>\n",
       "      <td>71.0</td>\n",
       "      <td>0.217395</td>\n",
       "      <td>0.052007</td>\n",
       "      <td>71.0</td>\n",
       "      <td>0.281579</td>\n",
       "      <td>0.073250</td>\n",
       "      <td>71.0</td>\n",
       "      <td>1.398736</td>\n",
       "      <td>-5.92490</td>\n",
       "      <td>1.578738</td>\n",
       "      <td>-5.03320</td>\n",
       "      <td>2.452311</td>\n",
       "      <td>-4.10550</td>\n",
       "    </tr>\n",
       "    <tr>\n",
       "      <th>7</th>\n",
       "      <td>0.207390</td>\n",
       "      <td>0.016557</td>\n",
       "      <td>350.0</td>\n",
       "      <td>0.213378</td>\n",
       "      <td>0.016895</td>\n",
       "      <td>350.0</td>\n",
       "      <td>0.270570</td>\n",
       "      <td>0.020273</td>\n",
       "      <td>350.0</td>\n",
       "      <td>1.759617</td>\n",
       "      <td>-6.76885</td>\n",
       "      <td>1.986533</td>\n",
       "      <td>-5.87385</td>\n",
       "      <td>2.996241</td>\n",
       "      <td>-5.73025</td>\n",
       "    </tr>\n",
       "    <tr>\n",
       "      <th>8</th>\n",
       "      <td>0.241335</td>\n",
       "      <td>0.008093</td>\n",
       "      <td>1827.0</td>\n",
       "      <td>0.244021</td>\n",
       "      <td>0.007908</td>\n",
       "      <td>1827.0</td>\n",
       "      <td>0.324371</td>\n",
       "      <td>0.010442</td>\n",
       "      <td>1827.0</td>\n",
       "      <td>1.821869</td>\n",
       "      <td>-7.90090</td>\n",
       "      <td>2.015900</td>\n",
       "      <td>-6.85710</td>\n",
       "      <td>3.190150</td>\n",
       "      <td>-6.92400</td>\n",
       "    </tr>\n",
       "    <tr>\n",
       "      <th>9</th>\n",
       "      <td>0.335438</td>\n",
       "      <td>0.005037</td>\n",
       "      <td>10834.0</td>\n",
       "      <td>0.336415</td>\n",
       "      <td>0.004996</td>\n",
       "      <td>10834.0</td>\n",
       "      <td>0.460965</td>\n",
       "      <td>0.006514</td>\n",
       "      <td>10834.0</td>\n",
       "      <td>1.836696</td>\n",
       "      <td>-8.44740</td>\n",
       "      <td>2.037398</td>\n",
       "      <td>-7.25765</td>\n",
       "      <td>3.290146</td>\n",
       "      <td>-7.43860</td>\n",
       "    </tr>\n",
       "    <tr>\n",
       "      <th>10</th>\n",
       "      <td>0.946924</td>\n",
       "      <td>0.114363</td>\n",
       "      <td>106.0</td>\n",
       "      <td>1.855250</td>\n",
       "      <td>0.113034</td>\n",
       "      <td>106.0</td>\n",
       "      <td>1.193347</td>\n",
       "      <td>0.156252</td>\n",
       "      <td>106.0</td>\n",
       "      <td>1.787546</td>\n",
       "      <td>-6.76805</td>\n",
       "      <td>1.925458</td>\n",
       "      <td>-6.47525</td>\n",
       "      <td>4.588893</td>\n",
       "      <td>-1.99550</td>\n",
       "    </tr>\n",
       "    <tr>\n",
       "      <th>11</th>\n",
       "      <td>1.193946</td>\n",
       "      <td>0.166562</td>\n",
       "      <td>57.0</td>\n",
       "      <td>2.236826</td>\n",
       "      <td>0.136391</td>\n",
       "      <td>57.0</td>\n",
       "      <td>1.471779</td>\n",
       "      <td>0.229260</td>\n",
       "      <td>57.0</td>\n",
       "      <td>1.821995</td>\n",
       "      <td>-7.34170</td>\n",
       "      <td>1.809876</td>\n",
       "      <td>-7.28630</td>\n",
       "      <td>4.151102</td>\n",
       "      <td>-2.47970</td>\n",
       "    </tr>\n",
       "    <tr>\n",
       "      <th>12</th>\n",
       "      <td>2.678680</td>\n",
       "      <td>0.263930</td>\n",
       "      <td>60.0</td>\n",
       "      <td>3.311073</td>\n",
       "      <td>0.184525</td>\n",
       "      <td>60.0</td>\n",
       "      <td>3.356402</td>\n",
       "      <td>0.398198</td>\n",
       "      <td>60.0</td>\n",
       "      <td>2.160659</td>\n",
       "      <td>-8.44340</td>\n",
       "      <td>2.545555</td>\n",
       "      <td>-7.70165</td>\n",
       "      <td>7.609915</td>\n",
       "      <td>-3.04355</td>\n",
       "    </tr>\n",
       "    <tr>\n",
       "      <th>13</th>\n",
       "      <td>2.218122</td>\n",
       "      <td>0.307608</td>\n",
       "      <td>28.0</td>\n",
       "      <td>3.565263</td>\n",
       "      <td>0.337855</td>\n",
       "      <td>28.0</td>\n",
       "      <td>1.900908</td>\n",
       "      <td>0.350693</td>\n",
       "      <td>28.0</td>\n",
       "      <td>1.639456</td>\n",
       "      <td>-8.20960</td>\n",
       "      <td>1.698782</td>\n",
       "      <td>-7.67565</td>\n",
       "      <td>2.954796</td>\n",
       "      <td>-2.70615</td>\n",
       "    </tr>\n",
       "    <tr>\n",
       "      <th>14</th>\n",
       "      <td>2.794387</td>\n",
       "      <td>0.276529</td>\n",
       "      <td>17.0</td>\n",
       "      <td>3.878207</td>\n",
       "      <td>0.348980</td>\n",
       "      <td>17.0</td>\n",
       "      <td>2.160172</td>\n",
       "      <td>0.265138</td>\n",
       "      <td>17.0</td>\n",
       "      <td>0.714189</td>\n",
       "      <td>-9.38800</td>\n",
       "      <td>0.756409</td>\n",
       "      <td>-7.71630</td>\n",
       "      <td>1.629413</td>\n",
       "      <td>-1.71030</td>\n",
       "    </tr>\n",
       "  </tbody>\n",
       "</table>\n",
       "</div>"
      ],
      "text/plain": [
       "               sol_acn_error                             sol_dmso_error  \\\n",
       "              mean_abs_error mean_abs_error_sem      len mean_abs_error   \n",
       "n_heavy_atoms                                                             \n",
       "2                   0.221154           0.153750      2.0       0.219060   \n",
       "3                   0.590055           0.316760      5.0       0.551485   \n",
       "4                   0.702498           0.198476     12.0       0.692357   \n",
       "5                   0.309450           0.111036     26.0       0.304325   \n",
       "6                   0.219064           0.054741     71.0       0.217395   \n",
       "7                   0.207390           0.016557    350.0       0.213378   \n",
       "8                   0.241335           0.008093   1827.0       0.244021   \n",
       "9                   0.335438           0.005037  10834.0       0.336415   \n",
       "10                  0.946924           0.114363    106.0       1.855250   \n",
       "11                  1.193946           0.166562     57.0       2.236826   \n",
       "12                  2.678680           0.263930     60.0       3.311073   \n",
       "13                  2.218122           0.307608     28.0       3.565263   \n",
       "14                  2.794387           0.276529     17.0       3.878207   \n",
       "\n",
       "                                          sol_water_error                     \\\n",
       "              mean_abs_error_sem      len  mean_abs_error mean_abs_error_sem   \n",
       "n_heavy_atoms                                                                  \n",
       "2                       0.174665      2.0        0.181037           0.179816   \n",
       "3                       0.312965      5.0        0.693895           0.408250   \n",
       "4                       0.209982     12.0        0.871792           0.237136   \n",
       "5                       0.097924     26.0        0.332576           0.140629   \n",
       "6                       0.052007     71.0        0.281579           0.073250   \n",
       "7                       0.016895    350.0        0.270570           0.020273   \n",
       "8                       0.007908   1827.0        0.324371           0.010442   \n",
       "9                       0.004996  10834.0        0.460965           0.006514   \n",
       "10                      0.113034    106.0        1.193347           0.156252   \n",
       "11                      0.136391     57.0        1.471779           0.229260   \n",
       "12                      0.184525     60.0        3.356402           0.398198   \n",
       "13                      0.337855     28.0        1.900908           0.350693   \n",
       "14                      0.348980     17.0        2.160172           0.265138   \n",
       "\n",
       "                                  sol_acn                    sol_dmso  \\\n",
       "                   len mean_abs_deviation   median mean_abs_deviation   \n",
       "n_heavy_atoms                                                           \n",
       "2                  2.0           0.343300 -2.26710           0.065250   \n",
       "3                  5.0           0.794352 -3.89940           1.112544   \n",
       "4                 12.0           0.940561 -4.24335           1.384992   \n",
       "5                 26.0           1.594491 -5.20645           1.870290   \n",
       "6                 71.0           1.398736 -5.92490           1.578738   \n",
       "7                350.0           1.759617 -6.76885           1.986533   \n",
       "8               1827.0           1.821869 -7.90090           2.015900   \n",
       "9              10834.0           1.836696 -8.44740           2.037398   \n",
       "10               106.0           1.787546 -6.76805           1.925458   \n",
       "11                57.0           1.821995 -7.34170           1.809876   \n",
       "12                60.0           2.160659 -8.44340           2.545555   \n",
       "13                28.0           1.639456 -8.20960           1.698782   \n",
       "14                17.0           0.714189 -9.38800           0.756409   \n",
       "\n",
       "                                sol_water           \n",
       "                median mean_abs_deviation   median  \n",
       "n_heavy_atoms                                       \n",
       "2             -2.10015           1.328550 -2.06415  \n",
       "3             -3.79320           1.636816 -2.36210  \n",
       "4             -3.95830           2.064228 -3.31340  \n",
       "5             -4.29605           2.554527 -4.04540  \n",
       "6             -5.03320           2.452311 -4.10550  \n",
       "7             -5.87385           2.996241 -5.73025  \n",
       "8             -6.85710           3.190150 -6.92400  \n",
       "9             -7.25765           3.290146 -7.43860  \n",
       "10            -6.47525           4.588893 -1.99550  \n",
       "11            -7.28630           4.151102 -2.47970  \n",
       "12            -7.70165           7.609915 -3.04355  \n",
       "13            -7.67565           2.954796 -2.70615  \n",
       "14            -7.71630           1.629413 -1.71030  "
      ]
     },
     "execution_count": 20,
     "metadata": {},
     "output_type": "execute_result"
    }
   ],
   "source": [
    "data.groupby('n_heavy_atoms').agg(agg_funcs)"
   ]
  },
  {
   "cell_type": "code",
   "execution_count": 21,
   "metadata": {},
   "outputs": [
    {
     "data": {
      "image/png": "[encoded data removed]",
      "text/plain": [
       "<Figure size 468x180 with 2 Axes>"
      ]
     },
     "metadata": {
      "needs_background": "light"
     },
     "output_type": "display_data"
    }
   ],
   "source": [
    "fig, axs = plt.subplots(1, 2, figsize=(6.5, 2.5), sharey=True)\n",
    "\n",
    "# Plot the dependence on source\n",
    "analysis = data.groupby('source').agg(agg_funcs)\n",
    "x = np.arange(len(analysis))\n",
    "for i, c in enumerate(err_cols):\n",
    "    mad = analysis[c[:-6]]['mean_abs_deviation']\n",
    "    solvent = c.split(\"_\")[1]\n",
    "    axs[0].bar(x - 0.25 + i * 0.25, analysis[c]['mean_abs_error'], yerr=analysis[c]['mean_abs_error_sem'],\n",
    "              width=0.25, align='center', label=solvent.capitalize() if solvent=='water' else solvent.upper())\n",
    "axs[0].text(0.01, 0.9, '(a)', transform=axs[0].transAxes)\n",
    "axs[0].set_xticks(x)\n",
    "axs[0].set_xticklabels(analysis.index.str.capitalize(), rotation=12)\n",
    "axs[0].set_xlabel('Data Source')\n",
    "\n",
    "# Plot the atom count dependence\n",
    "analysis = data.query('n_heavy_atoms > 3').groupby('n_heavy_atoms').agg(agg_funcs)\n",
    "x = analysis.index.min() + np.arange(len(analysis))\n",
    "for i, c in enumerate(err_cols):\n",
    "    mad = analysis[c[:-6]]['mean_abs_deviation']\n",
    "    axs[1].bar(x - 0.25 + i * 0.25, analysis[c]['mean_abs_error'], yerr=analysis[c]['mean_abs_error_sem'],\n",
    "              width=0.25, align='center')\n",
    "axs[1].set_xlabel('Heavy Atom Count')\n",
    "axs[1].text(1, 0.9, '(b)', transform=axs[1].transAxes, ha='right')\n",
    "\n",
    "fig.legend(ncol=3, loc='upper center')\n",
    "\n",
    "axs[0].set_ylabel('MAE (kcal/mol)')\n",
    "\n",
    "fig.tight_layout()\n",
    "fig.savefig(os.path.join('figures', 'holdout-set-tests.png'), dpi=320)\n",
    "fig.savefig(os.path.join('figures', 'holdout-set-tests.eps'))"
   ]
  },
  {
   "cell_type": "markdown",
   "metadata": {},
   "source": [
    "## Compute Distance to Training Set\n",
    "We want to compute the distance of each point in the test set to the nearest entries in the training "
   ]
  },
  {
   "cell_type": "code",
   "execution_count": 22,
   "metadata": {},
   "outputs": [],
   "source": [
    "rep_model = GraphModel(inputs=model.inputs, outputs=model.get_layer('reduce_atom_to_mol_5').output)"
   ]
  },
  {
   "cell_type": "markdown",
   "metadata": {},
   "source": [
    "Compute the representations for the train and test sets"
   ]
  },
  {
   "cell_type": "code",
   "execution_count": 23,
   "metadata": {},
   "outputs": [
    {
     "name": "stdout",
     "output_type": "stream",
     "text": [
      "CPU times: user 15min 18s, sys: 12min 53s, total: 28min 11s\n",
      "Wall time: 12min 43s\n"
     ]
    }
   ],
   "source": [
    "%%time\n",
    "train_mols = run_model(rep_model, conv, train_data['smiles_0'], n_jobs=4)"
   ]
  },
  {
   "cell_type": "code",
   "execution_count": 24,
   "metadata": {},
   "outputs": [
    {
     "name": "stdout",
     "output_type": "stream",
     "text": [
      "CPU times: user 1min 45s, sys: 1min 35s, total: 3min 21s\n",
      "Wall time: 1min 39s\n"
     ]
    }
   ],
   "source": [
    "%%time\n",
    "test_mols = run_model(rep_model, conv, data['smiles'], n_jobs=4)"
   ]
  },
  {
   "cell_type": "markdown",
   "metadata": {},
   "source": [
    "Make the nearest neighbor computer on a reduced space"
   ]
  },
  {
   "cell_type": "code",
   "execution_count": null,
   "metadata": {},
   "outputs": [
    {
     "name": "stderr",
     "output_type": "stream",
     "text": [
      " 57%|█████▋    | 4/7 [06:21<04:45, 95.14s/it]"
     ]
    }
   ],
   "source": [
    "n_counts = [1, 2, 4, 8, 16, 32, 64]\n",
    "for n in tqdm(n_counts):\n",
    "    dim_reduction = Pipeline([\n",
    "        ('scale', MinMaxScaler()),\n",
    "        ('pca', PCA(128)),\n",
    "    ])\n",
    "    nn_computer = NearestNeighbors(n_neighbors=n, n_jobs=-1).fit(dim_reduction.fit_transform(train_mols))\n",
    "\n",
    "    data[f'train_dist_{n}'] = nn_computer.kneighbors(dim_reduction.transform(test_mols))[0].mean(axis=1)"
   ]
  },
  {
   "cell_type": "markdown",
   "metadata": {},
   "source": [
    "Plot the dependence of error on distance"
   ]
  },
  {
   "cell_type": "code",
   "execution_count": 30,
   "metadata": {},
   "outputs": [
    {
     "data": {
      "text/plain": [
       "Text(0, 0.5, 'Mean Error (kcal/mol)')"
      ]
     },
     "execution_count": 30,
     "metadata": {},
     "output_type": "execute_result"
    },
    {
     "data": {
      "image/png": "[encoded data removed]",
      "text/plain": [
       "<Figure size 252x187.2 with 1 Axes>"
      ]
     },
     "metadata": {
      "needs_background": "light"
     },
     "output_type": "display_data"
    }
   ],
   "source": [
    "fig, ax = plt.subplots(figsize=(3.5, 2.6))\n",
    "\n",
    "data['total_error'] = data[err_cols].abs().mean(axis=1)\n",
    "for n in n_counts:\n",
    "    dist_col = f'train_dist_{n}'\n",
    "    dist_mean, err_mean, err_sem = zip(*[(np.mean(s[dist_col]), np.mean(s['total_error']), sem(s['total_error'])) \n",
    "                                           for s in np.array_split(data.query('source != \"QM9\"').sort_values(dist_col), 8)])\n",
    "\n",
    "    ax.errorbar(dist_mean, err_mean, yerr=err_sem, label=f'k={n}')\n",
    "ax.set_xscale('log')\n",
    "ax.set_yscale('log')\n",
    "ax.legend()\n",
    "ax.set_xlabel('Mean Distance to k-Nearest Neighbors')\n",
    "ax.set_ylabel('Mean Error (kcal/mol)')"
   ]
  },
  {
   "cell_type": "markdown",
   "metadata": {},
   "source": [
    "*Finding*: The relationship between distance and error seems clearest for k=64"
   ]
  },
  {
   "cell_type": "code",
   "execution_count": 31,
   "metadata": {},
   "outputs": [
    {
     "data": {
      "image/png": "[encoded data removed]",
      "text/plain": [
       "<Figure size 252x144 with 1 Axes>"
      ]
     },
     "metadata": {
      "needs_background": "light"
     },
     "output_type": "display_data"
    }
   ],
   "source": [
    "fig, ax = plt.subplots(figsize=(3.5, 2))\n",
    "\n",
    "data['total_error'] = data[err_cols].abs().mean(axis=1)\n",
    "n=64\n",
    "dist_col = f'train_dist_{n}'\n",
    "dist_mean, dist_sem, err_mean, err_sem = zip(*[(np.mean(s[dist_col]), sem(s[dist_col]), np.mean(s['total_error']), sem(s['total_error'])) \n",
    "                                       for s in np.array_split(data.query('source != \"QM9\"').sort_values(dist_col), 16)])\n",
    "\n",
    "ax.errorbar(dist_mean, err_mean, xerr=dist_sem, yerr=err_sem, label=f'k={n}', marker='o', markersize=2.5\n",
    "            , linestyle=':', lw=0.7)\n",
    "ax.set_xscale('log', basex=10)\n",
    "ax.set_yscale('log')\n",
    "ax.set_xlabel('Mean Distance to Nearest Neighbors')\n",
    "ax.set_ylabel('MAE (kcal/mol)')\n",
    "fig.tight_layout()\n",
    "fig.savefig(os.path.join('figures', 'error-vs-distance.png'), dpi=320)\n",
    "fig.savefig(os.path.join('figures', 'error-vs-distance.eps'))"
   ]
  },
  {
   "cell_type": "markdown",
   "metadata": {},
   "source": [
    "*Finding*: There is indeed a clear relationship between MAE and the distance to the training set even for the larger molecules"
   ]
  },
  {
   "cell_type": "code",
   "execution_count": 32,
   "metadata": {},
   "outputs": [
    {
     "data": {
      "image/png": "[encoded data removed]",
      "text/plain": [
       "<Figure size 252x180 with 1 Axes>"
      ]
     },
     "metadata": {
      "needs_background": "light"
     },
     "output_type": "display_data"
    }
   ],
   "source": [
    "fig, ax = plt.subplots(figsize=(3.5, 2.5))\n",
    "\n",
    "distances = data.groupby('n_heavy_atoms')['train_dist_64'].agg([np.mean, sem])\n",
    "\n",
    "ax.bar(distances.index, distances['mean'], yerr=distances['sem'])\n",
    "\n",
    "ax.set_xlabel('Heavy Atom Count')\n",
    "ax.set_ylabel('Mean Training Set Distance')\n",
    "fig.tight_layout()"
   ]
  },
  {
   "cell_type": "code",
   "execution_count": null,
   "metadata": {},
   "outputs": [],
   "source": []
  }
 ],
 "metadata": {
  "kernelspec": {
   "display_name": "Python 3",
   "language": "python",
   "name": "python3"
  },
  "language_info": {
   "codemirror_mode": {
    "name": "ipython",
    "version": 3
   },
   "file_extension": ".py",
   "mimetype": "text/x-python",
   "name": "python",
   "nbconvert_exporter": "python",
   "pygments_lexer": "ipython3",
   "version": "3.6.8"
  }
 },
 "nbformat": 4,
 "nbformat_minor": 4
}
