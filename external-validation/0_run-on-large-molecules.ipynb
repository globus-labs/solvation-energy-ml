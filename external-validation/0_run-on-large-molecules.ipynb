{
 "cells": [
  {
   "cell_type": "markdown",
   "metadata": {},
   "source": [
    "# Run on Large Molecules\n",
    "We have the solvation energies for a few dozen large molecules in different solvents. We are going to use them as a test set.\n",
    "\n",
    "Given the need to scale to large molecules, we assess two different strategies: a model which predict solvation energy given the entire fingerprint of a molecule and a model which uses atomic-level contributions."
   ]
  },
  {
   "cell_type": "code",
   "execution_count": 1,
   "metadata": {},
   "outputs": [
    {
     "name": "stderr",
     "output_type": "stream",
     "text": [
      "Using TensorFlow backend.\n",
      "/lus/theta-fs0/projects/CSC249ADCD08/solvation-energy-ml/env/lib/python3.6/site-packages/tensorflow/python/framework/dtypes.py:526: FutureWarning: Passing (type, 1) or '1type' as a synonym of type is deprecated; in a future version of numpy, it will be understood as (type, (1,)) / '(1,)type'.\n",
      "  _np_qint8 = np.dtype([(\"qint8\", np.int8, 1)])\n",
      "/lus/theta-fs0/projects/CSC249ADCD08/solvation-energy-ml/env/lib/python3.6/site-packages/tensorflow/python/framework/dtypes.py:527: FutureWarning: Passing (type, 1) or '1type' as a synonym of type is deprecated; in a future version of numpy, it will be understood as (type, (1,)) / '(1,)type'.\n",
      "  _np_quint8 = np.dtype([(\"quint8\", np.uint8, 1)])\n",
      "/lus/theta-fs0/projects/CSC249ADCD08/solvation-energy-ml/env/lib/python3.6/site-packages/tensorflow/python/framework/dtypes.py:528: FutureWarning: Passing (type, 1) or '1type' as a synonym of type is deprecated; in a future version of numpy, it will be understood as (type, (1,)) / '(1,)type'.\n",
      "  _np_qint16 = np.dtype([(\"qint16\", np.int16, 1)])\n",
      "/lus/theta-fs0/projects/CSC249ADCD08/solvation-energy-ml/env/lib/python3.6/site-packages/tensorflow/python/framework/dtypes.py:529: FutureWarning: Passing (type, 1) or '1type' as a synonym of type is deprecated; in a future version of numpy, it will be understood as (type, (1,)) / '(1,)type'.\n",
      "  _np_quint16 = np.dtype([(\"quint16\", np.uint16, 1)])\n",
      "/lus/theta-fs0/projects/CSC249ADCD08/solvation-energy-ml/env/lib/python3.6/site-packages/tensorflow/python/framework/dtypes.py:530: FutureWarning: Passing (type, 1) or '1type' as a synonym of type is deprecated; in a future version of numpy, it will be understood as (type, (1,)) / '(1,)type'.\n",
      "  _np_qint32 = np.dtype([(\"qint32\", np.int32, 1)])\n",
      "/lus/theta-fs0/projects/CSC249ADCD08/solvation-energy-ml/env/lib/python3.6/site-packages/tensorflow/python/framework/dtypes.py:535: FutureWarning: Passing (type, 1) or '1type' as a synonym of type is deprecated; in a future version of numpy, it will be understood as (type, (1,)) / '(1,)type'.\n",
      "  np_resource = np.dtype([(\"resource\", np.ubyte, 1)])\n"
     ]
    }
   ],
   "source": [
    "%matplotlib inline\n",
    "from matplotlib import pyplot as plt\n",
    "from jcesr_ml.benchmark import dielectric_constants, load_benchmark_data\n",
    "from jcesr_ml.mpnn import set_custom_objects, run_model, GraphModel\n",
    "from sklearn.neighbors import NearestNeighbors\n",
    "from sklearn.pipeline import Pipeline\n",
    "from sklearn.decomposition import PCA\n",
    "from sklearn.preprocessing import MinMaxScaler\n",
    "from keras.models import load_model\n",
    "from scipy.stats import sem\n",
    "from tqdm import tqdm\n",
    "from multiprocessing import Pool\n",
    "from functools import partial\n",
    "from util import compute_dist_from_training_entry\n",
    "import pickle as pkl\n",
    "import pandas as pd\n",
    "import numpy as np\n",
    "import os"
   ]
  },
  {
   "cell_type": "markdown",
   "metadata": {},
   "source": [
    "Model to evaluate"
   ]
  },
  {
   "cell_type": "code",
   "execution_count": 2,
   "metadata": {},
   "outputs": [
    {
     "name": "stdout",
     "output_type": "stream",
     "text": [
      "WARNING:tensorflow:From /lus/theta-fs0/projects/CSC249ADCD08/solvation-energy-ml/env/lib/python3.6/site-packages/tensorflow/python/framework/op_def_library.py:263: colocate_with (from tensorflow.python.framework.ops) is deprecated and will be removed in a future version.\n",
      "Instructions for updating:\n",
      "Colocations handled automatically by placer.\n",
      "WARNING:tensorflow:From /lus/theta-fs0/projects/CSC249ADCD08/solvation-energy-ml/env/lib/python3.6/site-packages/tensorflow/python/ops/math_ops.py:3066: to_int32 (from tensorflow.python.ops.math_ops) is deprecated and will be removed in a future version.\n",
      "Instructions for updating:\n",
      "Use tf.cast instead.\n"
     ]
    },
    {
     "name": "stderr",
     "output_type": "stream",
     "text": [
      "/lus/theta-fs0/projects/CSC249ADCD08/solvation-energy-ml/env/lib/python3.6/site-packages/tensorflow/python/ops/gradients_impl.py:110: UserWarning: Converting sparse IndexedSlices to a dense Tensor of unknown shape. This may consume a large amount of memory.\n",
      "  \"Converting sparse IndexedSlices to a dense Tensor of unknown shape. \"\n"
     ]
    }
   ],
   "source": [
    "set_custom_objects()\n",
    "models = {\n",
    "    'molecule': load_model(os.path.join('..', 'mpnn', 'networks', 'dielectric-constant-softplus', '117232-entries',\n",
    "                                '128-nodes', '16384-batch_size', '1.00e-04-learning_rate', 'best_model.h5')),\n",
    "    'atomic-level': load_model(os.path.join('..', 'mpnn', 'networks', 'dielectric-constant-softplus-atomic-contrib', '117232-entries',\n",
    "                                '128-nodes', '16384-batch_size', '1.00e-04-learning_rate', 'best_model.h5'))\n",
    "}\n",
    "with open(os.path.join('..', 'mpnn', 'networks', 'dielectric-constant-softplus-atomic-contrib', 'converter.pkl'), 'rb') as fp:\n",
    "    conv = pkl.load(fp)"
   ]
  },
  {
   "cell_type": "markdown",
   "metadata": {},
   "source": [
    "## Load in the Datasets\n",
    "They are stored in our `data/output` directory"
   ]
  },
  {
   "cell_type": "code",
   "execution_count": 3,
   "metadata": {},
   "outputs": [],
   "source": [
    "data = pd.read_json(os.path.join('..', 'data', 'output', f'pdb_data.json'), lines=True)\n",
    "data['source'] = 'pdb'"
   ]
  },
  {
   "cell_type": "markdown",
   "metadata": {},
   "source": [
    "Add in the QM9 holdout set"
   ]
  },
  {
   "cell_type": "code",
   "execution_count": 4,
   "metadata": {},
   "outputs": [],
   "source": [
    "train_data, test_data = load_benchmark_data()\n",
    "test_data['source'] = 'QM9'\n",
    "test_data.rename(columns={'smiles_0': 'smiles', 'n_atom': 'n_atoms'}, inplace=True)\n",
    "data = pd.concat((data, test_data), ignore_index=True, sort=False)"
   ]
  },
  {
   "cell_type": "markdown",
   "metadata": {},
   "source": [
    "Some datasets include both the SMILES and composition in the SMILES string"
   ]
  },
  {
   "cell_type": "code",
   "execution_count": 5,
   "metadata": {},
   "outputs": [],
   "source": [
    "data['smiles'] = data['smiles'].apply(lambda x: x.split('\\t')[0])"
   ]
  },
  {
   "cell_type": "markdown",
   "metadata": {},
   "source": [
    "There is some overlap between the datasets"
   ]
  },
  {
   "cell_type": "code",
   "execution_count": 6,
   "metadata": {},
   "outputs": [
    {
     "name": "stdout",
     "output_type": "stream",
     "text": [
      "Loaded 13217 unique molecules\n"
     ]
    }
   ],
   "source": [
    "data.drop_duplicates('smiles', inplace=True)\n",
    "print(f'Loaded {len(data)} unique molecules')"
   ]
  },
  {
   "cell_type": "code",
   "execution_count": 7,
   "metadata": {},
   "outputs": [
    {
     "data": {
      "text/plain": [
       "QM9    13026\n",
       "pdb      191\n",
       "Name: source, dtype: int64"
      ]
     },
     "execution_count": 7,
     "metadata": {},
     "output_type": "execute_result"
    }
   ],
   "source": [
    "data['source'].value_counts()"
   ]
  },
  {
   "cell_type": "markdown",
   "metadata": {},
   "source": [
    "See how many have molecular motifs we have not yet observed.\n",
    "\n",
    "We first change the tokenizers used in the preprocessor out of training mode, so \n",
    "that they will assign unseen motifs a label of `1`. \n",
    "This will result in the DL model using a randomly-initialized embedding for that atom or bond type,\n",
    "in contrast to the learned embeddings for all other grops"
   ]
  },
  {
   "cell_type": "code",
   "execution_count": 8,
   "metadata": {},
   "outputs": [],
   "source": [
    "conv.atom_tokenizer.train = conv.bond_tokenizer.train = False"
   ]
  },
  {
   "cell_type": "code",
   "execution_count": 9,
   "metadata": {},
   "outputs": [],
   "source": [
    "def has_unseen_types(smiles: str) -> str:\n",
    "    \"\"\"Determine whether a molecule contains atom or bond types that\n",
    "    were not included in the training set\n",
    "    \n",
    "    Args:\n",
    "        smiles (str): SMILES string of a molecule\n",
    "    Returns:\n",
    "        (str) Label of whether it has new bonds or atom types\n",
    "    \"\"\"\n",
    "    features = conv.construct_feature_matrices(smiles)\n",
    "    \n",
    "    new_atoms = any(features['atom'] == 1)\n",
    "    new_bonds = any(features['bond'] == 1)\n",
    "    \n",
    "    if not (new_atoms or new_bonds):\n",
    "        return 'none'\n",
    "    elif new_atoms and not new_bonds:\n",
    "        return 'atoms'\n",
    "    elif not new_atoms and new_bonds:\n",
    "        return 'bonds'\n",
    "    else:\n",
    "        return 'atoms+bonds'"
   ]
  },
  {
   "cell_type": "code",
   "execution_count": 10,
   "metadata": {},
   "outputs": [],
   "source": [
    "data['unseen_types'] = data['smiles'].apply(has_unseen_types)"
   ]
  },
  {
   "cell_type": "code",
   "execution_count": 11,
   "metadata": {},
   "outputs": [
    {
     "data": {
      "text/plain": [
       "none     13209\n",
       "bonds        8\n",
       "Name: unseen_types, dtype: int64"
      ]
     },
     "execution_count": 11,
     "metadata": {},
     "output_type": "execute_result"
    }
   ],
   "source": [
    "data['unseen_types'].value_counts()"
   ]
  },
  {
   "cell_type": "code",
   "execution_count": 12,
   "metadata": {},
   "outputs": [
    {
     "data": {
      "text/plain": [
       "{\"(rdkit.Chem.rdchem.BondType.DOUBLE, True, False, ['N', 'N'])\",\n",
       " \"(rdkit.Chem.rdchem.BondType.SINGLE, False, False, ['F', 'N'])\",\n",
       " \"(rdkit.Chem.rdchem.BondType.SINGLE, False, False, ['N', 'N'])\",\n",
       " \"(rdkit.Chem.rdchem.BondType.SINGLE, False, False, ['O', 'O'])\",\n",
       " \"(rdkit.Chem.rdchem.BondType.SINGLE, True, False, ['N', 'N'])\"}"
      ]
     },
     "execution_count": 12,
     "metadata": {},
     "output_type": "execute_result"
    }
   ],
   "source": [
    "set(conv.bond_tokenizer.unknown)"
   ]
  },
  {
   "cell_type": "markdown",
   "metadata": {},
   "source": [
    "*Finding*: 8 of our molecules have unseen bonding types, which include conjugated N=N bonds annd O-O single bonds."
   ]
  },
  {
   "cell_type": "markdown",
   "metadata": {},
   "source": [
    "## Evaluate Model on this Data\n",
    "Run it for all solvents for which we have data for all solvents"
   ]
  },
  {
   "cell_type": "code",
   "execution_count": 13,
   "metadata": {},
   "outputs": [
    {
     "name": "stdout",
     "output_type": "stream",
     "text": [
      "Found 3 solvation energy columns\n"
     ]
    }
   ],
   "source": [
    "sol_cols = [x for x in data.columns if x.startswith('sol_') and not data[x].isnull().any()]\n",
    "print(f'Found {len(sol_cols)} solvation energy columns')"
   ]
  },
  {
   "cell_type": "markdown",
   "metadata": {},
   "source": [
    "Drop all unnecessary columns"
   ]
  },
  {
   "cell_type": "code",
   "execution_count": 14,
   "metadata": {},
   "outputs": [],
   "source": [
    "data = data[['smiles'] + sol_cols + ['source', 'n_heavy_atoms', 'n_atoms', 'name', 'unseen_types']]"
   ]
  },
  {
   "cell_type": "markdown",
   "metadata": {},
   "source": [
    "Modify the converter to produce entries for these solvents"
   ]
  },
  {
   "cell_type": "code",
   "execution_count": 15,
   "metadata": {},
   "outputs": [],
   "source": [
    "conv.dielectric_cnsts = [dielectric_constants[c] for c in sol_cols]"
   ]
  },
  {
   "cell_type": "markdown",
   "metadata": {},
   "source": [
    "Run the model and store the errors"
   ]
  },
  {
   "cell_type": "code",
   "execution_count": 16,
   "metadata": {},
   "outputs": [],
   "source": [
    "y_preds = dict((name, run_model(model, conv, data['smiles'])) for name, model in models.items())"
   ]
  },
  {
   "cell_type": "code",
   "execution_count": 17,
   "metadata": {},
   "outputs": [],
   "source": [
    "output = {}\n",
    "for name, y_pred in y_preds.items():\n",
    "    errors = (y_pred - data[sol_cols])\n",
    "    errors.rename(mapper=lambda x: x + '_error', axis=1, inplace=True)\n",
    "    err_cols = errors.columns\n",
    "    for n, v in zip([f'{x}_pred' for x in sol_cols], y_pred.T):\n",
    "        errors[n] = v\n",
    "    output[name] = pd.concat((data, errors), ignore_index=False, axis=1)"
   ]
  },
  {
   "cell_type": "markdown",
   "metadata": {},
   "source": [
    "Plot the total error histogram"
   ]
  },
  {
   "cell_type": "code",
   "execution_count": 18,
   "metadata": {},
   "outputs": [
    {
     "data": {
      "image/png": "[encoded data removed]",
      "text/plain": [
       "<Figure size 468x162 with 2 Axes>"
      ]
     },
     "metadata": {
      "needs_background": "light"
     },
     "output_type": "display_data"
    }
   ],
   "source": [
    "fig, axs = plt.subplots(1, 2, figsize=(6.5, 2.25), sharey=True)\n",
    "\n",
    "for ax, (name, subset) in zip(axs, output.items()):\n",
    "    errors = np.ravel(subset[err_cols])\n",
    "    ax.hist(errors, bins=64, range=(-2, 2))\n",
    "    ax.set_xlabel('Error (kcal/mol)')\n",
    "    ax.text(1, 0.95, f'MAE:{np.abs(errors).mean() : .2f} kcal/mol', \n",
    "            ha='right', va='top', transform=ax.transAxes)\n",
    "    ax.set_title(name)\n",
    "\n",
    "fig.tight_layout()"
   ]
  },
  {
   "cell_type": "markdown",
   "metadata": {},
   "source": [
    "Break it down by source and size"
   ]
  },
  {
   "cell_type": "code",
   "execution_count": 19,
   "metadata": {},
   "outputs": [],
   "source": [
    "def mean_abs_error(x):\n",
    "    return np.abs(x).mean()\n",
    "def mean_abs_error_sem(x):\n",
    "    return sem(np.abs(x))\n",
    "def mean_abs_deviation(x):\n",
    "    return np.abs(x - np.mean(x)).mean()\n",
    "funcs = [mean_abs_error, mean_abs_error_sem, len]"
   ]
  },
  {
   "cell_type": "code",
   "execution_count": 20,
   "metadata": {},
   "outputs": [],
   "source": [
    "agg_funcs = dict((x, funcs) for x in err_cols)\n",
    "agg_funcs.update(dict((x, [mean_abs_deviation, np.median]) for x in sol_cols))"
   ]
  },
  {
   "cell_type": "code",
   "execution_count": 21,
   "metadata": {},
   "outputs": [
    {
     "name": "stderr",
     "output_type": "stream",
     "text": [
      "/lus/theta-fs0/projects/CSC249ADCD08/solvation-energy-ml/env/lib/python3.6/site-packages/numpy/core/_methods.py:217: RuntimeWarning: Degrees of freedom <= 0 for slice\n",
      "  keepdims=keepdims)\n",
      "/lus/theta-fs0/projects/CSC249ADCD08/solvation-energy-ml/env/lib/python3.6/site-packages/numpy/core/_methods.py:209: RuntimeWarning: invalid value encountered in double_scalars\n",
      "  ret = ret.dtype.type(ret / rcount)\n"
     ]
    },
    {
     "data": {
      "image/png": "[encoded data removed]",
      "text/plain": [
       "<Figure size 468x324 with 4 Axes>"
      ]
     },
     "metadata": {
      "needs_background": "light"
     },
     "output_type": "display_data"
    }
   ],
   "source": [
    "fig, aaxs = plt.subplots(2, 2, figsize=(6.5, 4.5), sharey=True)\n",
    "\n",
    "# Loop over names\n",
    "for ni, (axs, (name, subset)) in enumerate(zip(aaxs.T, output.items())):\n",
    "    # Get the columns to include in the labels\n",
    "    labels = []\n",
    "\n",
    "    # Plot the dependence on source\n",
    "    analysis = subset.groupby('source').agg(agg_funcs)\n",
    "    x = np.arange(len(analysis))\n",
    "    for i, c in enumerate(err_cols):\n",
    "        mad = analysis[c[:-6]]['mean_abs_deviation']\n",
    "        solvent = c.split(\"_\")[1]\n",
    "        label=solvent.capitalize() if solvent=='water' else solvent.upper()\n",
    "        l = axs[0].bar(x - 0.25 + i * 0.25, analysis[c]['mean_abs_error'], yerr=analysis[c]['mean_abs_error_sem'],\n",
    "                  width=0.25, align='center')\n",
    "        labels.append((l, label))\n",
    "    axs[0].set_xticks(x)\n",
    "    axs[0].set_xticklabels(analysis.index.str.capitalize(), rotation=12)\n",
    "    axs[0].set_xlabel('Data Source')\n",
    "\n",
    "    # Plot the atom count dependence\n",
    "    analysis = subset.query('n_heavy_atoms > 3').groupby('n_heavy_atoms').agg(agg_funcs)\n",
    "    x = analysis.index.min() + np.arange(len(analysis))\n",
    "    for i, c in enumerate(err_cols):\n",
    "        mad = analysis[c[:-6]]['mean_abs_deviation']\n",
    "        axs[1].bar(x - 0.25 + i * 0.25, analysis[c]['mean_abs_error'], yerr=analysis[c]['mean_abs_error_sem'],\n",
    "                  width=0.25, align='center')\n",
    "    axs[1].set_xlabel('Heavy Atom Count')\n",
    "\n",
    "    axs[0].set_title(name)\n",
    "\n",
    "for i, ax in enumerate(np.ravel(aaxs)):\n",
    "    ax.text(0.01, 0.9, f'({chr(97+i)})', transform=ax.transAxes, ha='left')\n",
    "\n",
    "for ax in aaxs[:, 0]:\n",
    "    ax.set_ylabel('MAE (kcal/mol)')\n",
    "    \n",
    "aaxs[0, 1].legend(*zip(*labels), ncol=2, loc='upper right')\n",
    "\n",
    "fig.tight_layout()\n",
    "fig.savefig(os.path.join('figures', 'holdout-set-tests.png'), dpi=320)\n",
    "fig.savefig(os.path.join('figures', 'holdout-set-tests.eps'))"
   ]
  },
  {
   "cell_type": "markdown",
   "metadata": {},
   "source": [
    "Save a succinct summary of the non-QM9 predictions"
   ]
  },
  {
   "cell_type": "markdown",
   "metadata": {},
   "source": [
    "## Compute Distance to Training Set\n",
    "We want to compute the distance of each point in the test set to the nearest entries in the training "
   ]
  },
  {
   "cell_type": "markdown",
   "metadata": {},
   "source": [
    "### Molecular Fingerprint\n",
    "Assess the distance based on the full molecular fingerprint"
   ]
  },
  {
   "cell_type": "code",
   "execution_count": 22,
   "metadata": {},
   "outputs": [],
   "source": [
    "model = models['molecule']\n",
    "data = output['molecule']"
   ]
  },
  {
   "cell_type": "code",
   "execution_count": 23,
   "metadata": {},
   "outputs": [],
   "source": [
    "# reduce_atom_to_mol_5 is the layer that produces the molecular fingerprint\n",
    "#  I found it by printing the summary (model.summary())\n",
    "rep_model = GraphModel(inputs=model.inputs, outputs=model.get_layer('reduce_atom_to_mol_5').output)"
   ]
  },
  {
   "cell_type": "code",
   "execution_count": null,
   "metadata": {},
   "outputs": [],
   "source": [
    "rep_model.save('molecule-rep-model.h5')"
   ]
  },
  {
   "cell_type": "markdown",
   "metadata": {},
   "source": [
    "Compute the representations for the train and test sets"
   ]
  },
  {
   "cell_type": "code",
   "execution_count": 24,
   "metadata": {},
   "outputs": [
    {
     "name": "stdout",
     "output_type": "stream",
     "text": [
      "CPU times: user 37min 47s, sys: 4min 36s, total: 42min 23s\n",
      "Wall time: 1min 22s\n"
     ]
    }
   ],
   "source": [
    "%%time\n",
    "train_mols = run_model(rep_model, conv, train_data['smiles_0'], n_jobs=4)"
   ]
  },
  {
   "cell_type": "code",
   "execution_count": 25,
   "metadata": {},
   "outputs": [
    {
     "name": "stdout",
     "output_type": "stream",
     "text": [
      "CPU times: user 4min 17s, sys: 31 s, total: 4min 48s\n",
      "Wall time: 8.91 s\n"
     ]
    }
   ],
   "source": [
    "%%time\n",
    "test_mols = run_model(rep_model, conv, data['smiles'], n_jobs=4)"
   ]
  },
  {
   "cell_type": "markdown",
   "metadata": {},
   "source": [
    "Compute the distance to the 64 closest neighbors"
   ]
  },
  {
   "cell_type": "code",
   "execution_count": 26,
   "metadata": {},
   "outputs": [],
   "source": [
    "n_counts = [1, 2, 4, 8, 16, 32, 64]"
   ]
  },
  {
   "cell_type": "code",
   "execution_count": 27,
   "metadata": {},
   "outputs": [
    {
     "name": "stdout",
     "output_type": "stream",
     "text": [
      "CPU times: user 6h 6min 57s, sys: 2.01 s, total: 6h 6min 59s\n",
      "Wall time: 6min 44s\n"
     ]
    }
   ],
   "source": [
    "%%time\n",
    "dim_reduction = Pipeline([\n",
    "    ('scale', MinMaxScaler()),\n",
    "])\n",
    "nn_computer = NearestNeighbors(n_neighbors=max(n_counts), n_jobs=-1).fit(dim_reduction.fit_transform(train_mols))\n",
    "train_dists = nn_computer.kneighbors(dim_reduction.transform(test_mols))[0]"
   ]
  },
  {
   "cell_type": "code",
   "execution_count": 28,
   "metadata": {},
   "outputs": [],
   "source": [
    "for n in n_counts:\n",
    "    data[f'train_dist_{n}'] = train_dists[:, :n].mean(axis=1)"
   ]
  },
  {
   "cell_type": "markdown",
   "metadata": {},
   "source": [
    "Plot the dependence of error on distance"
   ]
  },
  {
   "cell_type": "code",
   "execution_count": 29,
   "metadata": {},
   "outputs": [
    {
     "data": {
      "text/plain": [
       "Text(0, 0.5, 'Mean Error (kcal/mol)')"
      ]
     },
     "execution_count": 29,
     "metadata": {},
     "output_type": "execute_result"
    },
    {
     "data": {
      "image/png": "[encoded data removed]",
      "text/plain": [
       "<Figure size 252x187.2 with 1 Axes>"
      ]
     },
     "metadata": {
      "needs_background": "light"
     },
     "output_type": "display_data"
    }
   ],
   "source": [
    "fig, ax = plt.subplots(figsize=(3.5, 2.6))\n",
    "\n",
    "data['total_error'] = output['molecule'][err_cols].abs().mean(axis=1)\n",
    "for n in n_counts:\n",
    "    dist_col = f'train_dist_{n}'\n",
    "    dist_mean, err_mean, err_sem = zip(*[(np.mean(s[dist_col]), np.mean(s['total_error']), sem(s['total_error'])) \n",
    "                                           for s in np.array_split(data.query('source != \"QM9\"').sort_values(dist_col), 8)])\n",
    "\n",
    "    ax.errorbar(dist_mean, err_mean, yerr=err_sem, label=f'k={n}')\n",
    "ax.set_xscale('log')\n",
    "ax.set_yscale('log')\n",
    "ax.legend()\n",
    "ax.set_xlabel('Mean Distance to k-Nearest Neighbors')\n",
    "ax.set_ylabel('Mean Error (kcal/mol)')"
   ]
  },
  {
   "cell_type": "markdown",
   "metadata": {},
   "source": [
    "*Finding*: The relationship between distance and error seems clearest for k=64"
   ]
  },
  {
   "cell_type": "code",
   "execution_count": 30,
   "metadata": {},
   "outputs": [
    {
     "data": {
      "image/png": "[encoded data removed]",
      "text/plain": [
       "<Figure size 252x144 with 1 Axes>"
      ]
     },
     "metadata": {
      "needs_background": "light"
     },
     "output_type": "display_data"
    }
   ],
   "source": [
    "fig, ax = plt.subplots(figsize=(3.5, 2))\n",
    "\n",
    "data['total_error'] = output['molecule'][err_cols].abs().mean(axis=1)\n",
    "n=64\n",
    "dist_col = f'train_dist_{n}'\n",
    "dist_mean, dist_sem, err_mean, err_sem = zip(*[(np.mean(s[dist_col]), sem(s[dist_col]), np.mean(s['total_error']), sem(s['total_error'])) \n",
    "                                       for s in np.array_split(data.query('source != \"QM9\"').sort_values(dist_col), 16)])\n",
    "\n",
    "ax.errorbar(dist_mean, err_mean, xerr=dist_sem, yerr=err_sem, label=f'k={n}', marker='o', markersize=2.5\n",
    "            , linestyle=':', lw=0.7)\n",
    "ax.set_xscale('log', basex=10)\n",
    "ax.set_yscale('log')\n",
    "ax.set_xlabel('Mean Distance to Nearest Neighbors')\n",
    "ax.set_ylabel('MAE (kcal/mol)')\n",
    "fig.tight_layout()\n",
    "fig.savefig(os.path.join('figures', 'error-vs-distance.png'), dpi=320)\n",
    "fig.savefig(os.path.join('figures', 'error-vs-distance.eps'))"
   ]
  },
  {
   "cell_type": "markdown",
   "metadata": {},
   "source": [
    "*Finding*: There is indeed a clear relationship between MAE and the distance to the training set even for the larger molecules\n",
    "\n",
    "Save the results"
   ]
  },
  {
   "cell_type": "code",
   "execution_count": 31,
   "metadata": {},
   "outputs": [],
   "source": [
    "data.to_csv('molecule.csv', index=False)"
   ]
  },
  {
   "cell_type": "markdown",
   "metadata": {},
   "source": [
    "Drop the large arrays from memory"
   ]
  },
  {
   "cell_type": "code",
   "execution_count": 32,
   "metadata": {},
   "outputs": [],
   "source": [
    "del train_dists, train_mols, test_mols"
   ]
  },
  {
   "cell_type": "markdown",
   "metadata": {},
   "source": [
    "### Atomic-Level Features\n",
    "We define the distance between molecules as the average distance of each atomic representation"
   ]
  },
  {
   "cell_type": "markdown",
   "metadata": {},
   "source": [
    "Get the atomic representation model"
   ]
  },
  {
   "cell_type": "code",
   "execution_count": 33,
   "metadata": {},
   "outputs": [],
   "source": [
    "model = models['atomic-level']\n",
    "data = output['atomic-level']"
   ]
  },
  {
   "cell_type": "code",
   "execution_count": 34,
   "metadata": {},
   "outputs": [
    {
     "data": {
      "text/plain": [
       "(None, 128)"
      ]
     },
     "execution_count": 34,
     "metadata": {},
     "output_type": "execute_result"
    }
   ],
   "source": [
    "rep_model = GraphModel(inputs=model.inputs, outputs=model.get_layer('dense_65').input)\n",
    "rep_model.output_shape"
   ]
  },
  {
   "cell_type": "code",
   "execution_count": 1,
   "metadata": {},
   "outputs": [
    {
     "ename": "NameError",
     "evalue": "name 'rep_model' is not defined",
     "output_type": "error",
     "traceback": [
      "\u001b[0;31m---------------------------------------------------------------------------\u001b[0m",
      "\u001b[0;31mNameError\u001b[0m                                 Traceback (most recent call last)",
      "\u001b[0;32m<ipython-input-1-30c38ba429ee>\u001b[0m in \u001b[0;36m<module>\u001b[0;34m\u001b[0m\n\u001b[0;32m----> 1\u001b[0;31m \u001b[0mrep_model\u001b[0m\u001b[0;34m.\u001b[0m\u001b[0msave\u001b[0m\u001b[0;34m(\u001b[0m\u001b[0;34m'atomic-rep-model.h5'\u001b[0m\u001b[0;34m)\u001b[0m\u001b[0;34m\u001b[0m\u001b[0;34m\u001b[0m\u001b[0m\n\u001b[0m",
      "\u001b[0;31mNameError\u001b[0m: name 'rep_model' is not defined"
     ]
    }
   ],
   "source": [
    "rep_model.save('atomic-rep-model.h5')"
   ]
  },
  {
   "cell_type": "markdown",
   "metadata": {},
   "source": [
    "Measure the distances for all atoms in the training set. \n",
    "\n",
    "The dataset of the features of all atoms is too expensive to hold in memory at once.\n",
    "So, we compute it in chunks"
   ]
  },
  {
   "cell_type": "code",
   "execution_count": 35,
   "metadata": {},
   "outputs": [],
   "source": [
    "test_reps = run_model(rep_model, conv, data['smiles'], n_jobs=4)\n",
    "test_reps = np.array_split(test_reps, data['n_atoms'].cumsum())[:-1]"
   ]
  },
  {
   "cell_type": "code",
   "execution_count": 36,
   "metadata": {},
   "outputs": [
    {
     "name": "stderr",
     "output_type": "stream",
     "text": [
      "100%|████████████████████████████████████████████████████████████████████████████████████████████████████████████████████████████████████████████████████████████████| 4/4 [17:35:39<00:00, 15834.86s/it]\n"
     ]
    }
   ],
   "source": [
    "train_dists = np.zeros((len(test_reps), max(n_counts))) + np.inf\n",
    "for train_chunk in tqdm(np.array_split(train_data[['smiles_0', 'n_atom']], 4)):\n",
    "    # Compute the molecular representation for this chunk\n",
    "    train_reps = run_model(rep_model, conv, train_chunk['smiles_0'], n_jobs=4)\n",
    "    train_reps = np.array_split(train_reps, train_chunk['n_atom'].cumsum())[:-1]\n",
    "    \n",
    "    # Compute the distances\n",
    "    new_train_dists = np.zeros((len(test_reps), len(train_chunk)))\n",
    "    with Pool(16) as pool:\n",
    "        for i, mol_a in enumerate(test_reps):\n",
    "            func = partial(compute_dist_from_training_entry, mol_a)\n",
    "            dists = pool.map(func, train_reps)\n",
    "            new_train_dists[i, :] = dists\n",
    "            \n",
    "    # Sort to get the top ones\n",
    "    temp = np.hstack((train_dists, new_train_dists))\n",
    "    temp.sort(axis=1)\n",
    "    train_dists = temp[:, :max(n_counts)]"
   ]
  },
  {
   "cell_type": "code",
   "execution_count": 37,
   "metadata": {},
   "outputs": [],
   "source": [
    "for n in n_counts:\n",
    "    data[f'train_dist_{n}'] = train_dists[:, :n].mean(axis=1)"
   ]
  },
  {
   "cell_type": "markdown",
   "metadata": {},
   "source": [
    "As above, plot the error as a function of distance"
   ]
  },
  {
   "cell_type": "code",
   "execution_count": 38,
   "metadata": {},
   "outputs": [
    {
     "data": {
      "image/png": "[encoded data removed]",
      "text/plain": [
       "<Figure size 252x144 with 1 Axes>"
      ]
     },
     "metadata": {
      "needs_background": "light"
     },
     "output_type": "display_data"
    }
   ],
   "source": [
    "fig, ax = plt.subplots(figsize=(3.5, 2))\n",
    "\n",
    "data['total_error'] = output['molecule'][err_cols].abs().mean(axis=1)\n",
    "n=64\n",
    "dist_col = f'train_dist_{n}'\n",
    "dist_mean, dist_sem, err_mean, err_sem = zip(*[(np.mean(s[dist_col]), sem(s[dist_col]), np.mean(s['total_error']), sem(s['total_error'])) \n",
    "                                       for s in np.array_split(data.sort_values(dist_col), 16)])\n",
    "\n",
    "ax.errorbar(dist_mean, err_mean, xerr=dist_sem, yerr=err_sem, label=f'k={n}', marker='o', markersize=2.5\n",
    "            , linestyle=':', lw=0.7)\n",
    "ax.set_xscale('log', basex=10)\n",
    "ax.set_yscale('log')\n",
    "ax.set_xlabel('Mean Distance to Nearest Neighbors')\n",
    "ax.set_ylabel('MAE (kcal/mol)')\n",
    "fig.tight_layout()"
   ]
  },
  {
   "cell_type": "markdown",
   "metadata": {},
   "source": [
    "Save distances to disk"
   ]
  },
  {
   "cell_type": "code",
   "execution_count": 39,
   "metadata": {},
   "outputs": [],
   "source": [
    "data.to_csv('atomic-fingerprints.csv', index=False)"
   ]
  }
 ],
 "metadata": {
  "kernelspec": {
   "display_name": "solv_ml",
   "language": "python",
   "name": "solv_ml"
  },
  "language_info": {
   "codemirror_mode": {
    "name": "ipython",
    "version": 3
   },
   "file_extension": ".py",
   "mimetype": "text/x-python",
   "name": "python",
   "nbconvert_exporter": "python",
   "pygments_lexer": "ipython3",
   "version": "3.6.8"
  }
 },
 "nbformat": 4,
 "nbformat_minor": 4
}
