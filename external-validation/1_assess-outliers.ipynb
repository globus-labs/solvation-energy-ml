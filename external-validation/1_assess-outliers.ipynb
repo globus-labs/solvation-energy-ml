{
 "cells": [
  {
   "cell_type": "markdown",
   "metadata": {},
   "source": [
    "# Assess Outliers\n",
    "Can we predict which molecules would be most likely to have large errors?"
   ]
  },
  {
   "cell_type": "code",
   "execution_count": 1,
   "metadata": {},
   "outputs": [],
   "source": [
    "%matplotlib inline\n",
    "from matplotlib import pyplot as plt\n",
    "from scipy.stats import sem\n",
    "import pickle as pkl\n",
    "import pandas as pd\n",
    "import numpy as np\n",
    "import os"
   ]
  },
  {
   "cell_type": "markdown",
   "metadata": {},
   "source": [
    "## Load in the Results\n",
    "We computed the error for different molecules in the hold-out sets and distance metrics based on their models"
   ]
  },
  {
   "cell_type": "code",
   "execution_count": 2,
   "metadata": {},
   "outputs": [],
   "source": [
    "data = dict((x, pd.read_csv(f'{x}.csv')) for x in ['molecule', 'atomic-fingerprints'])"
   ]
  },
  {
   "cell_type": "markdown",
   "metadata": {},
   "source": [
    "## Molecular Fingerprint\n",
    "Assess outliers for the molecular fingerprint"
   ]
  },
  {
   "cell_type": "code",
   "execution_count": 3,
   "metadata": {},
   "outputs": [],
   "source": [
    "subset = data['molecule']"
   ]
  },
  {
   "cell_type": "code",
   "execution_count": 4,
   "metadata": {},
   "outputs": [
    {
     "data": {
      "image/png": "[encoded data removed]",
      "text/plain": [
       "<Figure size 252x144 with 1 Axes>"
      ]
     },
     "metadata": {
      "needs_background": "light"
     },
     "output_type": "display_data"
    }
   ],
   "source": [
    "fig, ax = plt.subplots(figsize=(3.5, 2))\n",
    "\n",
    "n=4\n",
    "dist_col = f'train_dist_{n}'\n",
    "dist_mean, dist_sem, err_mean, err_sem = zip(*[(np.mean(s[dist_col]), sem(s[dist_col]), np.mean(s['sol_acn_error'].abs()), sem(s['sol_acn_error'].abs())) \n",
    "                                       for s in np.array_split(subset.sort_values(dist_col), 128)])\n",
    "\n",
    "ax.errorbar(dist_mean, err_mean, xerr=dist_sem, yerr=err_sem, label=f'k={n}', marker='o', \n",
    "            markersize=2.5, linestyle=':', lw=0.7)\n",
    "ax.set_xscale('log', basex=10)\n",
    "ax.set_yscale('log')\n",
    "ax.set_xlabel('Mean Distance to Nearest Neighbors')\n",
    "ax.set_ylabel('MAE (kcal/mol)')\n",
    "fig.tight_layout()\n",
    "fig.savefig(os.path.join('figures', 'error-vs-distance.png'), dpi=320)\n",
    "fig.savefig(os.path.join('figures', 'error-vs-distance.eps'))"
   ]
  },
  {
   "cell_type": "markdown",
   "metadata": {},
   "source": [
    "### Atomic-Level Features\n",
    "We define the distance between molecules as the average distance of each atomic representation"
   ]
  },
  {
   "cell_type": "code",
   "execution_count": 5,
   "metadata": {},
   "outputs": [],
   "source": [
    "subset = data['atomic-fingerprints']"
   ]
  },
  {
   "cell_type": "code",
   "execution_count": 6,
   "metadata": {},
   "outputs": [
    {
     "data": {
      "image/png": "[encoded data removed]",
      "text/plain": [
       "<Figure size 252x144 with 1 Axes>"
      ]
     },
     "metadata": {
      "needs_background": "light"
     },
     "output_type": "display_data"
    }
   ],
   "source": [
    "fig, ax = plt.subplots(figsize=(3.5, 2))\n",
    "\n",
    "n=1\n",
    "dist_col = f'train_dist_{n}'\n",
    "dist_mean, dist_sem, err_mean, err_sem = zip(*[(np.mean(s[dist_col]), sem(s[dist_col]), np.mean(s['sol_acn_error'].abs()), sem(s['sol_acn_error'].abs())) \n",
    "                                       for s in np.array_split(subset.sort_values(dist_col), 64)[2:]])\n",
    "\n",
    "ax.errorbar(dist_mean, err_mean, xerr=dist_sem, yerr=err_sem, label=f'k={n}', marker='o', \n",
    "            markersize=2.5, linestyle=':', lw=0.7)\n",
    "ax.set_xscale('log', basex=10)\n",
    "ax.set_yscale('log')\n",
    "ax.set_xlabel('Distance to Nearest Neighbor')\n",
    "ax.set_ylabel('MAE (kcal/mol)')\n",
    "fig.tight_layout()\n",
    "fig.savefig(os.path.join('figures', 'error-vs-distance_atomic.png'), dpi=320)\n",
    "fig.savefig(os.path.join('figures', 'error-vs-distance_atomic.eps'))"
   ]
  },
  {
   "cell_type": "markdown",
   "metadata": {},
   "source": [
    "Determine a \"cutoff for the total error?"
   ]
  },
  {
   "cell_type": "code",
   "execution_count": 7,
   "metadata": {},
   "outputs": [
    {
     "data": {
      "image/png": "[encoded data removed]",
      "text/plain": [
       "<Figure size 252x180 with 1 Axes>"
      ]
     },
     "metadata": {
      "needs_background": "light"
     },
     "output_type": "display_data"
    }
   ],
   "source": [
    "fig, ax = plt.subplots(figsize=(3.5, 2.5))\n",
    "\n",
    "n=1\n",
    "error_cutoff = 1 # kcal/mol\n",
    "dist_col = f'train_dist_{n}'\n",
    "dist_mean, dist_sem, err_mean, err_sem = zip(\n",
    "    *[(np.mean(s[dist_col]), sem(s[dist_col]), \n",
    "       np.mean(s['sol_acn_error'].abs() > error_cutoff) * 100, \n",
    "       sem(s['sol_acn_error'].abs() > error_cutoff) * 100) \n",
    "      for s in np.array_split(subset.sort_values(dist_col), 16)]\n",
    ")\n",
    "\n",
    "ax.errorbar(dist_mean, err_mean, xerr=dist_sem, yerr=err_sem,\n",
    "            label=f'k={n}', marker='o', \n",
    "            markersize=5, linestyle=':', lw=0.7)\n",
    "ax.set_xscale('log', basex=10)\n",
    "ax.set_xlabel('Distance to Nearest Neighbor')\n",
    "ax.set_ylim(0)\n",
    "ax.set_ylabel(f'Error >{error_cutoff: 0.1f} kcal/mol (%)')\n",
    "fig.tight_layout()\n",
    "fig.savefig(os.path.join('figures', 'error-vs-liklihood-bad.png'), dpi=320)\n",
    "fig.savefig(os.path.join('figures', 'error-vs-liklihood-bad.eps'))"
   ]
  },
  {
   "cell_type": "markdown",
   "metadata": {},
   "source": [
    "*Finding*: We can establish good cutoff for \"I'm expecting this error to be large\""
   ]
  },
  {
   "cell_type": "markdown",
   "metadata": {},
   "source": [
    "## Plot the Predictions on the Hold-Out Set\n",
    "Just to see if there are any particularly-noticable trends."
   ]
  },
  {
   "cell_type": "code",
   "execution_count": 8,
   "metadata": {},
   "outputs": [],
   "source": [
    "subset = data['atomic-fingerprints']"
   ]
  },
  {
   "cell_type": "code",
   "execution_count": 9,
   "metadata": {},
   "outputs": [
    {
     "data": {
      "text/plain": [
       "[<matplotlib.lines.Line2D at 0x7f533055cd30>]"
      ]
     },
     "execution_count": 9,
     "metadata": {},
     "output_type": "execute_result"
    },
    {
     "data": {
      "image/png": "[encoded data removed]",
      "text/plain": [
       "<Figure size 252x252 with 1 Axes>"
      ]
     },
     "metadata": {
      "needs_background": "light"
     },
     "output_type": "display_data"
    }
   ],
   "source": [
    "fig, ax = plt.subplots(figsize=(3.5, 3.5))\n",
    "\n",
    "no_qm9 = subset.query('source != \"QM9\"')\n",
    "ax.scatter(no_qm9['sol_acn'], no_qm9['sol_acn_pred'])\n",
    "\n",
    "ax.set_xlim(ax.get_xlim())\n",
    "ax.set_ylim(ax.get_xlim())\n",
    "ax.plot(ax.get_xlim(), ax.get_xlim(), 'k--')"
   ]
  },
  {
   "cell_type": "code",
   "execution_count": null,
   "metadata": {},
   "outputs": [],
   "source": []
  }
 ],
 "metadata": {
  "kernelspec": {
   "display_name": "solv_ml",
   "language": "python",
   "name": "solv_ml"
  },
  "language_info": {
   "codemirror_mode": {
    "name": "ipython",
    "version": 3
   },
   "file_extension": ".py",
   "mimetype": "text/x-python",
   "name": "python",
   "nbconvert_exporter": "python",
   "pygments_lexer": "ipython3",
   "version": "3.6.8"
  }
 },
 "nbformat": 4,
 "nbformat_minor": 4
}
