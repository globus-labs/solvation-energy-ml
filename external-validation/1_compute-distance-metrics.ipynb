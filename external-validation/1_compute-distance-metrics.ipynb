{
 "cells": [
  {
   "cell_type": "markdown",
   "metadata": {},
   "source": [
    "# Compute Distance Metrics\n",
    "Compute different distance metrics for molecules"
   ]
  },
  {
   "cell_type": "code",
   "execution_count": 1,
   "metadata": {},
   "outputs": [
    {
     "name": "stderr",
     "output_type": "stream",
     "text": [
      "Using TensorFlow backend.\n",
      "/lus/theta-fs0/projects/CSC249ADCD08/solvation-energy-ml/env/lib/python3.6/site-packages/tensorflow/python/framework/dtypes.py:526: FutureWarning: Passing (type, 1) or '1type' as a synonym of type is deprecated; in a future version of numpy, it will be understood as (type, (1,)) / '(1,)type'.\n",
      "  _np_qint8 = np.dtype([(\"qint8\", np.int8, 1)])\n",
      "/lus/theta-fs0/projects/CSC249ADCD08/solvation-energy-ml/env/lib/python3.6/site-packages/tensorflow/python/framework/dtypes.py:527: FutureWarning: Passing (type, 1) or '1type' as a synonym of type is deprecated; in a future version of numpy, it will be understood as (type, (1,)) / '(1,)type'.\n",
      "  _np_quint8 = np.dtype([(\"quint8\", np.uint8, 1)])\n",
      "/lus/theta-fs0/projects/CSC249ADCD08/solvation-energy-ml/env/lib/python3.6/site-packages/tensorflow/python/framework/dtypes.py:528: FutureWarning: Passing (type, 1) or '1type' as a synonym of type is deprecated; in a future version of numpy, it will be understood as (type, (1,)) / '(1,)type'.\n",
      "  _np_qint16 = np.dtype([(\"qint16\", np.int16, 1)])\n",
      "/lus/theta-fs0/projects/CSC249ADCD08/solvation-energy-ml/env/lib/python3.6/site-packages/tensorflow/python/framework/dtypes.py:529: FutureWarning: Passing (type, 1) or '1type' as a synonym of type is deprecated; in a future version of numpy, it will be understood as (type, (1,)) / '(1,)type'.\n",
      "  _np_quint16 = np.dtype([(\"quint16\", np.uint16, 1)])\n",
      "/lus/theta-fs0/projects/CSC249ADCD08/solvation-energy-ml/env/lib/python3.6/site-packages/tensorflow/python/framework/dtypes.py:530: FutureWarning: Passing (type, 1) or '1type' as a synonym of type is deprecated; in a future version of numpy, it will be understood as (type, (1,)) / '(1,)type'.\n",
      "  _np_qint32 = np.dtype([(\"qint32\", np.int32, 1)])\n",
      "/lus/theta-fs0/projects/CSC249ADCD08/solvation-energy-ml/env/lib/python3.6/site-packages/tensorflow/python/framework/dtypes.py:535: FutureWarning: Passing (type, 1) or '1type' as a synonym of type is deprecated; in a future version of numpy, it will be understood as (type, (1,)) / '(1,)type'.\n",
      "  np_resource = np.dtype([(\"resource\", np.ubyte, 1)])\n"
     ]
    }
   ],
   "source": [
    "%matplotlib inline\n",
    "from matplotlib import pyplot as plt\n",
    "from jcesr_ml.benchmark import load_benchmark_data\n",
    "from jcesr_ml.mpnn import set_custom_objects, run_model, GraphModel\n",
    "from rdkit import Chem\n",
    "from rdkit.Chem import AllChem, DataStructs\n",
    "from keras.models import load_model\n",
    "from sklearn.neighbors import NearestNeighbors\n",
    "from sklearn.pipeline import Pipeline\n",
    "from sklearn.decomposition import PCA\n",
    "from sklearn.preprocessing import MinMaxScaler\n",
    "from multiprocessing import Pool\n",
    "from scipy.stats import sem\n",
    "from functools import partial\n",
    "from util import (compute_dist_from_training_entry_mpnn, compute_sim_to_training_entry_tanimoto,\n",
    "                  has_stereoisomers)\n",
    "from glob import glob\n",
    "from tqdm import tqdm\n",
    "import pickle as pkl\n",
    "import pandas as pd\n",
    "import numpy as np\n",
    "import json\n",
    "import os"
   ]
  },
  {
   "cell_type": "markdown",
   "metadata": {},
   "source": [
    "Configuration"
   ]
  },
  {
   "cell_type": "code",
   "execution_count": 2,
   "metadata": {},
   "outputs": [],
   "source": [
    "set_custom_objects()\n",
    "n_threads = min(32, os.cpu_count())\n",
    "n_counts = [1, 2, 4, 8, 16, 32, 64]"
   ]
  },
  {
   "cell_type": "code",
   "execution_count": 3,
   "metadata": {},
   "outputs": [],
   "source": [
    "with open('error-columns.json') as fp:\n",
    "    err_cols = json.load(fp)"
   ]
  },
  {
   "cell_type": "markdown",
   "metadata": {},
   "source": [
    "## Load in the Model and Data\n",
    "We have specified the model and data to use for this test in a previous notebook. Here, we load them back in"
   ]
  },
  {
   "cell_type": "code",
   "execution_count": 4,
   "metadata": {},
   "outputs": [
    {
     "name": "stdout",
     "output_type": "stream",
     "text": [
      "Found 3 models\n"
     ]
    }
   ],
   "source": [
    "model_list = list(glob(os.path.join('models', '*')))\n",
    "print(f'Found {len(model_list)} models')"
   ]
  },
  {
   "cell_type": "code",
   "execution_count": 5,
   "metadata": {},
   "outputs": [
    {
     "name": "stdout",
     "output_type": "stream",
     "text": [
      "WARNING:tensorflow:From /lus/theta-fs0/projects/CSC249ADCD08/solvation-energy-ml/env/lib/python3.6/site-packages/tensorflow/python/ops/resource_variable_ops.py:435: colocate_with (from tensorflow.python.framework.ops) is deprecated and will be removed in a future version.\n",
      "Instructions for updating:\n",
      "Colocations handled automatically by placer.\n",
      "WARNING:tensorflow:From /lus/theta-fs0/projects/CSC249ADCD08/solvation-energy-ml/env/lib/python3.6/site-packages/tensorflow/python/ops/math_ops.py:3066: to_int32 (from tensorflow.python.ops.math_ops) is deprecated and will be removed in a future version.\n",
      "Instructions for updating:\n",
      "Use tf.cast instead.\n"
     ]
    },
    {
     "name": "stderr",
     "output_type": "stream",
     "text": [
      "/lus/theta-fs0/projects/CSC249ADCD08/solvation-energy-ml/env/lib/python3.6/site-packages/tensorflow/python/ops/gradients_impl.py:110: UserWarning: Converting sparse IndexedSlices to a dense Tensor of unknown shape. This may consume a large amount of memory.\n",
      "  \"Converting sparse IndexedSlices to a dense Tensor of unknown shape. \"\n"
     ]
    }
   ],
   "source": [
    "models = {}\n",
    "test_set = {}\n",
    "convs = {}\n",
    "for m in model_list:\n",
    "    name = os.path.basename(m)\n",
    "    test_set[name] = pd.read_csv(os.path.join('test-sets', f'{name}.csv'))\n",
    "    models[name] = load_model(os.path.join(m, 'best_model.h5'))\n",
    "    with open(os.path.join(m, 'converter.pkl'), 'rb') as fp:\n",
    "        convs[name] = pkl.load(fp)"
   ]
  },
  {
   "cell_type": "markdown",
   "metadata": {},
   "source": [
    "Ensure the list of known atom types does not change"
   ]
  },
  {
   "cell_type": "code",
   "execution_count": 6,
   "metadata": {},
   "outputs": [],
   "source": [
    "for conv in convs.values():\n",
    "    conv.atom_tokenizer.train = conv.bond_tokenizer.train = False"
   ]
  },
  {
   "cell_type": "markdown",
   "metadata": {},
   "source": [
    "Compute total error"
   ]
  },
  {
   "cell_type": "code",
   "execution_count": 7,
   "metadata": {},
   "outputs": [],
   "source": [
    "for v in test_set.values():\n",
    "    v['total_error'] = v[err_cols].abs().mean(axis=1)"
   ]
  },
  {
   "cell_type": "markdown",
   "metadata": {},
   "source": [
    "## Label if Molecule has Stereoisomers\n",
    "Using RDKit to count the number of stereoisomers"
   ]
  },
  {
   "cell_type": "code",
   "execution_count": 8,
   "metadata": {},
   "outputs": [
    {
     "name": "stderr",
     "output_type": "stream",
     "text": [
      "100%|██████████████████████████████████████████████████████████████████████████████████████████████████████| 13217/13217 [06:22<00:00, 34.55it/s]\n"
     ]
    }
   ],
   "source": [
    "with Pool(n_threads) as p:\n",
    "    with_isomers = p.map(has_stereoisomers, tqdm(test_set['molecular-fingerprint']['smiles']))"
   ]
  },
  {
   "cell_type": "markdown",
   "metadata": {},
   "source": [
    "Add them to the datasets"
   ]
  },
  {
   "cell_type": "code",
   "execution_count": 9,
   "metadata": {},
   "outputs": [],
   "source": [
    "for v in test_set.values():\n",
    "    v['has_conformers'] = with_isomers"
   ]
  },
  {
   "cell_type": "markdown",
   "metadata": {},
   "source": [
    "## Compute Distance to Training Set\n",
    "We want to compute the distance of each point in the test set to the nearest entries in the training "
   ]
  },
  {
   "cell_type": "code",
   "execution_count": 10,
   "metadata": {},
   "outputs": [],
   "source": [
    "train_data, _ = load_benchmark_data()"
   ]
  },
  {
   "cell_type": "markdown",
   "metadata": {},
   "source": [
    "### Tamimoto Similarity using Morgan Fingerprint\n",
    "Pretty standard approach using RDKit"
   ]
  },
  {
   "cell_type": "code",
   "execution_count": 11,
   "metadata": {},
   "outputs": [
    {
     "name": "stderr",
     "output_type": "stream",
     "text": [
      "100%|████████████████████████████████████████████████████████████████████████████████████████████████████| 13217/13217 [2:02:47<00:00,  1.79it/s]\n"
     ]
    }
   ],
   "source": [
    "with Pool(n_threads) as p:\n",
    "    func = partial(compute_sim_to_training_entry_tanimoto, train_smiles=train_data['smiles_0'].tolist(), n_nearest=n_counts)\n",
    "    tanimoto_sims = p.map(func, tqdm(test_set['atomic-contribution']['smiles']))"
   ]
  },
  {
   "cell_type": "code",
   "execution_count": 12,
   "metadata": {},
   "outputs": [],
   "source": [
    "tan_sims = pd.DataFrame(tanimoto_sims, columns=[f'tan_sim_{k}' for k in n_counts])"
   ]
  },
  {
   "cell_type": "markdown",
   "metadata": {},
   "source": [
    "Append them to the test sets"
   ]
  },
  {
   "cell_type": "code",
   "execution_count": 13,
   "metadata": {},
   "outputs": [],
   "source": [
    "for k, v in test_set.items():\n",
    "    test_set[k] = pd.concat([v, tan_sims], axis=1)"
   ]
  },
  {
   "cell_type": "markdown",
   "metadata": {},
   "source": [
    "Plot out the error as a function of sim"
   ]
  },
  {
   "cell_type": "code",
   "execution_count": 14,
   "metadata": {},
   "outputs": [
    {
     "data": {
      "image/png": "[encoded data removed]",
      "text/plain": [
       "<Figure size 252x144 with 1 Axes>"
      ]
     },
     "metadata": {
      "needs_background": "light"
     },
     "output_type": "display_data"
    }
   ],
   "source": [
    "fig, ax = plt.subplots(figsize=(3.5, 2))\n",
    "\n",
    "data = test_set['atomic-contribution']\n",
    "n=32\n",
    "dist_col = f'tan_sim_{n}'\n",
    "dist_mean, dist_sem, err_mean, err_sem = zip(*[(np.mean(s[dist_col]), sem(s[dist_col]), np.mean(s['total_error']), sem(s['total_error'])) \n",
    "                                       for s in np.array_split(data.sort_values(dist_col), 16)])\n",
    "\n",
    "ax.errorbar(dist_mean, err_mean, xerr=dist_sem, yerr=err_sem, label=f'k={n}', marker='o', markersize=2.5\n",
    "            , linestyle=':', lw=0.7)\n",
    "#ax.set_xscale('log', basex=10)\n",
    "\n",
    "ax.set_xlabel('Mean Similarity to Nearest Neighbors')\n",
    "ax.set_ylabel('MAE (kcal/mol)')\n",
    "fig.tight_layout()"
   ]
  },
  {
   "cell_type": "markdown",
   "metadata": {},
   "source": [
    "### Molecular Fingerprint from MPNN\n",
    "Assess the distance based on the full molecular fingerprint"
   ]
  },
  {
   "cell_type": "code",
   "execution_count": 15,
   "metadata": {},
   "outputs": [],
   "source": [
    "model = models['molecular-fingerprint']\n",
    "data = test_set['molecular-fingerprint']\n",
    "conv = convs['molecular-fingerprint']"
   ]
  },
  {
   "cell_type": "code",
   "execution_count": 16,
   "metadata": {},
   "outputs": [],
   "source": [
    "# reduce_atom_to_mol_6 is the layer that produces the molecular fingerprint\n",
    "#  I found it by printing the summary (model.summary())\n",
    "rep_model = GraphModel(inputs=model.inputs, outputs=model.get_layer('reduce_atom_to_mol_6').output)"
   ]
  },
  {
   "cell_type": "code",
   "execution_count": 17,
   "metadata": {},
   "outputs": [],
   "source": [
    "rep_model.save('molecule-rep-model.h5')"
   ]
  },
  {
   "cell_type": "markdown",
   "metadata": {},
   "source": [
    "Compute the representations for the train and test sets"
   ]
  },
  {
   "cell_type": "code",
   "execution_count": 18,
   "metadata": {},
   "outputs": [
    {
     "name": "stdout",
     "output_type": "stream",
     "text": [
      "CPU times: user 38min 41s, sys: 4min 48s, total: 43min 30s\n",
      "Wall time: 1min 21s\n"
     ]
    }
   ],
   "source": [
    "%%time\n",
    "train_mols = run_model(rep_model, conv, train_data['smiles_0'], n_jobs=4)"
   ]
  },
  {
   "cell_type": "code",
   "execution_count": 19,
   "metadata": {},
   "outputs": [
    {
     "name": "stdout",
     "output_type": "stream",
     "text": [
      "CPU times: user 4min 21s, sys: 31.9 s, total: 4min 53s\n",
      "Wall time: 9.59 s\n"
     ]
    }
   ],
   "source": [
    "%%time\n",
    "test_mols = run_model(rep_model, conv, data['smiles'], n_jobs=4)"
   ]
  },
  {
   "cell_type": "markdown",
   "metadata": {},
   "source": [
    "Compute the distance to the 64 closest neighbors"
   ]
  },
  {
   "cell_type": "code",
   "execution_count": 20,
   "metadata": {},
   "outputs": [
    {
     "name": "stdout",
     "output_type": "stream",
     "text": [
      "CPU times: user 3h 59min 35s, sys: 15 s, total: 3h 59min 50s\n",
      "Wall time: 4min 9s\n"
     ]
    }
   ],
   "source": [
    "%%time\n",
    "dim_reduction = Pipeline([\n",
    "    ('scale', MinMaxScaler()),\n",
    "])\n",
    "nn_computer = NearestNeighbors(n_neighbors=max(n_counts), n_jobs=-1).fit(dim_reduction.fit_transform(train_mols))\n",
    "train_dists = nn_computer.kneighbors(dim_reduction.transform(test_mols))[0]"
   ]
  },
  {
   "cell_type": "code",
   "execution_count": 21,
   "metadata": {},
   "outputs": [],
   "source": [
    "for subset in test_set.values():\n",
    "    for n in n_counts:\n",
    "        subset[f'train_dist_mol_{n}'] = train_dists[:, :n].mean(axis=1)"
   ]
  },
  {
   "cell_type": "markdown",
   "metadata": {},
   "source": [
    "Plot the dependence of error on distance"
   ]
  },
  {
   "cell_type": "code",
   "execution_count": 22,
   "metadata": {},
   "outputs": [
    {
     "data": {
      "text/plain": [
       "Text(0, 0.5, 'Mean Error (kcal/mol)')"
      ]
     },
     "execution_count": 22,
     "metadata": {},
     "output_type": "execute_result"
    },
    {
     "data": {
      "image/png": "[encoded data removed]",
      "text/plain": [
       "<Figure size 252x187.2 with 1 Axes>"
      ]
     },
     "metadata": {
      "needs_background": "light"
     },
     "output_type": "display_data"
    }
   ],
   "source": [
    "fig, ax = plt.subplots(figsize=(3.5, 2.6))\n",
    "\n",
    "for n in n_counts:\n",
    "    dist_col = f'train_dist_mol_{n}'\n",
    "    dist_mean, err_mean, err_sem = zip(*[(np.mean(s[dist_col]), np.mean(s['total_error']), sem(s['total_error'])) \n",
    "                                           for s in np.array_split(data.query('source != \"QM9\"').sort_values(dist_col), 8)])\n",
    "\n",
    "    ax.errorbar(dist_mean, err_mean, yerr=err_sem, label=f'k={n}')\n",
    "ax.set_xscale('log')\n",
    "ax.set_yscale('log')\n",
    "ax.legend()\n",
    "ax.set_xlabel('Mean Distance to k-Nearest Neighbors')\n",
    "ax.set_ylabel('Mean Error (kcal/mol)')"
   ]
  },
  {
   "cell_type": "markdown",
   "metadata": {},
   "source": [
    "*Finding*: The relationship between distance and error seems clearest for k=64"
   ]
  },
  {
   "cell_type": "code",
   "execution_count": 23,
   "metadata": {},
   "outputs": [
    {
     "data": {
      "image/png": "[encoded data removed]",
      "text/plain": [
       "<Figure size 252x144 with 1 Axes>"
      ]
     },
     "metadata": {
      "needs_background": "light"
     },
     "output_type": "display_data"
    }
   ],
   "source": [
    "fig, ax = plt.subplots(figsize=(3.5, 2))\n",
    "\n",
    "n=64\n",
    "dist_col = f'train_dist_mol_{n}'\n",
    "dist_mean, dist_sem, err_mean, err_sem = zip(*[(np.mean(s[dist_col]), sem(s[dist_col]), np.mean(s['total_error']), sem(s['total_error'])) \n",
    "                                       for s in np.array_split(data.query('source != \"QM9\"').sort_values(dist_col), 16)])\n",
    "\n",
    "ax.errorbar(dist_mean, err_mean, xerr=dist_sem, yerr=err_sem, label=f'k={n}', marker='o', markersize=2.5\n",
    "            , linestyle=':', lw=0.7)\n",
    "ax.set_xscale('log', basex=10)\n",
    "ax.set_yscale('log')\n",
    "ax.set_xlabel('Mean Distance to Nearest Neighbors')\n",
    "ax.set_ylabel('MAE (kcal/mol)')\n",
    "fig.tight_layout()\n",
    "fig.savefig(os.path.join('figures', 'error-vs-distance.png'), dpi=320)\n",
    "fig.savefig(os.path.join('figures', 'error-vs-distance.eps'))"
   ]
  },
  {
   "cell_type": "markdown",
   "metadata": {},
   "source": [
    "Drop the large arrays from memory"
   ]
  },
  {
   "cell_type": "code",
   "execution_count": 24,
   "metadata": {},
   "outputs": [],
   "source": [
    "del train_dists, train_mols, test_mols"
   ]
  },
  {
   "cell_type": "markdown",
   "metadata": {},
   "source": [
    "### Atomic-Level Features\n",
    "We define the distance between molecules as the average distance of each atomic representation"
   ]
  },
  {
   "cell_type": "markdown",
   "metadata": {},
   "source": [
    "Get the atomic representation model"
   ]
  },
  {
   "cell_type": "code",
   "execution_count": 25,
   "metadata": {},
   "outputs": [],
   "source": [
    "model = models['atomic-contribution']\n",
    "data = test_set['atomic-contribution']\n",
    "conv = convs['atomic-contribution']"
   ]
  },
  {
   "cell_type": "code",
   "execution_count": 26,
   "metadata": {},
   "outputs": [
    {
     "data": {
      "text/plain": [
       "(None, 128)"
      ]
     },
     "execution_count": 26,
     "metadata": {},
     "output_type": "execute_result"
    }
   ],
   "source": [
    "rep_model = GraphModel(inputs=model.inputs, outputs=model.get_layer('dense_61').input)\n",
    "rep_model.output_shape"
   ]
  },
  {
   "cell_type": "code",
   "execution_count": 27,
   "metadata": {},
   "outputs": [],
   "source": [
    "rep_model.save('atomic-rep-model.h5')"
   ]
  },
  {
   "cell_type": "markdown",
   "metadata": {},
   "source": [
    "Measure the distances for all atoms in the training set. \n",
    "\n",
    "The dataset of the features of all atoms is too expensive to hold in memory at once.\n",
    "So, we compute features and measure distances in chunks"
   ]
  },
  {
   "cell_type": "code",
   "execution_count": 28,
   "metadata": {},
   "outputs": [],
   "source": [
    "test_reps = run_model(rep_model, conv, data['smiles'], n_jobs=4)\n",
    "test_reps = np.array_split(test_reps, data['n_atoms'].cumsum())[:-1]"
   ]
  },
  {
   "cell_type": "code",
   "execution_count": 29,
   "metadata": {},
   "outputs": [
    {
     "name": "stderr",
     "output_type": "stream",
     "text": [
      "100%|█████████████████████████████████████████████████████████████████████████████████████████████████████████| 8/8 [13:11:53<00:00, 5939.16s/it]\n"
     ]
    }
   ],
   "source": [
    "train_dists_mean = np.zeros((len(test_reps), max(n_counts))) + np.inf\n",
    "train_dists_max = train_dists_mean.copy()\n",
    "for train_chunk in tqdm(np.array_split(train_data[['smiles_0', 'n_atom']], 8)):\n",
    "    # Compute the molecular representation for this chunk\n",
    "    train_reps = run_model(rep_model, conv, train_chunk['smiles_0'], n_jobs=8)\n",
    "    train_reps = np.array_split(train_reps, train_chunk['n_atom'].cumsum())[:-1]\n",
    "    \n",
    "    # Compute the distances\n",
    "    new_train_dists_mean = np.zeros((len(test_reps), len(train_chunk)))\n",
    "    new_train_dists_max = new_train_dists_mean.copy()\n",
    "    with Pool(n_threads) as pool:\n",
    "        for i, mol_a in enumerate(test_reps):\n",
    "            func = partial(compute_dist_from_training_entry_mpnn, mol_a)\n",
    "            mean_dists, max_dists = zip(*pool.map(func, train_reps, chunksize=1024))\n",
    "            new_train_dists_mean[i, :] = mean_dists\n",
    "            new_train_dists_max[i, :] = max_dists\n",
    "            \n",
    "    # Sort to get the top ones\n",
    "    temp = np.hstack((train_dists_mean, new_train_dists_mean))\n",
    "    temp.sort(axis=1)\n",
    "    train_dists_mean = temp[:, :max(n_counts)]\n",
    "    \n",
    "    temp = np.hstack((train_dists_max, new_train_dists_max))\n",
    "    temp.sort(axis=1)\n",
    "    train_dists_max = temp[:, :max(n_counts)]"
   ]
  },
  {
   "cell_type": "code",
   "execution_count": 30,
   "metadata": {},
   "outputs": [],
   "source": [
    "for subset in test_set.values():\n",
    "    for n in n_counts:\n",
    "        subset[f'train_dist_atom_mean_{n}'] = train_dists_mean[:, :n].mean(axis=1)\n",
    "        subset[f'train_dist_atom_max_{n}'] = train_dists_max[:, :n].mean(axis=1)"
   ]
  },
  {
   "cell_type": "markdown",
   "metadata": {},
   "source": [
    "As above, plot the error as a function of distance"
   ]
  },
  {
   "cell_type": "code",
   "execution_count": 31,
   "metadata": {},
   "outputs": [
    {
     "data": {
      "image/png": "[encoded data removed]",
      "text/plain": [
       "<Figure size 252x144 with 1 Axes>"
      ]
     },
     "metadata": {
      "needs_background": "light"
     },
     "output_type": "display_data"
    }
   ],
   "source": [
    "fig, ax = plt.subplots(figsize=(3.5, 2))\n",
    "\n",
    "n=64\n",
    "dist_col = f'train_dist_atom_mean_{n}'\n",
    "dist_mean, dist_sem, err_mean, err_sem = zip(*[(np.mean(s[dist_col]), sem(s[dist_col]), np.mean(s['total_error']), sem(s['total_error'])) \n",
    "                                       for s in np.array_split(data.sort_values(dist_col), 16)])\n",
    "\n",
    "ax.errorbar(dist_mean, err_mean, xerr=dist_sem, yerr=err_sem, label=f'k={n}', marker='o', markersize=2.5\n",
    "            , linestyle=':', lw=0.7)\n",
    "ax.set_xscale('log', basex=10)\n",
    "ax.set_yscale('log')\n",
    "ax.set_xlabel('Mean Distance to Nearest Neighbors')\n",
    "ax.set_ylabel('MAE (kcal/mol)')\n",
    "fig.tight_layout()"
   ]
  },
  {
   "cell_type": "markdown",
   "metadata": {},
   "source": [
    "Save distances to disk"
   ]
  },
  {
   "cell_type": "code",
   "execution_count": 32,
   "metadata": {},
   "outputs": [],
   "source": [
    "os.makedirs('test-sets-with-dists', exist_ok=True)\n",
    "for k, subset in test_set.items():\n",
    "    data.to_csv(os.path.join('test-sets-with-dists', f'{k}.csv'), index=False)"
   ]
  },
  {
   "cell_type": "code",
   "execution_count": null,
   "metadata": {},
   "outputs": [],
   "source": []
  }
 ],
 "metadata": {
  "kernelspec": {
   "display_name": "solv_ml",
   "language": "python",
   "name": "solv_ml"
  },
  "language_info": {
   "codemirror_mode": {
    "name": "ipython",
    "version": 3
   },
   "file_extension": ".py",
   "mimetype": "text/x-python",
   "name": "python",
   "nbconvert_exporter": "python",
   "pygments_lexer": "ipython3",
   "version": "3.6.8"
  }
 },
 "nbformat": 4,
 "nbformat_minor": 4
}
