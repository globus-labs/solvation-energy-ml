{
 "cells": [
  {
   "cell_type": "markdown",
   "metadata": {},
   "source": [
    "# Assess Group-Contribution Models\n",
    "[Group Contribution](https://en.wikipedia.org/wiki/Group-contribution_method) models express molecular properties as a sum over all non-hydrogen atoms in a molecule with each atom having a contribution amount based on its functional group. \n",
    "Here, we explore the accuracy for such methods."
   ]
  },
  {
   "cell_type": "code",
   "execution_count": 1,
   "metadata": {},
   "outputs": [
    {
     "name": "stderr",
     "output_type": "stream",
     "text": [
      "Using TensorFlow backend.\n",
      "/lus/theta-fs0/projects/CSC249ADCD08/solvation-energy-ml/env/lib/python3.6/site-packages/tensorflow/python/framework/dtypes.py:526: FutureWarning: Passing (type, 1) or '1type' as a synonym of type is deprecated; in a future version of numpy, it will be understood as (type, (1,)) / '(1,)type'.\n",
      "  _np_qint8 = np.dtype([(\"qint8\", np.int8, 1)])\n",
      "/lus/theta-fs0/projects/CSC249ADCD08/solvation-energy-ml/env/lib/python3.6/site-packages/tensorflow/python/framework/dtypes.py:527: FutureWarning: Passing (type, 1) or '1type' as a synonym of type is deprecated; in a future version of numpy, it will be understood as (type, (1,)) / '(1,)type'.\n",
      "  _np_quint8 = np.dtype([(\"quint8\", np.uint8, 1)])\n",
      "/lus/theta-fs0/projects/CSC249ADCD08/solvation-energy-ml/env/lib/python3.6/site-packages/tensorflow/python/framework/dtypes.py:528: FutureWarning: Passing (type, 1) or '1type' as a synonym of type is deprecated; in a future version of numpy, it will be understood as (type, (1,)) / '(1,)type'.\n",
      "  _np_qint16 = np.dtype([(\"qint16\", np.int16, 1)])\n",
      "/lus/theta-fs0/projects/CSC249ADCD08/solvation-energy-ml/env/lib/python3.6/site-packages/tensorflow/python/framework/dtypes.py:529: FutureWarning: Passing (type, 1) or '1type' as a synonym of type is deprecated; in a future version of numpy, it will be understood as (type, (1,)) / '(1,)type'.\n",
      "  _np_quint16 = np.dtype([(\"quint16\", np.uint16, 1)])\n",
      "/lus/theta-fs0/projects/CSC249ADCD08/solvation-energy-ml/env/lib/python3.6/site-packages/tensorflow/python/framework/dtypes.py:530: FutureWarning: Passing (type, 1) or '1type' as a synonym of type is deprecated; in a future version of numpy, it will be understood as (type, (1,)) / '(1,)type'.\n",
      "  _np_qint32 = np.dtype([(\"qint32\", np.int32, 1)])\n",
      "/lus/theta-fs0/projects/CSC249ADCD08/solvation-energy-ml/env/lib/python3.6/site-packages/tensorflow/python/framework/dtypes.py:535: FutureWarning: Passing (type, 1) or '1type' as a synonym of type is deprecated; in a future version of numpy, it will be understood as (type, (1,)) / '(1,)type'.\n",
      "  np_resource = np.dtype([(\"resource\", np.ubyte, 1)])\n"
     ]
    }
   ],
   "source": [
    "%matplotlib inline\n",
    "from matplotlib import pyplot as plt\n",
    "from jcesr_ml.benchmark import load_benchmark_data\n",
    "from jcesr_ml.mpnn import set_custom_objects, run_model\n",
    "from sklearn.model_selection import train_test_split\n",
    "from sklearn.linear_model import LassoCV\n",
    "from sklearn import metrics\n",
    "from keras.models import load_model\n",
    "from rdkit import Chem\n",
    "from tqdm import tqdm\n",
    "import pickle as pkl\n",
    "import pandas as pd\n",
    "import numpy as np\n",
    "import json\n",
    "import os"
   ]
  },
  {
   "cell_type": "markdown",
   "metadata": {},
   "source": [
    "## Load in Benchmark Data\n",
    "We are going to use the standard set"
   ]
  },
  {
   "cell_type": "code",
   "execution_count": 2,
   "metadata": {},
   "outputs": [],
   "source": [
    "train_data, test_data = load_benchmark_data()"
   ]
  },
  {
   "cell_type": "markdown",
   "metadata": {},
   "source": [
    "## Get MPNN Results\n",
    "Get the best MPNN for water that did not use DFT charges"
   ]
  },
  {
   "cell_type": "code",
   "execution_count": 3,
   "metadata": {},
   "outputs": [],
   "source": [
    "mpnn_data = pd.read_json(os.path.join('..', 'mpnn', 'mpnn-results.json'))\n",
    "mpnn_data = mpnn_data[~ mpnn_data.network.str.contains('dielectric-constant-charges')]"
   ]
  },
  {
   "cell_type": "code",
   "execution_count": 4,
   "metadata": {},
   "outputs": [],
   "source": [
    "chosen_model = mpnn_data.query('nodes==128 and batch_size==16384 and (\"constant-charges\" not in network)').sort_values('mae_water', ascending=True).head(1).iloc[0]"
   ]
  },
  {
   "cell_type": "code",
   "execution_count": 5,
   "metadata": {},
   "outputs": [
    {
     "name": "stdout",
     "output_type": "stream",
     "text": [
      "Our best-performing network is: single-task\n"
     ]
    }
   ],
   "source": [
    "print(f'Our best-performing network is: {chosen_model[\"network\"]}')"
   ]
  },
  {
   "cell_type": "code",
   "execution_count": 6,
   "metadata": {},
   "outputs": [],
   "source": [
    "set_custom_objects()"
   ]
  },
  {
   "cell_type": "code",
   "execution_count": 7,
   "metadata": {},
   "outputs": [
    {
     "name": "stdout",
     "output_type": "stream",
     "text": [
      "WARNING:tensorflow:From /lus/theta-fs0/projects/CSC249ADCD08/solvation-energy-ml/env/lib/python3.6/site-packages/tensorflow/python/framework/op_def_library.py:263: colocate_with (from tensorflow.python.framework.ops) is deprecated and will be removed in a future version.\n",
      "Instructions for updating:\n",
      "Colocations handled automatically by placer.\n",
      "WARNING:tensorflow:From /lus/theta-fs0/projects/CSC249ADCD08/solvation-energy-ml/env/lib/python3.6/site-packages/tensorflow/python/ops/math_ops.py:3066: to_int32 (from tensorflow.python.ops.math_ops) is deprecated and will be removed in a future version.\n",
      "Instructions for updating:\n",
      "Use tf.cast instead.\n"
     ]
    },
    {
     "name": "stderr",
     "output_type": "stream",
     "text": [
      "/lus/theta-fs0/projects/CSC249ADCD08/solvation-energy-ml/env/lib/python3.6/site-packages/tensorflow/python/ops/gradients_impl.py:110: UserWarning: Converting sparse IndexedSlices to a dense Tensor of unknown shape. This may consume a large amount of memory.\n",
      "  \"Converting sparse IndexedSlices to a dense Tensor of unknown shape. \"\n"
     ]
    }
   ],
   "source": [
    "model = load_model(os.path.join('..', 'mpnn', chosen_model['path'], 'best_model.h5'))"
   ]
  },
  {
   "cell_type": "code",
   "execution_count": 8,
   "metadata": {},
   "outputs": [],
   "source": [
    "with open(os.path.join('..', 'mpnn', 'networks', chosen_model['network'], 'converter.pkl'), 'rb') as fp:\n",
    "    conv = pkl.load(fp)"
   ]
  },
  {
   "cell_type": "code",
   "execution_count": 9,
   "metadata": {},
   "outputs": [
    {
     "name": "stdout",
     "output_type": "stream",
     "text": [
      "CPU times: user 4min 16s, sys: 32.8 s, total: 4min 49s\n",
      "Wall time: 15.2 s\n"
     ]
    }
   ],
   "source": [
    "%%time\n",
    "test_data['mpnn_pred'] = run_model(model, conv, test_data['smiles_0'], n_jobs=1)"
   ]
  },
  {
   "cell_type": "code",
   "execution_count": 10,
   "metadata": {},
   "outputs": [
    {
     "name": "stdout",
     "output_type": "stream",
     "text": [
      "MAE of MPNN: 0.431 kcal/mol\n"
     ]
    }
   ],
   "source": [
    "mpnn_mae = metrics.mean_absolute_error(test_data['sol_water'], test_data['mpnn_pred'])\n",
    "print(f'MAE of MPNN:{mpnn_mae: .3f} kcal/mol')"
   ]
  },
  {
   "cell_type": "markdown",
   "metadata": {},
   "source": [
    "## Identify All Possible Groups\n",
    "We are going to define a group based on the compositions of atoms it is connected to.\n",
    "For example, this will distinguish primary and secondary amine groups."
   ]
  },
  {
   "cell_type": "code",
   "execution_count": 11,
   "metadata": {},
   "outputs": [],
   "source": [
    "def get_groups(smiles: str) -> [str]:\n",
    "    \"\"\"Get the group identities of each non-hydrogen atom in a molecule\n",
    "    \n",
    "    We represent group identities as a SMARTS string\n",
    "    \n",
    "    Args:\n",
    "        smiles (str): SMILES string of a molecule\n",
    "    Returns:\n",
    "        ([str]) Identities of each atom\n",
    "    \"\"\"\n",
    "    \n",
    "    # Parse the molecule\n",
    "    mol = Chem.MolFromSmiles(smiles)\n",
    "    if mol is None:\n",
    "        return []  # Fails to parse\n",
    "    \n",
    "    # Loop over non-H atoms\n",
    "    output = []\n",
    "    for a in mol.GetAtoms():\n",
    "        # Get my SMARTS type\n",
    "        my_type = f'[{a.GetSmarts()}D{a.GetDegree()}]'\n",
    "        \n",
    "        # Loop over bonds\n",
    "        bonds = []\n",
    "        for b in a.GetBonds():\n",
    "            bt = str(b.GetBondType())\n",
    "            other_atom = b.GetOtherAtom(a)\n",
    "            other_type = f'[{other_atom.GetSmarts()}D{other_atom.GetDegree()}]'\n",
    "            if bt == \"SINGLE\":\n",
    "                bonds.append(other_type)\n",
    "            elif bt == \"DOUBLE\":\n",
    "                bonds.append(f'={other_type}')\n",
    "            elif bt == \"TRIPLE\":\n",
    "                bonds.append(f'#{other_type}')\n",
    "            elif bt == \"AROMATIC\":\n",
    "                bonds.append(f':{other_type}')\n",
    "            else:\n",
    "                raise ValueError(f'Unsupported bond type: {bt}')\n",
    "        \n",
    "        # Compile them into a SMARTS\n",
    "        if len(bonds) > 0:\n",
    "            bonds = sorted(bonds)\n",
    "            my_type += ''.join(f'({x})' for x in bonds[:-1])\n",
    "            my_type += bonds[-1]\n",
    "        output.append(my_type)\n",
    "    return output"
   ]
  },
  {
   "cell_type": "markdown",
   "metadata": {},
   "source": [
    "Run the function over all molecules in QM9"
   ]
  },
  {
   "cell_type": "code",
   "execution_count": 12,
   "metadata": {},
   "outputs": [
    {
     "name": "stdout",
     "output_type": "stream",
     "text": [
      "Found 1227 unique types\n",
      "CPU times: user 28.2 s, sys: 85.7 ms, total: 28.3 s\n",
      "Wall time: 28.3 s\n"
     ]
    }
   ],
   "source": [
    "%%time\n",
    "all_types = set()\n",
    "train_data['smiles_0'].apply(get_groups).apply(all_types.update)\n",
    "test_data['smiles_0'].apply(get_groups).apply(all_types.update)\n",
    "print(f'Found {len(all_types)} unique types')"
   ]
  },
  {
   "cell_type": "markdown",
   "metadata": {},
   "source": [
    "Assign them indices. We hold it in a dictionary for faster lookup"
   ]
  },
  {
   "cell_type": "code",
   "execution_count": 13,
   "metadata": {},
   "outputs": [],
   "source": [
    "type_lookup = dict([(x, i) for i, x in enumerate(sorted(all_types))])"
   ]
  },
  {
   "cell_type": "markdown",
   "metadata": {},
   "source": [
    "Compute the feature matrices for the train and test data"
   ]
  },
  {
   "cell_type": "code",
   "execution_count": 14,
   "metadata": {},
   "outputs": [],
   "source": [
    "def compute_features(smiles):\n",
    "    \"\"\"Compute the feature matrices for a certain SMILES string\"\"\"\n",
    "    \n",
    "    # Get the groups\n",
    "    groups = get_groups(smiles)\n",
    "    \n",
    "    # Get their indices\n",
    "    output = np.zeros((len(all_types)), dtype=np.int)\n",
    "    for g in groups:\n",
    "        output[type_lookup[g]] += 1\n",
    "    return output"
   ]
  },
  {
   "cell_type": "code",
   "execution_count": 15,
   "metadata": {},
   "outputs": [],
   "source": [
    "train_X = np.vstack(train_data['smiles_0'].apply(compute_features))"
   ]
  },
  {
   "cell_type": "code",
   "execution_count": 16,
   "metadata": {},
   "outputs": [],
   "source": [
    "test_X = np.vstack(test_data['smiles_0'].apply(compute_features))"
   ]
  },
  {
   "cell_type": "markdown",
   "metadata": {},
   "source": [
    "## Make Linear Regression Models\n",
    "We are going to model the solvation energy in water and show the MAE as a function of training set size"
   ]
  },
  {
   "cell_type": "code",
   "execution_count": 17,
   "metadata": {},
   "outputs": [],
   "source": [
    "model = LassoCV(cv=10)"
   ]
  },
  {
   "cell_type": "code",
   "execution_count": 18,
   "metadata": {},
   "outputs": [
    {
     "name": "stderr",
     "output_type": "stream",
     "text": [
      " 72%|███████▏  | 13/18 [01:13<01:08, 13.69s/it]/lus/theta-fs0/projects/CSC249ADCD08/solvation-energy-ml/env/lib/python3.6/site-packages/sklearn/linear_model/coordinate_descent.py:491: ConvergenceWarning: Objective did not converge. You might want to increase the number of iterations. Fitting data with very small alpha may cause precision problems.\n",
      "  ConvergenceWarning)\n",
      " 83%|████████▎ | 15/18 [03:24<02:01, 40.66s/it]/lus/theta-fs0/projects/CSC249ADCD08/solvation-energy-ml/env/lib/python3.6/site-packages/sklearn/linear_model/coordinate_descent.py:491: ConvergenceWarning: Objective did not converge. You might want to increase the number of iterations. Fitting data with very small alpha may cause precision problems.\n",
      "  ConvergenceWarning)\n",
      "/lus/theta-fs0/projects/CSC249ADCD08/solvation-energy-ml/env/lib/python3.6/site-packages/sklearn/linear_model/coordinate_descent.py:491: ConvergenceWarning: Objective did not converge. You might want to increase the number of iterations. Fitting data with very small alpha may cause precision problems.\n",
      "  ConvergenceWarning)\n",
      "/lus/theta-fs0/projects/CSC249ADCD08/solvation-energy-ml/env/lib/python3.6/site-packages/sklearn/linear_model/coordinate_descent.py:491: ConvergenceWarning: Objective did not converge. You might want to increase the number of iterations. Fitting data with very small alpha may cause precision problems.\n",
      "  ConvergenceWarning)\n",
      "/lus/theta-fs0/projects/CSC249ADCD08/solvation-energy-ml/env/lib/python3.6/site-packages/sklearn/linear_model/coordinate_descent.py:491: ConvergenceWarning: Objective did not converge. You might want to increase the number of iterations. Fitting data with very small alpha may cause precision problems.\n",
      "  ConvergenceWarning)\n",
      "100%|██████████| 18/18 [12:38<00:00, 42.16s/it] \n"
     ]
    }
   ],
   "source": [
    "results = []\n",
    "for ts in tqdm([10**x for x in np.arange(1, 5.1, step=0.25)] + [len(train_data)]):\n",
    "    # Create a subset\n",
    "    inds = np.random.choice(len(train_data), size=int(ts), replace=False)\n",
    "    subset_X = train_X[inds, :]\n",
    "    subset_y = train_data['sol_water'].iloc[inds]\n",
    "    \n",
    "    # Train the model and evaluate on test set\n",
    "    model.fit(subset_X, subset_y)\n",
    "    pred_y = model.predict(test_X)\n",
    "    results.append({\n",
    "        'train_size': int(ts),\n",
    "        'mae': metrics.mean_absolute_error(pred_y, test_data['sol_water'])\n",
    "    })"
   ]
  },
  {
   "cell_type": "code",
   "execution_count": 19,
   "metadata": {},
   "outputs": [],
   "source": [
    "results = pd.DataFrame(results)"
   ]
  },
  {
   "cell_type": "markdown",
   "metadata": {},
   "source": [
    "Print results for the full dataset size"
   ]
  },
  {
   "cell_type": "code",
   "execution_count": 20,
   "metadata": {},
   "outputs": [
    {
     "name": "stdout",
     "output_type": "stream",
     "text": [
      "420 nonzero coefficients\n"
     ]
    }
   ],
   "source": [
    "print(f'{len(np.nonzero(model.coef_)[0])} nonzero coefficients')"
   ]
  },
  {
   "cell_type": "code",
   "execution_count": 21,
   "metadata": {},
   "outputs": [
    {
     "data": {
      "text/plain": [
       "mae                1.013963\n",
       "train_size    117232.000000\n",
       "Name: 17, dtype: float64"
      ]
     },
     "execution_count": 21,
     "metadata": {},
     "output_type": "execute_result"
    }
   ],
   "source": [
    "results.iloc[-1]"
   ]
  },
  {
   "cell_type": "markdown",
   "metadata": {},
   "source": [
    "Compare to the MPNN"
   ]
  },
  {
   "cell_type": "code",
   "execution_count": 22,
   "metadata": {},
   "outputs": [
    {
     "name": "stdout",
     "output_type": "stream",
     "text": [
      "MPNN out performs LASSO by a factor of 2.4x\n"
     ]
    }
   ],
   "source": [
    "print(f'MPNN out performs LASSO by a factor of{results[\"mae\"].iloc[-1] / mpnn_mae: .1f}x')"
   ]
  },
  {
   "cell_type": "markdown",
   "metadata": {},
   "source": [
    "Plot the linear regression for the whole dataset vs the MPNN, and show the learning curve summary"
   ]
  },
  {
   "cell_type": "code",
   "execution_count": 23,
   "metadata": {},
   "outputs": [
    {
     "data": {
      "image/png": "[encoded data removed]",
      "text/plain": [
       "<Figure size 468x180 with 3 Axes>"
      ]
     },
     "metadata": {
      "needs_background": "light"
     },
     "output_type": "display_data"
    }
   ],
   "source": [
    "fig = plt.figure(figsize=(6.5, 2.5))\n",
    "\n",
    "scatter_settings = dict(s=2.5, alpha=0.2)\n",
    "\n",
    "# Make the scatter plots\n",
    "lr_ax = fig.add_subplot(131)\n",
    "lr_ax.scatter(pred_y, test_data['sol_water'], **scatter_settings)\n",
    "lr_ax.set_xlim(-65, 7.5)\n",
    "lr_ax.set_ylim(lr_ax.get_xlim())\n",
    "lr_ax.plot(lr_ax.get_xlim(), lr_ax.get_xlim(), 'k--')\n",
    "lr_ax.set_xlabel('$\\Delta E_{sol}$, ML (kcal/mol)')\n",
    "lr_ax.set_ylabel('$\\Delta E_{sol}$, DFT (kcal/mol)')\n",
    "lr_ax.set_title('LASSO', fontsize=12)\n",
    "\n",
    "mpnn_ax = fig.add_subplot(132, sharex=lr_ax, )\n",
    "mpnn_ax.scatter(test_data['mpnn_pred'], test_data['sol_water'], c='crimson', **scatter_settings)\n",
    "mpnn_ax.set_xlabel('$\\Delta E_{sol}$, ML (kcal/mol)')\n",
    "mpnn_ax.set_ylim(lr_ax.get_xlim())\n",
    "mpnn_ax.plot(lr_ax.get_xlim(), lr_ax.get_xlim(), 'k--')\n",
    "mpnn_ax.set_title('MPNN')\n",
    "\n",
    "for a, l in zip([lr_ax, mpnn_ax], ['a', 'b']):\n",
    "    a.text(0.05, 0.9, f'({l})', transform=a.transAxes)\n",
    "\n",
    "# Make the training curvea\n",
    "ax = fig.add_subplot(133)\n",
    "ax.loglog(results['train_size'], results['mae'], label='LASSO')\n",
    "ax.scatter([chosen_model['entries']], [chosen_model['mae_water']], color='crimson', label='MPNN')\n",
    "ax.text(0.8, 0.9, f'(c)', transform=ax.transAxes)\n",
    "\n",
    "ax.set_ylim(0.3, 5)\n",
    "fig.tight_layout(h_pad=0)\n",
    "ax.legend()\n",
    "ax.set_xlabel('Training Set Size')\n",
    "ax.set_ylabel('Test MAE (kcal/mol)')\n",
    "\n",
    "fig.tight_layout()\n",
    "fig.savefig(os.path.join('figures', 'lr-comparison.png'), dpi=320)\n",
    "fig.savefig(os.path.join('figures', 'lr-comparison.eps'))"
   ]
  },
  {
   "cell_type": "markdown",
   "metadata": {},
   "source": [
    "Save the coefficients from the model"
   ]
  },
  {
   "cell_type": "code",
   "execution_count": 24,
   "metadata": {},
   "outputs": [],
   "source": [
    "lasso_coeff = dict((json.dumps(x), {'coef': model.coef_[i], 'count': int(train_X[:, i].sum())}) for x, i in type_lookup.items())"
   ]
  },
  {
   "cell_type": "code",
   "execution_count": 25,
   "metadata": {},
   "outputs": [],
   "source": [
    "with open('lasso_coef.json', 'w') as fp:\n",
    "    json.dump(lasso_coeff, fp)"
   ]
  },
  {
   "cell_type": "code",
   "execution_count": null,
   "metadata": {},
   "outputs": [],
   "source": []
  }
 ],
 "metadata": {
  "kernelspec": {
   "display_name": "solv_ml",
   "language": "python",
   "name": "solv_ml"
  },
  "language_info": {
   "codemirror_mode": {
    "name": "ipython",
    "version": 3
   },
   "file_extension": ".py",
   "mimetype": "text/x-python",
   "name": "python",
   "nbconvert_exporter": "python",
   "pygments_lexer": "ipython3",
   "version": "3.6.8"
  }
 },
 "nbformat": 4,
 "nbformat_minor": 4
}
