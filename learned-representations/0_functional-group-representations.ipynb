{
 "cells": [
  {
   "cell_type": "markdown",
   "metadata": {},
   "source": [
    "# Plot Functional Groups\n",
    "Project the representations of different functional groups, see if the network picks up on polarization"
   ]
  },
  {
   "cell_type": "code",
   "execution_count": 1,
   "metadata": {},
   "outputs": [
    {
     "name": "stderr",
     "output_type": "stream",
     "text": [
      "Using TensorFlow backend.\n",
      "/lus/theta-fs0/projects/CSC249ADCD08/solvation-energy-ml/env/lib/python3.6/site-packages/tensorflow/python/framework/dtypes.py:526: FutureWarning: Passing (type, 1) or '1type' as a synonym of type is deprecated; in a future version of numpy, it will be understood as (type, (1,)) / '(1,)type'.\n",
      "  _np_qint8 = np.dtype([(\"qint8\", np.int8, 1)])\n",
      "/lus/theta-fs0/projects/CSC249ADCD08/solvation-energy-ml/env/lib/python3.6/site-packages/tensorflow/python/framework/dtypes.py:527: FutureWarning: Passing (type, 1) or '1type' as a synonym of type is deprecated; in a future version of numpy, it will be understood as (type, (1,)) / '(1,)type'.\n",
      "  _np_quint8 = np.dtype([(\"quint8\", np.uint8, 1)])\n",
      "/lus/theta-fs0/projects/CSC249ADCD08/solvation-energy-ml/env/lib/python3.6/site-packages/tensorflow/python/framework/dtypes.py:528: FutureWarning: Passing (type, 1) or '1type' as a synonym of type is deprecated; in a future version of numpy, it will be understood as (type, (1,)) / '(1,)type'.\n",
      "  _np_qint16 = np.dtype([(\"qint16\", np.int16, 1)])\n",
      "/lus/theta-fs0/projects/CSC249ADCD08/solvation-energy-ml/env/lib/python3.6/site-packages/tensorflow/python/framework/dtypes.py:529: FutureWarning: Passing (type, 1) or '1type' as a synonym of type is deprecated; in a future version of numpy, it will be understood as (type, (1,)) / '(1,)type'.\n",
      "  _np_quint16 = np.dtype([(\"quint16\", np.uint16, 1)])\n",
      "/lus/theta-fs0/projects/CSC249ADCD08/solvation-energy-ml/env/lib/python3.6/site-packages/tensorflow/python/framework/dtypes.py:530: FutureWarning: Passing (type, 1) or '1type' as a synonym of type is deprecated; in a future version of numpy, it will be understood as (type, (1,)) / '(1,)type'.\n",
      "  _np_qint32 = np.dtype([(\"qint32\", np.int32, 1)])\n",
      "/lus/theta-fs0/projects/CSC249ADCD08/solvation-energy-ml/env/lib/python3.6/site-packages/tensorflow/python/framework/dtypes.py:535: FutureWarning: Passing (type, 1) or '1type' as a synonym of type is deprecated; in a future version of numpy, it will be understood as (type, (1,)) / '(1,)type'.\n",
      "  np_resource = np.dtype([(\"resource\", np.ubyte, 1)])\n"
     ]
    }
   ],
   "source": [
    "%matplotlib inline\n",
    "from sklearn.manifold import Isomap, TSNE\n",
    "from sklearn.pipeline import Pipeline\n",
    "from sklearn.preprocessing import RobustScaler\n",
    "from sklearn.decomposition import PCA\n",
    "from matplotlib import pyplot as plt\n",
    "prop_cycle = plt.rcParams['axes.prop_cycle']\n",
    "from matplotlib import colors\n",
    "from matplotlib import cm\n",
    "from jcesr_ml.benchmark import load_benchmark_data\n",
    "from jcesr_ml.mpnn import set_custom_objects, run_model\n",
    "from nfp.preprocessing import GraphSequence\n",
    "from nfp.models import GraphModel\n",
    "from keras.models import load_model\n",
    "from rdkit import Chem\n",
    "from tqdm import tqdm\n",
    "import pickle as pkl\n",
    "import pandas as pd\n",
    "import numpy as np\n",
    "import json\n",
    "import os"
   ]
  },
  {
   "cell_type": "markdown",
   "metadata": {},
   "source": [
    "Load the data, model and featurizer"
   ]
  },
  {
   "cell_type": "code",
   "execution_count": 2,
   "metadata": {},
   "outputs": [],
   "source": [
    "set_custom_objects()"
   ]
  },
  {
   "cell_type": "code",
   "execution_count": 3,
   "metadata": {},
   "outputs": [
    {
     "name": "stdout",
     "output_type": "stream",
     "text": [
      "WARNING:tensorflow:From /lus/theta-fs0/projects/CSC249ADCD08/solvation-energy-ml/env/lib/python3.6/site-packages/tensorflow/python/framework/op_def_library.py:263: colocate_with (from tensorflow.python.framework.ops) is deprecated and will be removed in a future version.\n",
      "Instructions for updating:\n",
      "Colocations handled automatically by placer.\n",
      "WARNING:tensorflow:From /lus/theta-fs0/projects/CSC249ADCD08/solvation-energy-ml/env/lib/python3.6/site-packages/tensorflow/python/ops/math_ops.py:3066: to_int32 (from tensorflow.python.ops.math_ops) is deprecated and will be removed in a future version.\n",
      "Instructions for updating:\n",
      "Use tf.cast instead.\n"
     ]
    },
    {
     "name": "stderr",
     "output_type": "stream",
     "text": [
      "/lus/theta-fs0/projects/CSC249ADCD08/solvation-energy-ml/env/lib/python3.6/site-packages/tensorflow/python/ops/gradients_impl.py:110: UserWarning: Converting sparse IndexedSlices to a dense Tensor of unknown shape. This may consume a large amount of memory.\n",
      "  \"Converting sparse IndexedSlices to a dense Tensor of unknown shape. \"\n",
      "/lus/theta-fs0/projects/CSC249ADCD08/solvation-energy-ml/env/lib/python3.6/site-packages/keras/engine/saving.py:310: UserWarning: No training configuration found in save file: the model was *not* compiled. Compile it manually.\n",
      "  warnings.warn('No training configuration found in save file: '\n"
     ]
    }
   ],
   "source": [
    "data = pd.read_pickle(os.path.join('..', 'partial-charges', 'mapped_charges_dataset.pkl.gz')).sample(2048, random_state=1)\n",
    "model = load_model(os.path.join('..', 'mpnn', 'networks', 'single-task', '117232-entries', '128-nodes', '16384-batch_size', '1.00e-04-learning_rate', 'best_model.h5'))\n",
    "untrained_model = load_model(os.path.join('..', 'mpnn', 'networks', 'single-task', 'architecture.h5'))\n",
    "with open(os.path.join('..', 'mpnn', 'networks', 'single-task', 'converter.pkl'), 'rb') as fp:\n",
    "    conv = pkl.load(fp)"
   ]
  },
  {
   "cell_type": "markdown",
   "metadata": {},
   "source": [
    "Define the [functional groups of interest](http://chemistry.elmhurst.edu/vchembook/213boilingpoint.html). These functional group swill be matched to auto-generated SMARTS strings from the group contribution modelling effort, which follow the pattern: `[<center-atom-type>X<center-atom-degree>H<bonded hydrogens>](<bonded-atoms-0>)`...`<bonded-atoms-*N-1*`. The bonded atoms are noted with their bond type and then sorted alphabetically. Names for these functional groups are tuples with the first item being the name of the group, and the second the degree (e.g., primary, secondary)."
   ]
  },
  {
   "cell_type": "code",
   "execution_count": 4,
   "metadata": {},
   "outputs": [],
   "source": [
    "functional_groups = {\n",
    "    ('alkyl', 1): '[CX4H3]C',\n",
    "    ('alkyl', 2): '[CX4H2](C)C',\n",
    "    ('alkyl', 3): '[CX4H1](C)(C)C',\n",
    "    ('acid', 1): '[CX3H1](=O)(C)O',\n",
    "    ('acid', 2): '[CX3H0](=O)(C)(C)O',\n",
    "    ('amide', 1): '[CX3H0](=O)(C)N',\n",
    "    ('alcohol', 1): '[CX4H2](C)O',\n",
    "    ('alcohol', 2): '[CX4H1](C)(C)O',\n",
    "    ('alcohol', 3): '[CX4H0](C)(C)(C)O',\n",
    "    ('aldehyde', 1): '[CX3H1](=O)C',\n",
    "    ('ketone', 1): '[CX3H0](=O)(C)C',\n",
    "    ('amine', 1): '[CX4H2](C)N',\n",
    "    ('amine', 2): '[CX4H1](C)(C)N',\n",
    "    ('amine', 3): '[CX4H0](C)(C)(C)N',\n",
    "    ('ester', 1): '[CX3H0](=O)(C)O',\n",
    "}"
   ]
  },
  {
   "cell_type": "markdown",
   "metadata": {},
   "source": [
    "## Extract the Graph Layer From the Network\n",
    "We want the GRUStep layer that feeds into the Dense layer before the ReduceAtomToMol layer"
   ]
  },
  {
   "cell_type": "code",
   "execution_count": 5,
   "metadata": {},
   "outputs": [],
   "source": [
    "rep_layer = model.get_layer('dense_1').input"
   ]
  },
  {
   "cell_type": "code",
   "execution_count": 6,
   "metadata": {},
   "outputs": [],
   "source": [
    "rep_model = GraphModel(model.inputs, rep_layer)"
   ]
  },
  {
   "cell_type": "code",
   "execution_count": 7,
   "metadata": {},
   "outputs": [],
   "source": [
    "untrained_rep_layer = untrained_model.get_layer('dense_1').input"
   ]
  },
  {
   "cell_type": "code",
   "execution_count": 8,
   "metadata": {},
   "outputs": [],
   "source": [
    "untrained_rep_model = GraphModel(untrained_model.inputs, untrained_rep_layer)"
   ]
  },
  {
   "cell_type": "markdown",
   "metadata": {},
   "source": [
    "## Load in the Group Contributions\n",
    "In the previous notebook, we computed the contribution to solvation energy from many different types of atoms"
   ]
  },
  {
   "cell_type": "code",
   "execution_count": 9,
   "metadata": {},
   "outputs": [
    {
     "name": "stdout",
     "output_type": "stream",
     "text": [
      "Loaded 135 groups\n"
     ]
    }
   ],
   "source": [
    "groups = pd.read_json(os.path.join('..', 'group-contribution', 'lasso_coef.json'), orient='index')\n",
    "print(f'Loaded {len(groups)} groups')"
   ]
  },
  {
   "cell_type": "markdown",
   "metadata": {},
   "source": [
    "Parse the index tag"
   ]
  },
  {
   "cell_type": "code",
   "execution_count": 10,
   "metadata": {},
   "outputs": [],
   "source": [
    "groups['type'] = groups.index.map(lambda x: json.loads(x)[0])\n",
    "groups['bonds'] = groups.index.map(lambda x: json.loads(x)[1])\n",
    "groups['n_hydro'] = groups.index.map(lambda x: json.loads(x)[2])"
   ]
  },
  {
   "cell_type": "markdown",
   "metadata": {},
   "source": [
    "Make a smarts from the index"
   ]
  },
  {
   "cell_type": "code",
   "execution_count": 11,
   "metadata": {},
   "outputs": [],
   "source": [
    "def conv_to_smarts(notation):\n",
    "    \"\"\"Convert the index of the group attention array to SMARTS\"\"\"\n",
    "    key = json.loads(notation)\n",
    "    n_bonds = len(key[1]) + key[2]\n",
    "    if len(key[1]) > 0:\n",
    "        groups = ''.join([f'({x})' for x in key[1][:-1]]) + key[1][-1]\n",
    "    else:\n",
    "        groups = ''\n",
    "    return f'[{key[0]}X{n_bonds}H{key[2]}]{groups}' \n",
    "groups['smarts'] = groups.index.map(conv_to_smarts)"
   ]
  },
  {
   "cell_type": "markdown",
   "metadata": {},
   "source": [
    "Skip those with a zero contribution to solvation energy in our group model"
   ]
  },
  {
   "cell_type": "code",
   "execution_count": 12,
   "metadata": {},
   "outputs": [
    {
     "name": "stdout",
     "output_type": "stream",
     "text": [
      "Found 73 groups with non-zero contributions, with a total of 961544 atoms\n"
     ]
    }
   ],
   "source": [
    "groups.query('coef != 0', inplace=True)\n",
    "print(f'Found {len(groups)} groups with non-zero contributions, with a total of {groups[\"count\"].sum()} atoms')"
   ]
  },
  {
   "cell_type": "markdown",
   "metadata": {},
   "source": [
    "Label some groups"
   ]
  },
  {
   "cell_type": "code",
   "execution_count": 13,
   "metadata": {},
   "outputs": [],
   "source": [
    "groups['name'] = None\n",
    "groups['degree'] = None"
   ]
  },
  {
   "cell_type": "code",
   "execution_count": 14,
   "metadata": {},
   "outputs": [
    {
     "name": "stdout",
     "output_type": "stream",
     "text": [
      "Found 12 named functional groups\n"
     ]
    }
   ],
   "source": [
    "for (name, degree), smarts in functional_groups.items():\n",
    "    entry = groups.query(f'smarts==\"{smarts}\"')\n",
    "    if len(entry) > 0:\n",
    "        groups.loc[entry.index, 'name'] = name\n",
    "        groups.loc[entry.index, 'degree'] = degree\n",
    "print(f'Found {sum(np.logical_not(groups[\"name\"].isnull()))} named functional groups')"
   ]
  },
  {
   "cell_type": "markdown",
   "metadata": {},
   "source": [
    "## Make Utility Functions\n",
    "We need a function to get atoms which match a certain functional group pattern and another to get the representation for that atom"
   ]
  },
  {
   "cell_type": "code",
   "execution_count": 15,
   "metadata": {},
   "outputs": [],
   "source": [
    "def get_matches(smiles, func):\n",
    "    \"\"\"Get carbon atoms with match a certain funcitonal group pattern\n",
    "    \n",
    "    Args:\n",
    "        smiles (str): SMILES string of molecule of interest\n",
    "        func (str): SMARTS string of functional group. First atom in SMARTS must be the target atom\n",
    "    Returns:\n",
    "        ([int]) List of the matching atoms\n",
    "    \"\"\"\n",
    "    \n",
    "    # Read the SMILES and SMARTS\n",
    "    mol = Chem.MolFromSmiles(smiles)\n",
    "    mol = Chem.AddHs(mol)\n",
    "    patt = Chem.MolFromSmarts(func)\n",
    "    if patt is None:\n",
    "        raise ValueError(f'Bad SMARTS: {func}')\n",
    "    \n",
    "    # Attempt to match\n",
    "    match = mol.GetSubstructMatches(patt)\n",
    "    \n",
    "    # Return the atoms which match\n",
    "    return set([m[0] for m in match])"
   ]
  },
  {
   "cell_type": "code",
   "execution_count": 16,
   "metadata": {},
   "outputs": [],
   "source": [
    "assert get_matches('C', '[C]') == {0}\n",
    "assert get_matches('CCO', '[CX4H2]O') == {1}\n",
    "assert get_matches('C(=O)O', '[CX3](=O)[OX2H1]') == {0}"
   ]
  },
  {
   "cell_type": "code",
   "execution_count": 17,
   "metadata": {},
   "outputs": [],
   "source": [
    "def get_representation(model, conv, smiles):\n",
    "    \"\"\"Get the representation for each model\"\"\"\n",
    "    # Turn the molecule into a graph sequence\n",
    "    g = GraphSequence([conv.construct_feature_matrices(smiles)])\n",
    "    \n",
    "    # Pipe the sequence through the model\n",
    "    return model.predict_on_batch(g[0])"
   ]
  },
  {
   "cell_type": "code",
   "execution_count": 18,
   "metadata": {},
   "outputs": [],
   "source": [
    "def get_reps_of_functional_groups(smiles, func, conv, charges, sol_water):\n",
    "    \"\"\"Get the representation of atoms which match a certain functional group pattern\n",
    "\n",
    "    Args:\n",
    "        smiles (str): SMILES string of molecule of interest\n",
    "        func (str): SMARTS string of functional group. First atom in SMARTS must be the target atom\n",
    "        conv (SmilesPreprocessor): Tool to create graph representation from SMILES string\n",
    "        charges ([float]): Partial charges for each atom\n",
    "        sol_water (float): Solvation energy of the molecul ein water\n",
    "    Returns:\n",
    "        - ([int]) index of matching atoms\n",
    "        - ([[float]]) Representations for each matching atom from the trained model\n",
    "        - ([[float]]) Representations for each matching atom from the untrained model\n",
    "        - ([float]) Charges for each atom\n",
    "        - ([float]) Solvation energy in water\n",
    "        - ([str]) SMILES string for each matching atom (just the input repeated several times)\n",
    "    \"\"\"\n",
    "    # Match atoms from the smiles string\n",
    "    matching_atoms = list(get_matches(smiles, func))\n",
    "    if len(matching_atoms) == 0:\n",
    "        return None\n",
    "    \n",
    "    # Generate the representations\n",
    "    rep = get_representation(rep_model, conv, smiles)\n",
    "    untrained_rep = get_representation(untrained_rep_model, conv, smiles)\n",
    "    return matching_atoms, rep[matching_atoms, :], untrained_rep[matching_atoms, :],\\\n",
    "        np.array(charges)[list(matching_atoms)], [sol_water]*len(matching_atoms),\\\n",
    "        [smiles] * len(matching_atoms)"
   ]
  },
  {
   "cell_type": "code",
   "execution_count": 19,
   "metadata": {},
   "outputs": [],
   "source": [
    "assert get_reps_of_functional_groups('CCO', '[CX4H2]O', conv, [-1, -2, -3] + [0]*6, -1)[1].shape == (1, 128)"
   ]
  },
  {
   "cell_type": "code",
   "execution_count": 20,
   "metadata": {},
   "outputs": [],
   "source": [
    "assert get_reps_of_functional_groups('CCO', '[CX4H2]O', conv, [-1, -2, -3] + [0]*6, -1)[3] == [-2]"
   ]
  },
  {
   "cell_type": "markdown",
   "metadata": {},
   "source": [
    "## Compute the Representations and Gather Partial Charges\n",
    "Use the machine learning model to get the representation of all functional groups, functional "
   ]
  },
  {
   "cell_type": "code",
   "execution_count": 21,
   "metadata": {},
   "outputs": [
    {
     "name": "stderr",
     "output_type": "stream",
     "text": [
      "100%|█████████████████████████████████████████████████████████████████████████████████████████████████████████████████████████████████████████████████████████| 73/73 [01:38<00:00,  1.35s/it]\n"
     ]
    }
   ],
   "source": [
    "allids = []\n",
    "allreps = []\n",
    "allureps = []\n",
    "allcharges = []\n",
    "allsols = []\n",
    "allsmiles = []\n",
    "for rid, row in tqdm(groups.iterrows(), total=len(groups)):\n",
    "    func = lambda x: get_reps_of_functional_groups(x['smiles_0'], row['smarts'], conv, \n",
    "                                                   charges=x['mapped_charges'], sol_water=x['sol_water'])\n",
    "    output = tuple(zip(*filter(lambda x: x is not None, data.apply(func, axis=1))))\n",
    "    if len(output) > 0:\n",
    "        ids, reps, untrained_reps, charges, sols, smiles = output\n",
    "        allids.append(np.concatenate(ids))\n",
    "        allsols.append(np.concatenate(sols))\n",
    "        allreps.append(np.concatenate(reps))\n",
    "        allcharges.append(np.concatenate(charges))\n",
    "        allureps.append(np.concatenate(untrained_reps))\n",
    "        allsmiles.append(np.concatenate(smiles))\n",
    "    else:\n",
    "        allreps.append([])\n",
    "        allcharges.append([])\n",
    "        allsols.append([])\n",
    "        allureps.append([])\n",
    "        allsmiles.append([])\n",
    "        allids.append([])\n",
    "    \n",
    "groups['ids'] = allids\n",
    "groups['reps'] = allreps\n",
    "groups['ureps'] = allureps\n",
    "groups['charges'] = allcharges\n",
    "groups['sols'] = allsols\n",
    "groups['smiles'] = allsmiles"
   ]
  },
  {
   "cell_type": "markdown",
   "metadata": {},
   "source": [
    "Filter out groups that don't match with this dataset"
   ]
  },
  {
   "cell_type": "code",
   "execution_count": 22,
   "metadata": {},
   "outputs": [
    {
     "name": "stdout",
     "output_type": "stream",
     "text": [
      "Matched a total of 40 groups with a total of 14321 atoms\n"
     ]
    }
   ],
   "source": [
    "groups = groups[groups['reps'].apply(len) > 0]\n",
    "print(f'Matched a total of {len(groups)} groups with a total of {groups[\"reps\"].apply(len).sum()} atoms')"
   ]
  },
  {
   "cell_type": "markdown",
   "metadata": {},
   "source": [
    "## Compute Low-Dimensional Versions of the Representations\n",
    "So that we can visualize them. We choose IsoMap as it is fast and tries to preserve distances, which we care more about than directions (a la PCA).\n",
    "\n",
    "We also compute the t-SNE representations, which has a similar \"distance-preserving\" nature and a tendancy to form clusters in data. The clusters will aid our analysis"
   ]
  },
  {
   "cell_type": "code",
   "execution_count": 23,
   "metadata": {},
   "outputs": [
    {
     "name": "stdout",
     "output_type": "stream",
     "text": [
      "Shape of the representation matrix: (14321, 128)\n"
     ]
    }
   ],
   "source": [
    "all_reps = np.concatenate([x for x in groups['reps']])\n",
    "print(f'Shape of the representation matrix: {all_reps.shape}')"
   ]
  },
  {
   "cell_type": "markdown",
   "metadata": {},
   "source": [
    "We are going to use a downsampled version of the dataset for computational efficiency.\n",
    "We weigh the likelihood of choosing a point based on the number of entries for that group,\n",
    "so that we get samples from each group."
   ]
  },
  {
   "cell_type": "code",
   "execution_count": 24,
   "metadata": {},
   "outputs": [],
   "source": [
    "groups['count'] = groups['reps'].apply(len)"
   ]
  },
  {
   "cell_type": "code",
   "execution_count": 25,
   "metadata": {},
   "outputs": [
    {
     "name": "stdout",
     "output_type": "stream",
     "text": [
      "Downsampled shape: (2048, 128)\n"
     ]
    }
   ],
   "source": [
    "downsampled_reps = all_reps[np.random.choice(all_reps.shape[0], size=2048, replace=False,\n",
    "                                             p=np.repeat(1.0 / groups['count'], groups['count']) / len(groups)), :]\n",
    "print(f'Downsampled shape: {downsampled_reps.shape}')"
   ]
  },
  {
   "cell_type": "markdown",
   "metadata": {},
   "source": [
    "Compute representations for the 1D and 2D cases. \n",
    "IsoMap has a parameter that controls how many NNs are considered when assessing\n",
    "distances. We are going to use a realatively large number to make longer-range \n",
    "distances impact the model"
   ]
  },
  {
   "cell_type": "code",
   "execution_count": 26,
   "metadata": {},
   "outputs": [
    {
     "name": "stderr",
     "output_type": "stream",
     "text": [
      "100%|███████████████████████████████████████████████████████████████████████████████████████████████████████████████████████████████████████████████████████████| 2/2 [00:41<00:00, 20.77s/it]\n"
     ]
    }
   ],
   "source": [
    "for d in tqdm([1, 2]):\n",
    "    # Fit model\n",
    "    isomap = Pipeline([\n",
    "        ('scale', RobustScaler()),\n",
    "        ('isomap', Isomap(n_components=d, n_neighbors=64, n_jobs=-1))\n",
    "    ])\n",
    "    isomap.fit_transform(downsampled_reps)\n",
    "    \n",
    "    # Apply it to all subsets\n",
    "    groups[f'rep_{d}d'] = groups['reps'].apply(isomap.transform)"
   ]
  },
  {
   "cell_type": "markdown",
   "metadata": {},
   "source": [
    "Do something similar for t-SNE"
   ]
  },
  {
   "cell_type": "code",
   "execution_count": 27,
   "metadata": {},
   "outputs": [
    {
     "name": "stderr",
     "output_type": "stream",
     "text": [
      "  0%|                                                                                                                                                                   | 0/2 [00:00<?, ?it/s]"
     ]
    },
    {
     "name": "stdout",
     "output_type": "stream",
     "text": [
      "[t-SNE] Computing 3001 nearest neighbors...\n",
      "[t-SNE] Indexed 14321 samples in 0.015s...\n",
      "[t-SNE] Computed neighbors for 14321 samples in 13.304s...\n",
      "[t-SNE] Computed conditional probabilities for sample 1000 / 14321\n",
      "[t-SNE] Computed conditional probabilities for sample 2000 / 14321\n",
      "[t-SNE] Computed conditional probabilities for sample 3000 / 14321\n",
      "[t-SNE] Computed conditional probabilities for sample 4000 / 14321\n",
      "[t-SNE] Computed conditional probabilities for sample 5000 / 14321\n",
      "[t-SNE] Computed conditional probabilities for sample 6000 / 14321\n",
      "[t-SNE] Computed conditional probabilities for sample 7000 / 14321\n",
      "[t-SNE] Computed conditional probabilities for sample 8000 / 14321\n",
      "[t-SNE] Computed conditional probabilities for sample 9000 / 14321\n",
      "[t-SNE] Computed conditional probabilities for sample 10000 / 14321\n",
      "[t-SNE] Computed conditional probabilities for sample 11000 / 14321\n",
      "[t-SNE] Computed conditional probabilities for sample 12000 / 14321\n",
      "[t-SNE] Computed conditional probabilities for sample 13000 / 14321\n",
      "[t-SNE] Computed conditional probabilities for sample 14000 / 14321\n",
      "[t-SNE] Computed conditional probabilities for sample 14321 / 14321\n",
      "[t-SNE] Mean sigma: 1.854306\n",
      "[t-SNE] KL divergence after 250 iterations with early exaggeration: 47.745293\n"
     ]
    },
    {
     "name": "stderr",
     "output_type": "stream",
     "text": [
      " 50%|████████████████████████████████████████████████████████████████████████████▌                                                                            | 1/2 [17:29<17:29, 1049.17s/it]"
     ]
    },
    {
     "name": "stdout",
     "output_type": "stream",
     "text": [
      "[t-SNE] KL divergence after 1200 iterations: 0.252590\n",
      "Reduced space by PCA explains 99.1362988948822% of variance\n",
      "[t-SNE] Computing 3001 nearest neighbors...\n",
      "[t-SNE] Indexed 14321 samples in 0.016s...\n",
      "[t-SNE] Computed neighbors for 14321 samples in 11.240s...\n",
      "[t-SNE] Computed conditional probabilities for sample 1000 / 14321\n",
      "[t-SNE] Computed conditional probabilities for sample 2000 / 14321\n",
      "[t-SNE] Computed conditional probabilities for sample 3000 / 14321\n",
      "[t-SNE] Computed conditional probabilities for sample 4000 / 14321\n",
      "[t-SNE] Computed conditional probabilities for sample 5000 / 14321\n",
      "[t-SNE] Computed conditional probabilities for sample 6000 / 14321\n",
      "[t-SNE] Computed conditional probabilities for sample 7000 / 14321\n",
      "[t-SNE] Computed conditional probabilities for sample 8000 / 14321\n",
      "[t-SNE] Computed conditional probabilities for sample 9000 / 14321\n",
      "[t-SNE] Computed conditional probabilities for sample 10000 / 14321\n",
      "[t-SNE] Computed conditional probabilities for sample 11000 / 14321\n",
      "[t-SNE] Computed conditional probabilities for sample 12000 / 14321\n",
      "[t-SNE] Computed conditional probabilities for sample 13000 / 14321\n",
      "[t-SNE] Computed conditional probabilities for sample 14000 / 14321\n",
      "[t-SNE] Computed conditional probabilities for sample 14321 / 14321\n",
      "[t-SNE] Mean sigma: 0.103017\n",
      "[t-SNE] KL divergence after 250 iterations with early exaggeration: 43.393127\n"
     ]
    },
    {
     "name": "stderr",
     "output_type": "stream",
     "text": [
      "100%|█████████████████████████████████████████████████████████████████████████████████████████████████████████████████████████████████████████████████████████| 2/2 [37:40<00:00, 1130.04s/it]"
     ]
    },
    {
     "name": "stdout",
     "output_type": "stream",
     "text": [
      "[t-SNE] KL divergence after 1800 iterations: 0.120000\n",
      "Reduced space by PCA explains 99.99546408653259% of variance\n"
     ]
    },
    {
     "name": "stderr",
     "output_type": "stream",
     "text": [
      "\n"
     ]
    }
   ],
   "source": [
    "tsne = Pipeline([\n",
    "    ('scale', RobustScaler()),\n",
    "    ('pca', PCA(n_components=16)),\n",
    "    ('tsne', TSNE(perplexity=1000, n_iter=20000, learning_rate=1000, verbose=1))\n",
    "])\n",
    "\n",
    "for r in tqdm(['reps', 'ureps']):\n",
    "    # Get the desired representation\n",
    "    all_reps = np.concatenate([x for x in groups[r]])\n",
    "    \n",
    "    # Compute the reps for all groups\n",
    "    X = tsne.fit_transform(all_reps)\n",
    "    pca = tsne.steps[1][1]\n",
    "    print(f'Reduced space by PCA explains {pca.explained_variance_ratio_.sum() * 100}% of variance')\n",
    "    \n",
    "    # Break it up for each group\n",
    "    reps_per_group = np.split(X, groups['count'].cumsum()[:-1])\n",
    "    groups[f'tsne_{r}'] = reps_per_group"
   ]
  },
  {
   "cell_type": "markdown",
   "metadata": {},
   "source": [
    "## Investigate Tie between Partial Charge, Solvation Energy and MPNN Representations\n",
    "We want to see how whether these groups correspond well to each other"
   ]
  },
  {
   "cell_type": "code",
   "execution_count": 28,
   "metadata": {},
   "outputs": [],
   "source": [
    "range_1d = (np.percentile(np.concatenate(groups['rep_1d']).ravel(), 1), np.percentile(np.concatenate(groups['rep_1d']).ravel(), 99))"
   ]
  },
  {
   "cell_type": "code",
   "execution_count": 29,
   "metadata": {},
   "outputs": [
    {
     "data": {
      "image/png": "[encoded data removed]",
      "text/plain": [
       "<Figure size 468x180 with 2 Axes>"
      ]
     },
     "metadata": {
      "needs_background": "light"
     },
     "output_type": "display_data"
    }
   ],
   "source": [
    "fig, axs = plt.subplots(1, 2, sharey=False, figsize=(6.5, 2.5))\n",
    "\n",
    "charge_bins = np.linspace(-0.7, 0.7, 64)\n",
    "rep_bins = np.linspace(*range_1d, 64)\n",
    "for name, group in groups.iterrows():\n",
    "    axs[0].hist(group['charges'], bins=charge_bins, density=True)\n",
    "    axs[1].hist(group['rep_1d'], bins=rep_bins, density=True)\n",
    "\n",
    "axs[0].set_xlabel('Partial Charge ($e$)')\n",
    "axs[1].set_xlabel('Representation, 1D')\n",
    "for ax in axs:\n",
    "    ax.set_ylabel('Density (1/$e$)')\n",
    "fig.tight_layout()"
   ]
  },
  {
   "cell_type": "markdown",
   "metadata": {},
   "source": [
    "*Finding*: I don't see much here. Types are well clustered by charge but not the Isomap representation"
   ]
  },
  {
   "cell_type": "markdown",
   "metadata": {},
   "source": [
    "Plot the charge vs the representaiton, color by the type of the atom"
   ]
  },
  {
   "cell_type": "code",
   "execution_count": 30,
   "metadata": {},
   "outputs": [
    {
     "data": {
      "image/png": "[encoded data removed]",
      "text/plain": [
       "<Figure size 468x180 with 2 Axes>"
      ]
     },
     "metadata": {},
     "output_type": "display_data"
    }
   ],
   "source": [
    "fig, axs = plt.subplots(1, 2, figsize=(6.5, 2.5))\n",
    "\n",
    "for r, ax in zip(['reps', 'ureps'], axs):\n",
    "    for (gid, group), color in zip(groups.query('name!=None and type==\"C\"').groupby('name'), prop_cycle.by_key()[\"color\"]):\n",
    "        c = np.array(np.multiply((np.repeat((4 - group['degree'] + 1) / 4, group['count']))[:, None], [colors.to_rgb(color)]), dtype=float)\n",
    "        X = np.concatenate(group[f'tsne_{r}'])\n",
    "        ax.scatter(X[:, 0], X[:, 1], c=c, s=4.5, edgecolor='none', vmin=-2.5, vmax=1.5)\n",
    "        ax.scatter([], [], label=gid)\n",
    "        ax.set_title('Trained' if r == 'reps' else 'Untrained')\n",
    "\n",
    "axs[1].legend(ncol=2, fontsize=8)\n",
    "\n",
    "for ax in axs:\n",
    "    ax.set_xticks([])\n",
    "    ax.set_yticks([])\n",
    "fig.tight_layout()\n",
    "fig.savefig(os.path.join('figures', 'atom-2d-rep.png'), dpi=320)"
   ]
  },
  {
   "cell_type": "code",
   "execution_count": 31,
   "metadata": {},
   "outputs": [
    {
     "data": {
      "image/png": "[encoded data removed]",
      "text/plain": [
       "<Figure size 468x158.4 with 3 Axes>"
      ]
     },
     "metadata": {
      "needs_background": "light"
     },
     "output_type": "display_data"
    }
   ],
   "source": [
    "fig, axs = plt.subplots(1, 3, figsize=(6.5, 2.2), gridspec_kw={'width_ratios': [1, 1, 0.07]})\n",
    "\n",
    "for r, ax in zip(['reps', 'ureps'], axs):\n",
    "    for gid, group in groups.query('type==\"C\"').groupby('smarts'):\n",
    "        c = np.repeat(group['coef'], group['count'])\n",
    "        X = np.concatenate(group[f'tsne_{r}'])\n",
    "        c= ax.scatter(X[:, 0], X[:, 1], \n",
    "                      c=c, s=1.5, edgecolor='none', vmin=-2.5, vmax=1.5, zorder=-float(group['coef']))\n",
    "    ax.set_title('Trained' if r == 'reps' else 'Untrained')\n",
    "    \n",
    "c = ax.scatter([], [], c=[], vmin=-2.5, vmax=1.5)\n",
    "for ax in axs[:2]:\n",
    "    ax.set_xticks([])\n",
    "    ax.set_yticks([])\n",
    "\n",
    "fig.colorbar(c, label='$E_{solv}$ contrib. (kcal/mol)', cax=axs[2])\n",
    "fig.tight_layout()\n",
    "fig.savefig(os.path.join('figures', 'atom-rep-vs-contrib-plot.png'), dpi=320)"
   ]
  },
  {
   "cell_type": "markdown",
   "metadata": {},
   "source": [
    "Save the features for later"
   ]
  },
  {
   "cell_type": "code",
   "execution_count": 32,
   "metadata": {},
   "outputs": [],
   "source": [
    "groups.to_pickle('groups_with_reps.pkl.gz')"
   ]
  }
 ],
 "metadata": {
  "kernelspec": {
   "display_name": "solv_ml",
   "language": "python",
   "name": "solv_ml"
  },
  "language_info": {
   "codemirror_mode": {
    "name": "ipython",
    "version": 3
   },
   "file_extension": ".py",
   "mimetype": "text/x-python",
   "name": "python",
   "nbconvert_exporter": "python",
   "pygments_lexer": "ipython3",
   "version": "3.6.8"
  }
 },
 "nbformat": 4,
 "nbformat_minor": 4
}
