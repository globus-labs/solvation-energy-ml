{
 "cells": [
  {
   "cell_type": "markdown",
   "metadata": {},
   "source": [
    "# Compare Network Performance\n",
    "Load in the results from the model trainings, and evaluate their performance"
   ]
  },
  {
   "cell_type": "code",
   "execution_count": 1,
   "metadata": {},
   "outputs": [],
   "source": [
    "%matplotlib inline\n",
    "from matplotlib import pyplot as plt\n",
    "from jcesr_ml.benchmark import load_benchmark_data\n",
    "from sklearn.metrics import mean_absolute_error\n",
    "from pathlib import Path\n",
    "from tqdm import tqdm\n",
    "from glob import glob\n",
    "import pickle as pkl\n",
    "import pandas as pd\n",
    "import numpy as np\n",
    "import json\n",
    "import os"
   ]
  },
  {
   "cell_type": "markdown",
   "metadata": {},
   "source": [
    "## Load in the Test Data\n",
    "We are going to use it to validate our models"
   ]
  },
  {
   "cell_type": "code",
   "execution_count": 2,
   "metadata": {},
   "outputs": [],
   "source": [
    "_, test_data = load_benchmark_data()"
   ]
  },
  {
   "cell_type": "code",
   "execution_count": 3,
   "metadata": {},
   "outputs": [
    {
     "name": "stdout",
     "output_type": "stream",
     "text": [
      "Baseline: 3.28\n"
     ]
    }
   ],
   "source": [
    "baseline_water = (test_data['sol_water'] - test_data['sol_water'].mean()).abs().mean()\n",
    "print(f'Baseline: {baseline_water:.2f}')"
   ]
  },
  {
   "cell_type": "markdown",
   "metadata": {},
   "source": [
    "## Score All Models\n",
    "Run all models on the test sets, store results in DataFrame"
   ]
  },
  {
   "cell_type": "code",
   "execution_count": 4,
   "metadata": {},
   "outputs": [],
   "source": [
    "models = glob(os.path.join('networks', '**', 'test_results.csv'), recursive=True)"
   ]
  },
  {
   "cell_type": "code",
   "execution_count": 5,
   "metadata": {},
   "outputs": [],
   "source": [
    "def score_model(path):\n",
    "    \"\"\"Given a log file, parse the settings for the network and the epoch time / ending val_loss\n",
    "    \n",
    "    Args:\n",
    "        path (str): Get the path \n",
    "    \"\"\"\n",
    "    \n",
    "    # Get the metadata from the `config.json` file\n",
    "    path = Path(path)\n",
    "    with open(path.parent / 'config.json') as fp:\n",
    "        metadata = json.load(fp)\n",
    "    metadata['path'] = path.parent\n",
    "       \n",
    "    # Score the model on the target variable\n",
    "    with open(path.parent.parent / 'options.json') as fp:\n",
    "        options = json.load(fp)\n",
    "    output = options['output_props']\n",
    "    metadata['output_variables'] = output\n",
    "    \n",
    "    # Load in the log\n",
    "    log = pd.read_csv(path.parent / 'train_log.csv')\n",
    "    metadata['epochs'] = len(log)\n",
    "    metadata['median_epoch_time'] = np.percentile(log['epoch_time'], 50)\n",
    "    metadata['total_time'] = log['epoch_time'].sum()\n",
    "    metadata['best_loss'] = log['val_loss'].min()\n",
    "    metadata['best_loss_epoch'] = log['val_loss'].idxmin()\n",
    "    \n",
    "    # Get the scores on the test set\n",
    "    directory = path.parent\n",
    "    test_data = pd.read_csv(path)\n",
    "    pred_cols = [f'{x}_pred' for x in output]\n",
    "    metadata['mae_all_outputs'] = mean_absolute_error(test_data[pred_cols], test_data[output])\n",
    "\n",
    "    # Get the MAE on water only\n",
    "    metadata['mae_water'] = mean_absolute_error(test_data['sol_water_pred'], test_data['sol_water'])\n",
    "    return metadata"
   ]
  },
  {
   "cell_type": "code",
   "execution_count": 6,
   "metadata": {},
   "outputs": [
    {
     "name": "stderr",
     "output_type": "stream",
     "text": [
      "100%|████████████████████████████████████████████████████████████████████████████████████████████████████████████████████████████████████████████████████████████████████| 60/60 [00:02<00:00, 30.00it/s]\n"
     ]
    }
   ],
   "source": [
    "results = [score_model(x) for x in tqdm(models)]"
   ]
  },
  {
   "cell_type": "code",
   "execution_count": 7,
   "metadata": {},
   "outputs": [],
   "source": [
    "results = pd.DataFrame(results)"
   ]
  },
  {
   "cell_type": "code",
   "execution_count": 8,
   "metadata": {},
   "outputs": [],
   "source": [
    "results.sort_values('mae_water', ascending=True).to_csv('mpnn-results.csv', index=False)"
   ]
  },
  {
   "cell_type": "markdown",
   "metadata": {},
   "source": [
    "## Evaluate the Models\n",
    "Make sure that our models are working as expected"
   ]
  },
  {
   "cell_type": "code",
   "execution_count": 9,
   "metadata": {
    "scrolled": true
   },
   "outputs": [
    {
     "data": {
      "text/html": [
       "<div>\n",
       "<style scoped>\n",
       "    .dataframe tbody tr th:only-of-type {\n",
       "        vertical-align: middle;\n",
       "    }\n",
       "\n",
       "    .dataframe tbody tr th {\n",
       "        vertical-align: top;\n",
       "    }\n",
       "\n",
       "    .dataframe thead th {\n",
       "        text-align: right;\n",
       "    }\n",
       "</style>\n",
       "<table border=\"1\" class=\"dataframe\">\n",
       "  <thead>\n",
       "    <tr style=\"text-align: right;\">\n",
       "      <th></th>\n",
       "      <th>name</th>\n",
       "      <th>mae_water</th>\n",
       "      <th>total_time</th>\n",
       "      <th>num_epochs</th>\n",
       "      <th>batch_size</th>\n",
       "      <th>median_epoch_time</th>\n",
       "    </tr>\n",
       "  </thead>\n",
       "  <tbody>\n",
       "    <tr>\n",
       "      <th>1</th>\n",
       "      <td>dielectric-constant-softplus-charges</td>\n",
       "      <td>0.297692</td>\n",
       "      <td>102836.882012</td>\n",
       "      <td>2048</td>\n",
       "      <td>512</td>\n",
       "      <td>52.730240</td>\n",
       "    </tr>\n",
       "    <tr>\n",
       "      <th>7</th>\n",
       "      <td>dielectric-constant-softplus-mpnn-charges</td>\n",
       "      <td>0.432225</td>\n",
       "      <td>355947.653867</td>\n",
       "      <td>8192</td>\n",
       "      <td>512</td>\n",
       "      <td>43.444650</td>\n",
       "    </tr>\n",
       "    <tr>\n",
       "      <th>55</th>\n",
       "      <td>dielectric-constant-softplus_no-acn</td>\n",
       "      <td>0.433976</td>\n",
       "      <td>352534.230792</td>\n",
       "      <td>8192</td>\n",
       "      <td>512</td>\n",
       "      <td>43.033689</td>\n",
       "    </tr>\n",
       "    <tr>\n",
       "      <th>6</th>\n",
       "      <td>dielectric-constant-softplus</td>\n",
       "      <td>0.434499</td>\n",
       "      <td>357012.966743</td>\n",
       "      <td>8192</td>\n",
       "      <td>512</td>\n",
       "      <td>43.573144</td>\n",
       "    </tr>\n",
       "    <tr>\n",
       "      <th>58</th>\n",
       "      <td>multi-task_multi-dense</td>\n",
       "      <td>0.435211</td>\n",
       "      <td>371488.084442</td>\n",
       "      <td>8192</td>\n",
       "      <td>512</td>\n",
       "      <td>45.342758</td>\n",
       "    </tr>\n",
       "    <tr>\n",
       "      <th>46</th>\n",
       "      <td>single-task</td>\n",
       "      <td>0.440289</td>\n",
       "      <td>351152.459489</td>\n",
       "      <td>8192</td>\n",
       "      <td>512</td>\n",
       "      <td>42.852508</td>\n",
       "    </tr>\n",
       "    <tr>\n",
       "      <th>4</th>\n",
       "      <td>dielectric-constant-softplus</td>\n",
       "      <td>0.445563</td>\n",
       "      <td>178162.320187</td>\n",
       "      <td>4096</td>\n",
       "      <td>512</td>\n",
       "      <td>43.500324</td>\n",
       "    </tr>\n",
       "    <tr>\n",
       "      <th>56</th>\n",
       "      <td>multi-task</td>\n",
       "      <td>0.445598</td>\n",
       "      <td>352054.413482</td>\n",
       "      <td>8192</td>\n",
       "      <td>512</td>\n",
       "      <td>42.967364</td>\n",
       "    </tr>\n",
       "    <tr>\n",
       "      <th>8</th>\n",
       "      <td>dielectric-constant-softplus-mpnn-charges</td>\n",
       "      <td>0.453259</td>\n",
       "      <td>101259.042081</td>\n",
       "      <td>2048</td>\n",
       "      <td>512</td>\n",
       "      <td>51.491894</td>\n",
       "    </tr>\n",
       "    <tr>\n",
       "      <th>54</th>\n",
       "      <td>dielectric-constant-softplus_no-acn</td>\n",
       "      <td>0.458205</td>\n",
       "      <td>101053.484549</td>\n",
       "      <td>2048</td>\n",
       "      <td>512</td>\n",
       "      <td>51.398600</td>\n",
       "    </tr>\n",
       "  </tbody>\n",
       "</table>\n",
       "</div>"
      ],
      "text/plain": [
       "                                         name  mae_water     total_time  \\\n",
       "1        dielectric-constant-softplus-charges   0.297692  102836.882012   \n",
       "7   dielectric-constant-softplus-mpnn-charges   0.432225  355947.653867   \n",
       "55        dielectric-constant-softplus_no-acn   0.433976  352534.230792   \n",
       "6                dielectric-constant-softplus   0.434499  357012.966743   \n",
       "58                     multi-task_multi-dense   0.435211  371488.084442   \n",
       "46                                single-task   0.440289  351152.459489   \n",
       "4                dielectric-constant-softplus   0.445563  178162.320187   \n",
       "56                                 multi-task   0.445598  352054.413482   \n",
       "8   dielectric-constant-softplus-mpnn-charges   0.453259  101259.042081   \n",
       "54        dielectric-constant-softplus_no-acn   0.458205  101053.484549   \n",
       "\n",
       "    num_epochs  batch_size  median_epoch_time  \n",
       "1         2048         512          52.730240  \n",
       "7         8192         512          43.444650  \n",
       "55        8192         512          43.033689  \n",
       "6         8192         512          43.573144  \n",
       "58        8192         512          45.342758  \n",
       "46        8192         512          42.852508  \n",
       "4         4096         512          43.500324  \n",
       "56        8192         512          42.967364  \n",
       "8         2048         512          51.491894  \n",
       "54        2048         512          51.398600  "
      ]
     },
     "execution_count": 9,
     "metadata": {},
     "output_type": "execute_result"
    }
   ],
   "source": [
    "results.sort_values('mae_water', ascending=True)[['name', 'mae_water', 'total_time',\n",
    "                                                  'num_epochs', 'batch_size', 'median_epoch_time']].head(10)"
   ]
  },
  {
   "cell_type": "code",
   "execution_count": 10,
   "metadata": {
    "scrolled": true
   },
   "outputs": [
    {
     "data": {
      "text/html": [
       "<div>\n",
       "<style scoped>\n",
       "    .dataframe tbody tr th:only-of-type {\n",
       "        vertical-align: middle;\n",
       "    }\n",
       "\n",
       "    .dataframe tbody tr th {\n",
       "        vertical-align: top;\n",
       "    }\n",
       "\n",
       "    .dataframe thead th {\n",
       "        text-align: right;\n",
       "    }\n",
       "</style>\n",
       "<table border=\"1\" class=\"dataframe\">\n",
       "  <thead>\n",
       "    <tr style=\"text-align: right;\">\n",
       "      <th></th>\n",
       "      <th>name</th>\n",
       "      <th>mae_water</th>\n",
       "      <th>total_time</th>\n",
       "      <th>epochs</th>\n",
       "      <th>batch_size</th>\n",
       "      <th>median_epoch_time</th>\n",
       "    </tr>\n",
       "  </thead>\n",
       "  <tbody>\n",
       "    <tr>\n",
       "      <th>7</th>\n",
       "      <td>dielectric-constant-softplus-mpnn-charges</td>\n",
       "      <td>0.432225</td>\n",
       "      <td>355947.653867</td>\n",
       "      <td>8192</td>\n",
       "      <td>512</td>\n",
       "      <td>43.444650</td>\n",
       "    </tr>\n",
       "    <tr>\n",
       "      <th>55</th>\n",
       "      <td>dielectric-constant-softplus_no-acn</td>\n",
       "      <td>0.433976</td>\n",
       "      <td>352534.230792</td>\n",
       "      <td>8192</td>\n",
       "      <td>512</td>\n",
       "      <td>43.033689</td>\n",
       "    </tr>\n",
       "    <tr>\n",
       "      <th>6</th>\n",
       "      <td>dielectric-constant-softplus</td>\n",
       "      <td>0.434499</td>\n",
       "      <td>357012.966743</td>\n",
       "      <td>8192</td>\n",
       "      <td>512</td>\n",
       "      <td>43.573144</td>\n",
       "    </tr>\n",
       "    <tr>\n",
       "      <th>58</th>\n",
       "      <td>multi-task_multi-dense</td>\n",
       "      <td>0.435211</td>\n",
       "      <td>371488.084442</td>\n",
       "      <td>8192</td>\n",
       "      <td>512</td>\n",
       "      <td>45.342758</td>\n",
       "    </tr>\n",
       "    <tr>\n",
       "      <th>46</th>\n",
       "      <td>single-task</td>\n",
       "      <td>0.440289</td>\n",
       "      <td>351152.459489</td>\n",
       "      <td>8192</td>\n",
       "      <td>512</td>\n",
       "      <td>42.852508</td>\n",
       "    </tr>\n",
       "    <tr>\n",
       "      <th>56</th>\n",
       "      <td>multi-task</td>\n",
       "      <td>0.445598</td>\n",
       "      <td>352054.413482</td>\n",
       "      <td>8192</td>\n",
       "      <td>512</td>\n",
       "      <td>42.967364</td>\n",
       "    </tr>\n",
       "    <tr>\n",
       "      <th>17</th>\n",
       "      <td>dielectric-constant-softplus-atomic-contrib</td>\n",
       "      <td>0.633913</td>\n",
       "      <td>513737.362490</td>\n",
       "      <td>8192</td>\n",
       "      <td>512</td>\n",
       "      <td>62.713254</td>\n",
       "    </tr>\n",
       "    <tr>\n",
       "      <th>47</th>\n",
       "      <td>dielectric-constant-softplus-atomic-contrib-fe...</td>\n",
       "      <td>0.736364</td>\n",
       "      <td>516657.509354</td>\n",
       "      <td>8192</td>\n",
       "      <td>512</td>\n",
       "      <td>63.061932</td>\n",
       "    </tr>\n",
       "  </tbody>\n",
       "</table>\n",
       "</div>"
      ],
      "text/plain": [
       "                                                 name  mae_water  \\\n",
       "7           dielectric-constant-softplus-mpnn-charges   0.432225   \n",
       "55                dielectric-constant-softplus_no-acn   0.433976   \n",
       "6                        dielectric-constant-softplus   0.434499   \n",
       "58                             multi-task_multi-dense   0.435211   \n",
       "46                                        single-task   0.440289   \n",
       "56                                         multi-task   0.445598   \n",
       "17        dielectric-constant-softplus-atomic-contrib   0.633913   \n",
       "47  dielectric-constant-softplus-atomic-contrib-fe...   0.736364   \n",
       "\n",
       "       total_time  epochs  batch_size  median_epoch_time  \n",
       "7   355947.653867    8192         512          43.444650  \n",
       "55  352534.230792    8192         512          43.033689  \n",
       "6   357012.966743    8192         512          43.573144  \n",
       "58  371488.084442    8192         512          45.342758  \n",
       "46  351152.459489    8192         512          42.852508  \n",
       "56  352054.413482    8192         512          42.967364  \n",
       "17  513737.362490    8192         512          62.713254  \n",
       "47  516657.509354    8192         512          63.061932  "
      ]
     },
     "execution_count": 10,
     "metadata": {},
     "output_type": "execute_result"
    }
   ],
   "source": [
    "results.sort_values('mae_water', ascending=True).query('num_epochs==8192 and train_size==117232')\\\n",
    "    [['name', 'mae_water', 'total_time', \n",
    "      'epochs', 'batch_size', 'median_epoch_time']]"
   ]
  },
  {
   "cell_type": "markdown",
   "metadata": {},
   "source": [
    "## Plot the Learning as Function of Epoch\n",
    "Look for anomalous behavior"
   ]
  },
  {
   "cell_type": "code",
   "execution_count": 11,
   "metadata": {
    "scrolled": true
   },
   "outputs": [
    {
     "data": {
      "image/png": "[encoded data removed]",
      "text/plain": [
       "<Figure size 720x432 with 1 Axes>"
      ]
     },
     "metadata": {
      "needs_background": "light"
     },
     "output_type": "display_data"
    }
   ],
   "source": [
    "fig, ax = plt.subplots()\n",
    "\n",
    "for _, f in results.query('name==\"dielectric-constant-softplus\"').iterrows():\n",
    "    log = pd.read_csv(os.path.join(f['path'], 'train_log.csv'))\n",
    "    ax.semilogy(log['epoch_time'].cumsum(), log['val_mean_absolute_error'], label=f['num_epochs'], alpha=0.7)\n",
    "\n",
    "ax.set_ylabel('Validation Loss')\n",
    "ax.set_xlabel('Epochs')\n",
    "ax.legend()\n",
    "fig.set_size_inches(10, 6)"
   ]
  },
  {
   "cell_type": "code",
   "execution_count": 12,
   "metadata": {
    "scrolled": true
   },
   "outputs": [
    {
     "name": "stdout",
     "output_type": "stream",
     "text": [
      "dielectric-constant-softplus best loss after 8192 epochs was at 1291 epochs: 0.2209128737449646\n",
      "dielectric-constant-softplus-mpnn-charges best loss after 8192 epochs was at 1416 epochs: 0.204763725399971\n",
      "dielectric-constant-softplus-atomic-contrib best loss after 8192 epochs was at 423 epochs: 0.3515715003013611\n",
      "single-task best loss after 8192 epochs was at 214 epochs: 0.9950709939002992\n",
      "single-task best loss after 8192 epochs was at 141 epochs: 1.6088789701461792\n",
      "single-task best loss after 8192 epochs was at 55 epochs: 3.551459550857544\n",
      "single-task best loss after 8192 epochs was at 203 epochs: 1.459917068481445\n",
      "single-task best loss after 8192 epochs was at 237 epochs: 2.8149704933166504\n",
      "single-task best loss after 8192 epochs was at 266 epochs: 1.0101851224899292\n",
      "single-task best loss after 8192 epochs was at 5794 epochs: 0.34854578971862793\n",
      "dielectric-constant-softplus-atomic-contrib-featureless best loss after 8192 epochs was at 889 epochs: 0.4203064739704132\n",
      "dielectric-constant-softplus_no-acn best loss after 8192 epochs was at 777 epochs: 0.2017851173877716\n",
      "multi-task best loss after 8192 epochs was at 615 epochs: 0.185702845454216\n",
      "multi-task_multi-dense best loss after 8192 epochs was at 1149 epochs: 0.20680609345436096\n"
     ]
    },
    {
     "data": {
      "image/png": "[encoded data removed]",
      "text/plain": [
       "<Figure size 720x432 with 1 Axes>"
      ]
     },
     "metadata": {
      "needs_background": "light"
     },
     "output_type": "display_data"
    }
   ],
   "source": [
    "fig, ax = plt.subplots()\n",
    "\n",
    "for _, f in results.query('num_epochs==8192').iterrows():\n",
    "    log = pd.read_csv(os.path.join(f['path'], 'train_log.csv'))\n",
    "    print('{} best loss after {} epochs was at {} epochs:'.format(f['name'], len(log), log['val_loss'].idxmin() + 1),\n",
    "              log['val_loss'].min())\n",
    "    ax.semilogy(log['epoch'], log['val_mean_absolute_error'], label=f['name'], alpha=0.7)\n",
    "\n",
    "ax.set_ylabel('Validation Loss')\n",
    "ax.set_xlabel('Epochs')\n",
    "#ax.set_xlim(0, 2000)\n",
    "ax.legend()\n",
    "fig.set_size_inches(10, 6)"
   ]
  },
  {
   "cell_type": "raw",
   "metadata": {},
   "source": []
  }
 ],
 "metadata": {
  "kernelspec": {
   "display_name": "solv_ml",
   "language": "python",
   "name": "solv_ml"
  },
  "language_info": {
   "codemirror_mode": {
    "name": "ipython",
    "version": 3
   },
   "file_extension": ".py",
   "mimetype": "text/x-python",
   "name": "python",
   "nbconvert_exporter": "python",
   "pygments_lexer": "ipython3",
   "version": "3.6.8"
  }
 },
 "nbformat": 4,
 "nbformat_minor": 4
}
