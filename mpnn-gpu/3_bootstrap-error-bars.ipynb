{
 "cells": [
  {
   "cell_type": "markdown",
   "metadata": {},
   "source": [
    "# Evaluating Error Bars from Bootstrap Ensembles\n",
    "We trained an ensemble of models trained with a bootstrapped sample of the full training set. \n",
    "Here, we explore if the variance is a good measure of variance"
   ]
  },
  {
   "cell_type": "code",
   "execution_count": 1,
   "metadata": {},
   "outputs": [
    {
     "name": "stderr",
     "output_type": "stream",
     "text": [
      "Using TensorFlow backend.\n",
      "/lus/theta-fs0/projects/CSC249ADCD08/solvation-energy-ml/env/lib/python3.6/site-packages/tensorflow/python/framework/dtypes.py:526: FutureWarning: Passing (type, 1) or '1type' as a synonym of type is deprecated; in a future version of numpy, it will be understood as (type, (1,)) / '(1,)type'.\n",
      "  _np_qint8 = np.dtype([(\"qint8\", np.int8, 1)])\n",
      "/lus/theta-fs0/projects/CSC249ADCD08/solvation-energy-ml/env/lib/python3.6/site-packages/tensorflow/python/framework/dtypes.py:527: FutureWarning: Passing (type, 1) or '1type' as a synonym of type is deprecated; in a future version of numpy, it will be understood as (type, (1,)) / '(1,)type'.\n",
      "  _np_quint8 = np.dtype([(\"quint8\", np.uint8, 1)])\n",
      "/lus/theta-fs0/projects/CSC249ADCD08/solvation-energy-ml/env/lib/python3.6/site-packages/tensorflow/python/framework/dtypes.py:528: FutureWarning: Passing (type, 1) or '1type' as a synonym of type is deprecated; in a future version of numpy, it will be understood as (type, (1,)) / '(1,)type'.\n",
      "  _np_qint16 = np.dtype([(\"qint16\", np.int16, 1)])\n",
      "/lus/theta-fs0/projects/CSC249ADCD08/solvation-energy-ml/env/lib/python3.6/site-packages/tensorflow/python/framework/dtypes.py:529: FutureWarning: Passing (type, 1) or '1type' as a synonym of type is deprecated; in a future version of numpy, it will be understood as (type, (1,)) / '(1,)type'.\n",
      "  _np_quint16 = np.dtype([(\"quint16\", np.uint16, 1)])\n",
      "/lus/theta-fs0/projects/CSC249ADCD08/solvation-energy-ml/env/lib/python3.6/site-packages/tensorflow/python/framework/dtypes.py:530: FutureWarning: Passing (type, 1) or '1type' as a synonym of type is deprecated; in a future version of numpy, it will be understood as (type, (1,)) / '(1,)type'.\n",
      "  _np_qint32 = np.dtype([(\"qint32\", np.int32, 1)])\n",
      "/lus/theta-fs0/projects/CSC249ADCD08/solvation-energy-ml/env/lib/python3.6/site-packages/tensorflow/python/framework/dtypes.py:535: FutureWarning: Passing (type, 1) or '1type' as a synonym of type is deprecated; in a future version of numpy, it will be understood as (type, (1,)) / '(1,)type'.\n",
      "  np_resource = np.dtype([(\"resource\", np.ubyte, 1)])\n",
      "RDKit WARNING: [13:52:48] Enabling RDKit 2019.09.3 jupyter extensions\n"
     ]
    }
   ],
   "source": [
    "%matplotlib inline\n",
    "from matplotlib import pyplot as plt\n",
    "from jcesr_ml.benchmark import load_benchmark_data\n",
    "from jcesr_ml.mpnn import set_custom_objects, run_model\n",
    "from sklearn.metrics import mean_absolute_error, r2_score\n",
    "from scipy.stats import norm\n",
    "from nfp.preprocessing import GraphSequence\n",
    "from keras.models import load_model\n",
    "from tqdm import tqdm\n",
    "import pickle as pkl\n",
    "import pandas as pd\n",
    "import numpy as np\n",
    "import shutil\n",
    "import json\n",
    "import os"
   ]
  },
  {
   "cell_type": "markdown",
   "metadata": {},
   "source": [
    "Set up the environment"
   ]
  },
  {
   "cell_type": "code",
   "execution_count": 2,
   "metadata": {},
   "outputs": [],
   "source": [
    "set_custom_objects()"
   ]
  },
  {
   "cell_type": "code",
   "execution_count": 3,
   "metadata": {},
   "outputs": [],
   "source": [
    "train_data, test_data = load_benchmark_data()"
   ]
  },
  {
   "cell_type": "markdown",
   "metadata": {},
   "source": [
    "## Build Utility Scripts\n",
    "Scripts used to assess model performance"
   ]
  },
  {
   "cell_type": "code",
   "execution_count": 4,
   "metadata": {},
   "outputs": [],
   "source": [
    "model_info = pd.read_csv('mpnn-results.csv')"
   ]
  },
  {
   "cell_type": "code",
   "execution_count": 5,
   "metadata": {},
   "outputs": [],
   "source": [
    "def load_solv_models(desc):\n",
    "    \"\"\"Loads an ensemble of models and associated featurizer\n",
    "    \n",
    "    Args:\n",
    "        desc (dict): Model configuration\n",
    "    Returns:\n",
    "        - (Model) Keras model\n",
    "        - (SmilesPreprocesser) Associated featurizer\n",
    "        - ([str]) List of model paths\n",
    "        - ([str]) List of output properties\n",
    "    \"\"\"\n",
    "    \n",
    "    # Check if network name is in the description\n",
    "    if 'name' not in desc:\n",
    "        raise ValueError('`name` must be included in the model configuration')\n",
    "        \n",
    "    # Load in the converter\n",
    "    conv_path = os.path.join('networks', desc['name'], 'converter.pkl')\n",
    "    with open(conv_path, 'rb') as fp:\n",
    "        conv = pkl.load(fp)\n",
    "    \n",
    "    # Find the desired model\n",
    "    query = ' and '.join(f'{k}==\"{v}\"' for k, v in desc.items())\n",
    "    hits = model_info.query(f'{query} and bootstrap').sort_values('seed')\n",
    "    print(f'Found {len(hits)} models. Random seeds: {hits.seed.tolist()}')\n",
    "    if len(hits) == 0:\n",
    "        raise ValueError(f'No such model for query: {query}')\n",
    "    model_paths = [os.path.join(p, 'best_model.h5') for p in hits['path']]\n",
    "    models = [load_model(p) for p in tqdm(model_paths)]\n",
    "    \n",
    "    with open(os.path.join(os.path.dirname(model_paths[0]), '..', 'options.json')) as fp:\n",
    "        output_props = json.load(fp)['output_props']\n",
    "    \n",
    "    return models, conv, model_paths, output_props"
   ]
  },
  {
   "cell_type": "markdown",
   "metadata": {},
   "source": [
    "## Plot the Performance of One Model on a Few Molecules\n",
    "Just to see what we're working with. Are the predictions smooth and accurate?"
   ]
  },
  {
   "cell_type": "code",
   "execution_count": 6,
   "metadata": {},
   "outputs": [
    {
     "name": "stderr",
     "output_type": "stream",
     "text": [
      "  0%|                                                                                                  | 0/16 [00:00<?, ?it/s]"
     ]
    },
    {
     "name": "stdout",
     "output_type": "stream",
     "text": [
      "Found 16 models. Random seeds: [1, 2, 3, 4, 5, 6, 7, 8, 9, 10, 11, 12, 13, 14, 15, 16]\n",
      "WARNING:tensorflow:From /lus/theta-fs0/projects/CSC249ADCD08/solvation-energy-ml/env/lib/python3.6/site-packages/tensorflow/python/ops/resource_variable_ops.py:435: colocate_with (from tensorflow.python.framework.ops) is deprecated and will be removed in a future version.\n",
      "Instructions for updating:\n",
      "Colocations handled automatically by placer.\n",
      "WARNING:tensorflow:From /lus/theta-fs0/projects/CSC249ADCD08/solvation-energy-ml/env/lib/python3.6/site-packages/tensorflow/python/ops/math_ops.py:3066: to_int32 (from tensorflow.python.ops.math_ops) is deprecated and will be removed in a future version.\n",
      "Instructions for updating:\n",
      "Use tf.cast instead.\n"
     ]
    },
    {
     "name": "stderr",
     "output_type": "stream",
     "text": [
      "/lus/theta-fs0/projects/CSC249ADCD08/solvation-energy-ml/env/lib/python3.6/site-packages/tensorflow/python/ops/gradients_impl.py:110: UserWarning: Converting sparse IndexedSlices to a dense Tensor of unknown shape. This may consume a large amount of memory.\n",
      "  \"Converting sparse IndexedSlices to a dense Tensor of unknown shape. \"\n",
      "100%|█████████████████████████████████████████████████████████████████████████████████████████| 16/16 [02:55<00:00, 10.97s/it]\n"
     ]
    }
   ],
   "source": [
    "models, conv, model_paths, output_props = load_solv_models({\n",
    "    'name': 'dielectric-constant-softplus-atomic-contrib', 'num_epochs': 4096\n",
    "})"
   ]
  },
  {
   "cell_type": "code",
   "execution_count": 7,
   "metadata": {},
   "outputs": [],
   "source": [
    "def get_ensemble_estimate(models, conv, mols, batch_size=1024):\n",
    "    \"\"\"Predict the solvation energy with an ensemble of models\n",
    "    \n",
    "    Args:\n",
    "        models ([Model]): Solvation energy models\n",
    "        conv (SmilesPreprocessor): Tool to generate inputs for model\n",
    "        mols ([str]): List of smiles strings to evaluate\n",
    "    Returns:\n",
    "        \n",
    "    \"\"\"\n",
    "    # Turn the molecule into a graph sequence\n",
    "    g = GraphSequence(list(conv.preprocess(mols, train=False)), batch_size=1024)\n",
    "    \n",
    "    # Pipe the sequence through the model\n",
    "    return np.stack([model.predict(g) for model in tqdm(models)], axis=-1)"
   ]
  },
  {
   "cell_type": "code",
   "execution_count": 8,
   "metadata": {},
   "outputs": [
    {
     "name": "stderr",
     "output_type": "stream",
     "text": [
      "100%|█████████████████████████████████████████████████████████████████████████████████| 13026/13026 [00:07<00:00, 1722.45it/s]\n",
      "100%|█████████████████████████████████████████████████████████████████████████████████████████| 16/16 [03:56<00:00, 14.81s/it]\n"
     ]
    }
   ],
   "source": [
    "y_pred = get_ensemble_estimate(models, conv, test_data['smiles_0'])"
   ]
  },
  {
   "cell_type": "code",
   "execution_count": 9,
   "metadata": {},
   "outputs": [],
   "source": [
    "y_pred_mean = np.mean(y_pred, axis=-1)"
   ]
  },
  {
   "cell_type": "code",
   "execution_count": 10,
   "metadata": {},
   "outputs": [],
   "source": [
    "y_pred_std = np.std(y_pred, axis=-1)"
   ]
  },
  {
   "cell_type": "markdown",
   "metadata": {},
   "source": [
    "## Make a Plot with the Error Bars\n",
    "Just to see how they are doing, visually"
   ]
  },
  {
   "cell_type": "code",
   "execution_count": 11,
   "metadata": {},
   "outputs": [
    {
     "data": {
      "text/plain": [
       "Text(0, 0.5, '$E_{solv}$, ML (kcal/mol)')"
      ]
     },
     "execution_count": 11,
     "metadata": {},
     "output_type": "execute_result"
    },
    {
     "data": {
      "image/png": "[encoded data removed]",
      "text/plain": [
       "<Figure size 252x252 with 1 Axes>"
      ]
     },
     "metadata": {
      "needs_background": "light"
     },
     "output_type": "display_data"
    }
   ],
   "source": [
    "fig, ax = plt.subplots(figsize=(3.5, 3.5))\n",
    "\n",
    "ax.errorbar(test_data[output_props[0]], np.mean(y_pred[:, 0, :], axis=-1),\n",
    "            fmt='o', alpha=0.2, yerr=np.std(y_pred[:, 0, :], axis=-1))\n",
    "\n",
    "ax.set_xlim(-20, 0)\n",
    "ax.set_ylim(ax.get_xlim())\n",
    "ax.plot(ax.get_xlim(), ax.get_xlim(), 'k--')\n",
    "\n",
    "ax.set_xlabel('$E_{solv}$, DFT (kcal/mol)')\n",
    "ax.set_ylabel('$E_{solv}$, ML (kcal/mol)')"
   ]
  },
  {
   "cell_type": "markdown",
   "metadata": {},
   "source": [
    "Plot the normalized residuals"
   ]
  },
  {
   "cell_type": "code",
   "execution_count": 12,
   "metadata": {},
   "outputs": [],
   "source": [
    "Z = (y_pred_mean - test_data[output_props].values) / y_pred_std"
   ]
  },
  {
   "cell_type": "code",
   "execution_count": 13,
   "metadata": {},
   "outputs": [
    {
     "data": {
      "text/plain": [
       "Text(0, 0.5, 'PDF')"
      ]
     },
     "execution_count": 13,
     "metadata": {},
     "output_type": "execute_result"
    },
    {
     "data": {
      "image/png": "[encoded data removed]",
      "text/plain": [
       "<Figure size 252x158.4 with 1 Axes>"
      ]
     },
     "metadata": {
      "needs_background": "light"
     },
     "output_type": "display_data"
    }
   ],
   "source": [
    "fig, ax = plt.subplots(figsize=(3.5, 2.2))\n",
    "\n",
    "ax.hist(Z.flatten(), bins=np.linspace(-4, 4, 128), density=True)\n",
    "ax.set_xlim(ax.get_xlim())\n",
    "\n",
    "z = np.linspace(*ax.get_xlim(), 128)\n",
    "ax.plot(z, norm().pdf(z), 'k--')\n",
    "\n",
    "ax.set_xlabel('Norm. Residual')\n",
    "ax.set_ylabel('PDF')"
   ]
  },
  {
   "cell_type": "markdown",
   "metadata": {},
   "source": [
    "*Finding*: Decent fit to a normal distribution"
   ]
  },
  {
   "cell_type": "markdown",
   "metadata": {},
   "source": [
    "## Save Paths to Models\n",
    "Make it easy to load in the ensemble later"
   ]
  },
  {
   "cell_type": "code",
   "execution_count": 14,
   "metadata": {},
   "outputs": [],
   "source": [
    "out_path = 'bootstrapped-models'"
   ]
  },
  {
   "cell_type": "code",
   "execution_count": 15,
   "metadata": {},
   "outputs": [],
   "source": [
    "if os.path.isdir(out_path):\n",
    "    shutil.rmtree(out_path)\n",
    "os.mkdir(out_path)"
   ]
  },
  {
   "cell_type": "code",
   "execution_count": 16,
   "metadata": {},
   "outputs": [],
   "source": [
    "with open(os.path.join(out_path, 'conv.pkl'), 'wb') as fp:\n",
    "    pkl.dump(conv, fp)"
   ]
  },
  {
   "cell_type": "code",
   "execution_count": 17,
   "metadata": {},
   "outputs": [],
   "source": [
    "for i, m in enumerate(model_paths):\n",
    "    os.symlink(os.path.join('..', m), os.path.join(out_path, f'model_{i}.h5'))"
   ]
  },
  {
   "cell_type": "code",
   "execution_count": null,
   "metadata": {},
   "outputs": [],
   "source": []
  }
 ],
 "metadata": {
  "kernelspec": {
   "display_name": "solv_ml",
   "language": "python",
   "name": "solv_ml"
  },
  "language_info": {
   "codemirror_mode": {
    "name": "ipython",
    "version": 3
   },
   "file_extension": ".py",
   "mimetype": "text/x-python",
   "name": "python",
   "nbconvert_exporter": "python",
   "pygments_lexer": "ipython3",
   "version": "3.6.8"
  }
 },
 "nbformat": 4,
 "nbformat_minor": 4
}
