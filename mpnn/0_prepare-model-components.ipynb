{
 "cells": [
  {
   "cell_type": "markdown",
   "metadata": {},
   "source": [
    "# Make MPNN Neural Network\n",
    "This notebook creates a Message Passing Neural Network using [nfp](http://github.com/nrel/nfp) in a form ready for training."
   ]
  },
  {
   "cell_type": "code",
   "execution_count": 1,
   "metadata": {},
   "outputs": [
    {
     "name": "stderr",
     "output_type": "stream",
     "text": [
      "Using TensorFlow backend.\n"
     ]
    }
   ],
   "source": [
    "from jcesr_ml.benchmark import load_benchmark_data, dielectric_constants\n",
    "from jcesr_ml.keras import cartesian_product\n",
    "from jcesr_ml.mpnn import SolvationPreprocessor, PartialChargesPreprocessor, save_model_files\n",
    "from nfp.layers import (MessageLayer, GRUStep, Set2Set, ReduceAtomToMol, \n",
    "                        Embedding2D, Embedding2DCompressed, Squeeze)\n",
    "from keras.layers import (Add, Input, Dense, BatchNormalization, Reshape, Concatenate,\n",
    "                          Activation, Dropout, Embedding, Lambda)\n",
    "from keras import backend as K\n",
    "from nfp.models import GraphModel\n",
    "from nfp.preprocessing import GraphSequence\n",
    "import tensorflow as tf\n",
    "import pickle as pkl\n",
    "import numpy as np\n",
    "import shutil\n",
    "import json\n",
    "import os"
   ]
  },
  {
   "cell_type": "code",
   "execution_count": 2,
   "metadata": {},
   "outputs": [],
   "source": [
    "train_data, _ = load_benchmark_data()"
   ]
  },
  {
   "cell_type": "markdown",
   "metadata": {},
   "source": [
    "Get the columns for the outputs"
   ]
  },
  {
   "cell_type": "code",
   "execution_count": 3,
   "metadata": {},
   "outputs": [],
   "source": [
    "sol_cols = [x for x in train_data.columns if x.startswith('sol_')]"
   ]
  },
  {
   "cell_type": "code",
   "execution_count": 4,
   "metadata": {},
   "outputs": [],
   "source": [
    "sols_without_acn = list(sol_cols)\n",
    "sols_without_acn.remove('sol_acn')"
   ]
  },
  {
   "cell_type": "markdown",
   "metadata": {},
   "source": [
    "## Make the Preprocessing Tools\n",
    "These tools convert the SMILES representation of a molecule into a set of features needed for the graph training."
   ]
  },
  {
   "cell_type": "code",
   "execution_count": 5,
   "metadata": {},
   "outputs": [],
   "source": [
    "preprocessor = SolvationPreprocessor([], explicit_hs=True)"
   ]
  },
  {
   "cell_type": "code",
   "execution_count": 6,
   "metadata": {},
   "outputs": [
    {
     "name": "stderr",
     "output_type": "stream",
     "text": [
      "100%|██████████| 117232/117232 [01:00<00:00, 1945.68it/s]\n"
     ]
    }
   ],
   "source": [
    "preprocessor.fit(train_data['smiles_0']);"
   ]
  },
  {
   "cell_type": "markdown",
   "metadata": {},
   "source": [
    "## Make Utility Functions\n",
    "Make a model-building function and a tool to save a model to disk"
   ]
  },
  {
   "cell_type": "code",
   "execution_count": 7,
   "metadata": {},
   "outputs": [],
   "source": [
    "def build_fn(preprocessor, embedding=128, mol_features=1024,\n",
    "             message_steps=6, bond_2d=False, activation='relu',\n",
    "             set2set=False, set2set_steps=3, num_output=1):\n",
    "    \"\"\"Build a MPNN Keras model\n",
    "    \n",
    "    Adapted from: https://github.com/NREL/nfp/blob/master/examples/run_2D_model_noatom_bn.py\n",
    "    \n",
    "    Args:\n",
    "        preprocessor (SmilesPreprocessor): Tool to generate inputs from SMILES string\n",
    "        embedding (int): Size of the atom/bond embedding\n",
    "        mol_features (int): Number of features to use to describe a molecule\n",
    "        message_steps (int): Number of message-passing steps\n",
    "        bond_2d (bool): Whether to use 2D embeddings\n",
    "        set2set (bool): Whether to use set2set for the input\n",
    "        set2set_steps (int): Number of set2set iterations\n",
    "        num_output (int): Number of output features\n",
    "    \"\"\"\n",
    "    \n",
    "    # Raw (integer) graph inputs\n",
    "    #  node_graph_indices - Maps the atom index to which molecule it came from\n",
    "    #  atom_types - Categorical type of each atom\n",
    "    #  bond_types - Categorical type of each bond\n",
    "    #  connectivity - Atoms on each end of each bond\n",
    "    node_graph_indices = Input(shape=(1,), name='node_graph_indices', dtype='int32')\n",
    "    atom_types = Input(shape=(1,), name='atom', dtype='int32')\n",
    "    bond_types = Input(shape=(1,), name='bond', dtype='int32')\n",
    "    connectivity = Input(shape=(2,), name='connectivity', dtype='int32')\n",
    "\n",
    "    # The \"indices\" and \"type\" inputs have 1 feature per \"entry\"\n",
    "    #  The Squeeze layer removes this singleton dimension to make the data easier to use\n",
    "    squeeze = Squeeze()\n",
    "    snode_graph_indices = squeeze(node_graph_indices)\n",
    "    satom_types = squeeze(atom_types)\n",
    "    sbond_types = squeeze(bond_types)\n",
    "\n",
    "    # Create the embedding for each atom type\n",
    "    atom_state = Embedding(\n",
    "        preprocessor.atom_classes,\n",
    "        embedding, name='atom_embedding')(satom_types)\n",
    "\n",
    "    # Create the embedding for each bond type\n",
    "    if bond_2d:\n",
    "        bond_matrix = Embedding2D(\n",
    "            preprocessor.bond_classes,\n",
    "            embedding, name='bond_embedding')(sbond_types)\n",
    "    else:\n",
    "        bond_matrix = Embedding2DCompressed(\n",
    "            preprocessor.bond_classes,\n",
    "            embedding, name='bond_embedding')(sbond_types)\n",
    "\n",
    "    # The core of the message passing framework: Recurrent and Message-passing layers\n",
    "    #  The Message Layer computes an update message for each atom given the state of it's neighbors\n",
    "    #  The Reccurent Layer (GRUStep) computes how the state of the atom changes given a message\n",
    "    atom_rnn_layer = GRUStep(embedding)\n",
    "    message_layer = MessageLayer(reducer='sum')\n",
    "\n",
    "    # Perform the message passing\n",
    "    for _ in range(message_steps):\n",
    "\n",
    "        # Get the message updates to each atom\n",
    "        message = message_layer([atom_state, bond_matrix, connectivity])\n",
    "\n",
    "        # Update memory and atom states\n",
    "        atom_state = atom_rnn_layer([message, atom_state])\n",
    "\n",
    "    # After the message passing step, we allow the atom state to be transformed with a dense layer\n",
    "    # atom_state = BatchNormalization(momentum=0.9)(atom_state)\n",
    "    atom_fingerprint = Dense(mol_features, activation='sigmoid')(atom_state)\n",
    "    \n",
    "    # To create a representation for the moleccule, we sum over all its atoms\n",
    "    if set2set:\n",
    "        # Or set2set\n",
    "        mol_out = Set2Set(set2set_steps)([atom_fingerprint, snode_graph_indices])\n",
    "    else:\n",
    "        mol_out = ReduceAtomToMol(reducer='sum')([atom_fingerprint, snode_graph_indices])\n",
    "\n",
    "    # Final dense steps to map the molecular representation to properties\n",
    "    mol_out = BatchNormalization(momentum=0.9)(mol_out)\n",
    "    mol_out = Dense(mol_features // 2, activation=activation)(mol_out)\n",
    "\n",
    "    mol_out = BatchNormalization(momentum=0.9)(mol_out)\n",
    "    mol_out = Dense(mol_features // 4, activation=activation)(mol_out)\n",
    "    mol_out = Dense(num_output)(mol_out)\n",
    "\n",
    "    return GraphModel([node_graph_indices, atom_types, bond_types, connectivity], [mol_out])"
   ]
  },
  {
   "cell_type": "markdown",
   "metadata": {},
   "source": [
    "## Single-Task Network\n",
    "Predict only solvation energy in water"
   ]
  },
  {
   "cell_type": "code",
   "execution_count": 8,
   "metadata": {},
   "outputs": [
    {
     "name": "stdout",
     "output_type": "stream",
     "text": [
      "WARNING:tensorflow:From /home/lward/miniconda3/envs/jcesr_ml/lib/python3.6/site-packages/tensorflow/python/framework/op_def_library.py:263: colocate_with (from tensorflow.python.framework.ops) is deprecated and will be removed in a future version.\n",
      "Instructions for updating:\n",
      "Colocations handled automatically by placer.\n"
     ]
    }
   ],
   "source": [
    "model = build_fn(preprocessor)"
   ]
  },
  {
   "cell_type": "code",
   "execution_count": 9,
   "metadata": {},
   "outputs": [
    {
     "name": "stdout",
     "output_type": "stream",
     "text": [
      "Already output. Skipping\n"
     ]
    }
   ],
   "source": [
    "save_model_files('single-task', preprocessor, model)"
   ]
  },
  {
   "cell_type": "markdown",
   "metadata": {},
   "source": [
    "## Multi-Task Network\n",
    "Predict solvation energy for all of the things"
   ]
  },
  {
   "cell_type": "code",
   "execution_count": 10,
   "metadata": {},
   "outputs": [],
   "source": [
    "model = build_fn(preprocessor, num_output=len(sol_cols))"
   ]
  },
  {
   "cell_type": "code",
   "execution_count": 11,
   "metadata": {},
   "outputs": [
    {
     "name": "stdout",
     "output_type": "stream",
     "text": [
      "Already output. Skipping\n"
     ]
    }
   ],
   "source": [
    "save_model_files('multi-task', preprocessor, model, output_props=sol_cols)"
   ]
  },
  {
   "cell_type": "markdown",
   "metadata": {},
   "source": [
    "Make a version that does not train on ACN"
   ]
  },
  {
   "cell_type": "code",
   "execution_count": 12,
   "metadata": {},
   "outputs": [],
   "source": [
    "model = build_fn(preprocessor, num_output=len(sols_without_acn))"
   ]
  },
  {
   "cell_type": "code",
   "execution_count": 13,
   "metadata": {},
   "outputs": [
    {
     "name": "stdout",
     "output_type": "stream",
     "text": [
      "Already output. Skipping\n"
     ]
    }
   ],
   "source": [
    "save_model_files('multi-task_no-acn', preprocessor, model, output_props=sols_without_acn)"
   ]
  },
  {
   "cell_type": "markdown",
   "metadata": {},
   "source": [
    "Multitask with softplus activation"
   ]
  },
  {
   "cell_type": "code",
   "execution_count": 14,
   "metadata": {},
   "outputs": [],
   "source": [
    "model = build_fn(preprocessor, num_output=len(sol_cols), activation='softplus')"
   ]
  },
  {
   "cell_type": "code",
   "execution_count": 15,
   "metadata": {},
   "outputs": [
    {
     "name": "stdout",
     "output_type": "stream",
     "text": [
      "Already output. Skipping\n"
     ]
    }
   ],
   "source": [
    "save_model_files('multi-task_softplus', preprocessor, model, output_props=sol_cols)"
   ]
  },
  {
   "cell_type": "markdown",
   "metadata": {},
   "source": [
    "Multi-task where you have a different dense layer for each output"
   ]
  },
  {
   "cell_type": "code",
   "execution_count": 16,
   "metadata": {},
   "outputs": [],
   "source": [
    "def build_fn(preprocessor, embedding=128, mol_features=1024,\n",
    "             message_steps=6, bond_2d=False, activation='relu',\n",
    "             set2set=False, set2set_steps=3, num_output=1):\n",
    "    \"\"\"Build a MPNN Keras model\n",
    "    \n",
    "    Adapted from: https://github.com/NREL/nfp/blob/master/examples/run_2D_model_noatom_bn.py\n",
    "    \n",
    "    Args:\n",
    "        preprocessor (SmilesPreprocessor): Tool to generate inputs from SMILES string\n",
    "        embedding (int): Size of the atom/bond embedding\n",
    "        mol_features (int): Number of features to use to describe a molecule\n",
    "        message_steps (int): Number of message-passing steps\n",
    "        activation (str): Activation function\n",
    "        bond_2d (bool): Whether to use 2D embeddings\n",
    "        set2set (bool): Whether to use set2set for the input\n",
    "        set2set_steps (int): Number of set2set iterations\n",
    "        num_output (int): Number of output features\n",
    "    \"\"\"\n",
    "    \n",
    "    # Raw (integer) graph inputs\n",
    "    #  node_graph_indices - Maps the atom index to which molecule it came from\n",
    "    #  atom_types - Categorical type of each atom\n",
    "    #  bond_types - Categorical type of each bond\n",
    "    #  connectivity - Atoms on each end of each bond\n",
    "    node_graph_indices = Input(shape=(1,), name='node_graph_indices', dtype='int32')\n",
    "    atom_types = Input(shape=(1,), name='atom', dtype='int32')\n",
    "    bond_types = Input(shape=(1,), name='bond', dtype='int32')\n",
    "    connectivity = Input(shape=(2,), name='connectivity', dtype='int32')\n",
    "\n",
    "    # The \"indices\" and \"type\" inputs have 1 feature per \"entry\"\n",
    "    #  The Squeeze layer removes this singleton dimension to make the data easier to use\n",
    "    squeeze = Squeeze()\n",
    "    snode_graph_indices = squeeze(node_graph_indices)\n",
    "    satom_types = squeeze(atom_types)\n",
    "    sbond_types = squeeze(bond_types)\n",
    "\n",
    "    # Create the embedding for each atom type\n",
    "    atom_state = Embedding(\n",
    "        preprocessor.atom_classes,\n",
    "        embedding, name='atom_embedding')(satom_types)\n",
    "\n",
    "    # Create the embedding for each bond type\n",
    "    if bond_2d:\n",
    "        bond_matrix = Embedding2D(\n",
    "            preprocessor.bond_classes,\n",
    "            embedding, name='bond_embedding')(sbond_types)\n",
    "    else:\n",
    "        bond_matrix = Embedding2DCompressed(\n",
    "            preprocessor.bond_classes,\n",
    "            embedding, name='bond_embedding')(sbond_types)\n",
    "\n",
    "    # The core of the message passing framework: Recurrent and Message-passing layers\n",
    "    #  The Message Layer computes an update message for each atom given the state of it's neighbors\n",
    "    #  The Reccurent Layer (GRUStep) computes how the state of the atom changes given a message\n",
    "    atom_rnn_layer = GRUStep(embedding)\n",
    "    message_layer = MessageLayer(reducer='sum')\n",
    "\n",
    "    # Perform the message passing\n",
    "    for _ in range(message_steps):\n",
    "\n",
    "        # Get the message updates to each atom\n",
    "        message = message_layer([atom_state, bond_matrix, connectivity])\n",
    "\n",
    "        # Update memory and atom states\n",
    "        atom_state = atom_rnn_layer([message, atom_state])\n",
    "\n",
    "    # After the message passing step, we allow the atom state to be transformed with a dense layer\n",
    "    # atom_state = BatchNormalization(momentum=0.9)(atom_state)\n",
    "    atom_fingerprint = Dense(mol_features, activation='sigmoid')(atom_state)\n",
    "    \n",
    "    # To create a representation for the moleccule, we sum over all its atoms\n",
    "    if set2set:\n",
    "        # Or set2set\n",
    "        mol_out = Set2Set(set2set_steps)([atom_fingerprint, snode_graph_indices])\n",
    "    else:\n",
    "        mol_out = ReduceAtomToMol(reducer='sum')([atom_fingerprint, snode_graph_indices])\n",
    "\n",
    "    # Final dense steps to map the molecular representation to properties\n",
    "    #  One network for each solvation output\n",
    "    outputs = []\n",
    "    for i in range(num_output):\n",
    "        solv_out = BatchNormalization(momentum=0.9)(mol_out)\n",
    "        solv_out = Dense(mol_features // 2, activation=activation)(solv_out)\n",
    "\n",
    "        solv_out = BatchNormalization(momentum=0.9)(solv_out)\n",
    "        solv_out = Dense(mol_features // 4, activation=activation)(solv_out)\n",
    "        solv_out = Dense(1)(solv_out)\n",
    "        \n",
    "        outputs.append(solv_out)\n",
    "        \n",
    "    # Concatenate them\n",
    "    output = Concatenate()(outputs)\n",
    "        \n",
    "    return GraphModel([node_graph_indices, atom_types, bond_types, connectivity], [output])"
   ]
  },
  {
   "cell_type": "code",
   "execution_count": 17,
   "metadata": {},
   "outputs": [],
   "source": [
    "model = build_fn(preprocessor, num_output=len(sol_cols))"
   ]
  },
  {
   "cell_type": "code",
   "execution_count": 18,
   "metadata": {},
   "outputs": [
    {
     "name": "stdout",
     "output_type": "stream",
     "text": [
      "Already output. Skipping\n"
     ]
    }
   ],
   "source": [
    "save_model_files('multi-task_multi-dense', preprocessor, model, output_props=sol_cols)"
   ]
  },
  {
   "cell_type": "markdown",
   "metadata": {},
   "source": [
    "## Including Dielectric Constant\n",
    "The multiple solvation energies may be distinct output classes, but they are really the same class with three different inputs.\n",
    "Here, we define a network that also takes the dielectric compounds as inputs for a machine learning model.\n",
    "As these are hard-coded in the training set (we have the same 5 solvents for each molecules), we hard code the values of these inputs in our models"
   ]
  },
  {
   "cell_type": "code",
   "execution_count": 19,
   "metadata": {},
   "outputs": [],
   "source": [
    "def build_fn_with_dec(preprocessor, embedding=128, mol_features=1024,\n",
    "             message_steps=6, bond_2d=False, activation='relu',\n",
    "             reduce_atom='sum', set2set=False, set2set_steps=3):\n",
    "    \"\"\"Build a MPNN Keras model\n",
    "    \n",
    "    Adapted from: https://github.com/NREL/nfp/blob/master/examples/run_2D_model_noatom_bn.py\n",
    "    \n",
    "    Args:\n",
    "        preprocessor (SolvationPreprocessor): Tool to generate inputs from SMILES string\n",
    "        embedding (int): Size of the atom/bond embedding\n",
    "        mol_features (int): Number of features to use to describe a molecule\n",
    "        message_steps (int): Number of message-passing steps\n",
    "        activation (str): Desired activation function\n",
    "        reduce_atom (str): Method used to reduce atom contribution to mol representation\n",
    "        bond_2d (bool): Whether to use 2D embeddings\n",
    "        set2set (bool): Whether to use set2set for the input\n",
    "        set2set_steps (int): Number of set2set iterations\n",
    "    \"\"\"\n",
    "    \n",
    "    # Raw (integer) graph inputs\n",
    "    #  node_graph_indices - Maps the atom index to which molecule it came from\n",
    "    #  atom_types - Categorical type of each atom\n",
    "    #  bond_types - Categorical type of each bond\n",
    "    #  connectivity - Atoms on each end of each bond\n",
    "    node_graph_indices = Input(shape=(1,), name='node_graph_indices', dtype='int32')\n",
    "    atom_types = Input(shape=(1,), name='atom', dtype='int32')\n",
    "    bond_types = Input(shape=(1,), name='bond', dtype='int32')\n",
    "    connectivity = Input(shape=(2,), name='connectivity', dtype='int32')\n",
    "    dielectric_cnst_input = Input(shape=(None,), name='dielectric_constants')\n",
    "    \n",
    "    # Expand dielectric constants to a Nx1 array\n",
    "    dielectric_cnst = Lambda(K.max, arguments={'axis': 0, 'keepdims': True})(dielectric_cnst_input)\n",
    "    dielectric_cnst = Lambda(K.transpose)(dielectric_cnst)\n",
    "\n",
    "    # The \"indices\" and \"type\" inputs have 1 feature per \"entry\"\n",
    "    #  The Squeeze layer removes this singleton dimension to make the data easier to use\n",
    "    squeeze = Squeeze()\n",
    "    snode_graph_indices = squeeze(node_graph_indices)\n",
    "    satom_types = squeeze(atom_types)\n",
    "    sbond_types = squeeze(bond_types)\n",
    "\n",
    "    # Create the embedding for each atom type\n",
    "    atom_state = Embedding(\n",
    "        preprocessor.atom_classes,\n",
    "        embedding, name='atom_embedding')(satom_types)\n",
    "\n",
    "    # Create the embedding for each bond type\n",
    "    if bond_2d:\n",
    "        bond_matrix = Embedding2D(\n",
    "            preprocessor.bond_classes,\n",
    "            embedding, name='bond_embedding')(sbond_types)\n",
    "    else:\n",
    "        bond_matrix = Embedding2DCompressed(\n",
    "            preprocessor.bond_classes,\n",
    "            embedding, name='bond_embedding')(sbond_types)\n",
    "\n",
    "    # The core of the message passing framework: Recurrent and Message-passing layers\n",
    "    #  The Message Layer computes an update message for each atom given the state of it's neighbors\n",
    "    #  The Reccurent Layer (GRUStep) computes how the state of the atom changes given a message\n",
    "    atom_rnn_layer = GRUStep(embedding)\n",
    "    message_layer = MessageLayer(reducer='sum')\n",
    "\n",
    "    # Perform the message passing\n",
    "    for _ in range(message_steps):\n",
    "\n",
    "        # Get the message updates to each atom\n",
    "        message = message_layer([atom_state, bond_matrix, connectivity])\n",
    "\n",
    "        # Update memory and atom states\n",
    "        atom_state = atom_rnn_layer([message, atom_state])\n",
    "\n",
    "    # After the message passing step, we allow the atom state to be transformed with a dense layer\n",
    "    # atom_state = BatchNormalization(momentum=0.9)(atom_state)\n",
    "    atom_fingerprint = Dense(mol_features, activation='sigmoid')(atom_state)\n",
    "    \n",
    "    # To create a representation for the moleccule, we sum over all its atoms\n",
    "    if set2set:\n",
    "        # Or set2set\n",
    "        mol_out = Set2Set(set2set_steps)([atom_fingerprint, snode_graph_indices])\n",
    "    else:\n",
    "        mol_out = ReduceAtomToMol(reducer=reduce_atom)([atom_fingerprint, snode_graph_indices])\n",
    "        \n",
    "    # Add dielectric cnst to molecule output\n",
    "    #  Outputs shape will be [n_mols, n_dielectrics, mol_features+1]\n",
    "    mol_out = Lambda(cartesian_product)([mol_out, dielectric_cnst])\n",
    "\n",
    "    # Final dense steps to map the molecular representation to properties\n",
    "    mol_out = BatchNormalization(momentum=0.9)(mol_out)\n",
    "    mol_out = Dense(mol_features // 2, activation=activation)(mol_out)\n",
    "\n",
    "    mol_out = BatchNormalization(momentum=0.9)(mol_out)\n",
    "    mol_out = Dense(mol_features // 4, activation=activation)(mol_out)\n",
    "    mol_out = Dense(1)(mol_out)\n",
    "    \n",
    "    # Layer to simplify learning scaling for the outputs\n",
    "    mol_out = Dense(1, name='scale_layer')(mol_out)\n",
    "    \n",
    "    # Reshape to the desired number of ouputs\n",
    "    mol_out = Squeeze(axis=-1)(mol_out)\n",
    "\n",
    "    return GraphModel([node_graph_indices, atom_types, bond_types, connectivity,\n",
    "                       dielectric_cnst_input], [mol_out])"
   ]
  },
  {
   "cell_type": "markdown",
   "metadata": {},
   "source": [
    "Make a version where we use all solvents in the training set"
   ]
  },
  {
   "cell_type": "code",
   "execution_count": 20,
   "metadata": {},
   "outputs": [],
   "source": [
    "preprocessor.dielectric_cnsts = [dielectric_constants[s] for s in sol_cols]"
   ]
  },
  {
   "cell_type": "code",
   "execution_count": 21,
   "metadata": {},
   "outputs": [],
   "source": [
    "model = build_fn_with_dec(preprocessor)"
   ]
  },
  {
   "cell_type": "markdown",
   "metadata": {},
   "source": [
    "Set the scaling layer to the mean value of the training data"
   ]
  },
  {
   "cell_type": "code",
   "execution_count": 22,
   "metadata": {},
   "outputs": [],
   "source": [
    "l = model.get_layer('scale_layer')"
   ]
  },
  {
   "cell_type": "code",
   "execution_count": 23,
   "metadata": {},
   "outputs": [],
   "source": [
    "l.set_weights([np.array([[train_data[sol_cols].values.std()]]),\n",
    "               np.array([train_data[sol_cols].mean().mean()])])"
   ]
  },
  {
   "cell_type": "code",
   "execution_count": 24,
   "metadata": {},
   "outputs": [
    {
     "name": "stdout",
     "output_type": "stream",
     "text": [
      "Already output. Skipping\n"
     ]
    }
   ],
   "source": [
    "save_model_files('dielectric-constant', preprocessor, model, output_props=sol_cols, normalize=False)"
   ]
  },
  {
   "cell_type": "markdown",
   "metadata": {},
   "source": [
    "Make a version with softplus activation"
   ]
  },
  {
   "cell_type": "code",
   "execution_count": 25,
   "metadata": {},
   "outputs": [],
   "source": [
    "preprocessor.dielectric_cnsts = [dielectric_constants[s] for s in sol_cols]"
   ]
  },
  {
   "cell_type": "code",
   "execution_count": 26,
   "metadata": {},
   "outputs": [],
   "source": [
    "model = build_fn_with_dec(preprocessor, activation='softplus')\n",
    "l = model.get_layer('scale_layer')\n",
    "l.set_weights([np.array([[train_data[sol_cols].values.std()]]),\n",
    "               np.array([train_data[sol_cols].mean().mean()])])"
   ]
  },
  {
   "cell_type": "code",
   "execution_count": 27,
   "metadata": {},
   "outputs": [
    {
     "name": "stdout",
     "output_type": "stream",
     "text": [
      "Already output. Skipping\n"
     ]
    }
   ],
   "source": [
    "save_model_files('dielectric-constant-softplus', preprocessor, model, output_props=sol_cols, normalize=False)"
   ]
  },
  {
   "cell_type": "markdown",
   "metadata": {},
   "source": [
    "Make version with using a mean reduce"
   ]
  },
  {
   "cell_type": "code",
   "execution_count": 28,
   "metadata": {},
   "outputs": [],
   "source": [
    "preprocessor.dielectric_cnsts = [dielectric_constants[s] for s in sol_cols]"
   ]
  },
  {
   "cell_type": "code",
   "execution_count": 29,
   "metadata": {},
   "outputs": [],
   "source": [
    "model = build_fn_with_dec(preprocessor, reduce_atom='mean')\n",
    "l = model.get_layer('scale_layer')\n",
    "l.set_weights([np.array([[train_data[sol_cols].values.std()]]),\n",
    "               np.array([train_data[sol_cols].mean().mean()])])"
   ]
  },
  {
   "cell_type": "code",
   "execution_count": 30,
   "metadata": {},
   "outputs": [
    {
     "name": "stdout",
     "output_type": "stream",
     "text": [
      "Already output. Skipping\n"
     ]
    }
   ],
   "source": [
    "save_model_files('dielectric-constant-average', preprocessor, model, output_props=sol_cols, normalize=False)"
   ]
  },
  {
   "cell_type": "markdown",
   "metadata": {},
   "source": [
    "Make a version where we withhold a solvent. Here, we choose ACN because it is in the middle"
   ]
  },
  {
   "cell_type": "code",
   "execution_count": 31,
   "metadata": {},
   "outputs": [],
   "source": [
    "preprocessor.dielectric_cnsts = [dielectric_constants[s] for s in sols_without_acn]"
   ]
  },
  {
   "cell_type": "code",
   "execution_count": 32,
   "metadata": {},
   "outputs": [],
   "source": [
    "model = build_fn_with_dec(preprocessor)"
   ]
  },
  {
   "cell_type": "code",
   "execution_count": 33,
   "metadata": {},
   "outputs": [],
   "source": [
    "l = model.get_layer('scale_layer')"
   ]
  },
  {
   "cell_type": "code",
   "execution_count": 34,
   "metadata": {},
   "outputs": [],
   "source": [
    "l.set_weights([np.array([[train_data[sols_without_acn].values.std()]]),\n",
    "               np.array([train_data[sols_without_acn].mean().mean()])])"
   ]
  },
  {
   "cell_type": "code",
   "execution_count": 35,
   "metadata": {},
   "outputs": [
    {
     "name": "stdout",
     "output_type": "stream",
     "text": [
      "Already output. Skipping\n"
     ]
    }
   ],
   "source": [
    "save_model_files('dielectric-constant_no-acn', preprocessor, model, normalize=False, output_props=sols_without_acn)"
   ]
  },
  {
   "cell_type": "markdown",
   "metadata": {},
   "source": [
    "Do the same thing, but with softplus activation"
   ]
  },
  {
   "cell_type": "code",
   "execution_count": 36,
   "metadata": {},
   "outputs": [],
   "source": [
    "model = build_fn_with_dec(preprocessor, activation='softplus')"
   ]
  },
  {
   "cell_type": "code",
   "execution_count": 37,
   "metadata": {},
   "outputs": [],
   "source": [
    "l.set_weights([np.array([[train_data[sols_without_acn].values.std()]]),\n",
    "               np.array([train_data[sols_without_acn].mean().mean()])])"
   ]
  },
  {
   "cell_type": "code",
   "execution_count": 38,
   "metadata": {},
   "outputs": [
    {
     "name": "stdout",
     "output_type": "stream",
     "text": [
      "Already output. Skipping\n"
     ]
    }
   ],
   "source": [
    "save_model_files('dielectric-constant-softplus_no-acn', preprocessor, model, normalize=False, output_props=sols_without_acn)"
   ]
  },
  {
   "cell_type": "markdown",
   "metadata": {},
   "source": [
    "## Models with Atomic Partial Charges\n",
    "Have a model that incorporates the partial charges on each atom"
   ]
  },
  {
   "cell_type": "markdown",
   "metadata": {},
   "source": [
    "Make a preprocessor that injects partial charges as inputs"
   ]
  },
  {
   "cell_type": "code",
   "execution_count": 39,
   "metadata": {},
   "outputs": [],
   "source": [
    "with open(os.path.join('..', '..', 'partial-charges', 'mapped_charges.pkl'), 'rb') as fp:\n",
    "    partial_charges = pkl.load(fp)"
   ]
  },
  {
   "cell_type": "code",
   "execution_count": 40,
   "metadata": {},
   "outputs": [],
   "source": [
    "charges_preprocessor = PartialChargesPreprocessor(partial_charges, [])"
   ]
  },
  {
   "cell_type": "code",
   "execution_count": 41,
   "metadata": {},
   "outputs": [
    {
     "name": "stderr",
     "output_type": "stream",
     "text": [
      "100%|██████████| 117232/117232 [00:59<00:00, 1957.20it/s]\n"
     ]
    }
   ],
   "source": [
    "charges_preprocessor.fit(train_data['smiles_0']);"
   ]
  },
  {
   "cell_type": "code",
   "execution_count": 42,
   "metadata": {},
   "outputs": [],
   "source": [
    "def build_fn_with_dec_charges(preprocessor, embedding=128, mol_features=1024,\n",
    "             message_steps=6, bond_2d=False, activation='relu',\n",
    "             reduce_atom='sum', set2set=False, set2set_steps=3):\n",
    "    \"\"\"Build a MPNN Keras model with partial charges and \n",
    "    \n",
    "    Adapted from: https://github.com/NREL/nfp/blob/master/examples/run_2D_model_noatom_bn.py\n",
    "    \n",
    "    Args:\n",
    "        preprocessor (SolvationPreprocessor): Tool to generate inputs from SMILES string\n",
    "        embedding (int): Size of the atom/bond embedding\n",
    "        mol_features (int): Number of features to use to describe a molecule\n",
    "        message_steps (int): Number of message-passing steps\n",
    "        activation (str): Desired activation function\n",
    "        reduce_atom (str): Method used to reduce atom contribution to mol representation\n",
    "        bond_2d (bool): Whether to use 2D embeddings\n",
    "        set2set (bool): Whether to use set2set for the input\n",
    "        set2set_steps (int): Number of set2set iterations\n",
    "    \"\"\"\n",
    "    \n",
    "    # Raw (integer) graph inputs\n",
    "    #  node_graph_indices - Maps the atom index to which molecule it came from\n",
    "    #  atom_types - Categorical type of each atom\n",
    "    #  bond_types - Categorical type of each bond\n",
    "    #  connectivity - Atoms on each end of each bond\n",
    "    node_graph_indices = Input(shape=(1,), name='node_graph_indices', dtype='int32')\n",
    "    atom_types = Input(shape=(1,), name='atom', dtype='int32')\n",
    "    bond_types = Input(shape=(1,), name='bond', dtype='int32')\n",
    "    connectivity = Input(shape=(2,), name='connectivity', dtype='int32')\n",
    "    partial_charges_input = Input(shape=(1,), name='partial_charges', dtype=K.floatx())\n",
    "    dielectric_cnst_input = Input(shape=(None,), name='dielectric_constants')\n",
    "    \n",
    "    # Expand dielectric constants to a Nx1 array\n",
    "    dielectric_cnst = Lambda(K.max, arguments={'axis': 0, 'keepdims': True})(dielectric_cnst_input)\n",
    "    dielectric_cnst = Lambda(K.transpose)(dielectric_cnst)\n",
    "\n",
    "    # The \"indices\" and \"type\" inputs have 1 feature per \"entry\"\n",
    "    #  The Squeeze layer removes this singleton dimension to make the data easier to use\n",
    "    squeeze = Squeeze()\n",
    "    snode_graph_indices = squeeze(node_graph_indices)\n",
    "    satom_types = squeeze(atom_types)\n",
    "    sbond_types = squeeze(bond_types)\n",
    "\n",
    "    # Create the embedding for each atom type\n",
    "    atom_state = Embedding(\n",
    "        preprocessor.atom_classes,\n",
    "        embedding - 1, name='atom_embedding')(satom_types)\n",
    "\n",
    "    # Create the embedding for each bond type\n",
    "    if bond_2d:\n",
    "        bond_matrix = Embedding2D(\n",
    "            preprocessor.bond_classes,\n",
    "            embedding, name='bond_embedding')(sbond_types)\n",
    "    else:\n",
    "        bond_matrix = Embedding2DCompressed(\n",
    "            preprocessor.bond_classes,\n",
    "            embedding, name='bond_embedding')(sbond_types)\n",
    "        \n",
    "    # Add the partial charges to the embedding\n",
    "    atom_state = Concatenate(name='add_charges')([atom_state, partial_charges_input])\n",
    "\n",
    "    # The core of the message passing framework: Recurrent and Message-passing layers\n",
    "    #  The Message Layer computes an update message for each atom given the state of it's neighbors\n",
    "    #  The Reccurent Layer (GRUStep) computes how the state of the atom changes given a message\n",
    "    atom_rnn_layer = GRUStep(embedding)\n",
    "    message_layer = MessageLayer(reducer='sum')\n",
    "\n",
    "    # Perform the message passing\n",
    "    for _ in range(message_steps):\n",
    "\n",
    "        # Get the message updates to each atom\n",
    "        message = message_layer([atom_state, bond_matrix, connectivity])\n",
    "\n",
    "        # Update memory and atom states\n",
    "        atom_state = atom_rnn_layer([message, atom_state])\n",
    "\n",
    "    # After the message passing step, we allow the atom state to be transformed with a dense layer\n",
    "    # atom_state = BatchNormalization(momentum=0.9)(atom_state)\n",
    "    atom_fingerprint = Dense(mol_features, activation='sigmoid')(atom_state)\n",
    "    \n",
    "    # To create a representation for the moleccule, we sum over all its atoms\n",
    "    if set2set:\n",
    "        # Or set2set\n",
    "        mol_out = Set2Set(set2set_steps)([atom_fingerprint, snode_graph_indices])\n",
    "    else:\n",
    "        mol_out = ReduceAtomToMol(reducer=reduce_atom)([atom_fingerprint, snode_graph_indices])\n",
    "        \n",
    "    # Add dielectric cnst to molecule output\n",
    "    #  Outputs shape will be [n_mols, n_dielectrics, mol_features+1]\n",
    "    mol_out = Lambda(cartesian_product)([mol_out, dielectric_cnst])\n",
    "\n",
    "    # Final dense steps to map the molecular representation to properties\n",
    "    mol_out = BatchNormalization(momentum=0.9)(mol_out)\n",
    "    mol_out = Dense(mol_features // 2, activation=activation)(mol_out)\n",
    "\n",
    "    mol_out = BatchNormalization(momentum=0.9)(mol_out)\n",
    "    mol_out = Dense(mol_features // 4, activation=activation)(mol_out)\n",
    "    mol_out = Dense(1)(mol_out)\n",
    "    \n",
    "    # Layer to simplify learning scaling for the outputs\n",
    "    mol_out = Dense(1, name='scale_layer')(mol_out)\n",
    "    \n",
    "    # Reshape to the desired number of ouputs\n",
    "    mol_out = Squeeze(axis=-1)(mol_out)\n",
    "\n",
    "    return GraphModel([node_graph_indices, atom_types, bond_types, connectivity,\n",
    "                       dielectric_cnst_input, partial_charges_input], [mol_out])"
   ]
  },
  {
   "cell_type": "markdown",
   "metadata": {},
   "source": [
    "Make a version trained on all solvents"
   ]
  },
  {
   "cell_type": "code",
   "execution_count": 43,
   "metadata": {},
   "outputs": [],
   "source": [
    "model = build_fn_with_dec_charges(preprocessor, activation='softmax')"
   ]
  },
  {
   "cell_type": "code",
   "execution_count": 44,
   "metadata": {},
   "outputs": [],
   "source": [
    "charges_preprocessor.dielectric_cnsts = [dielectric_constants[s] for s in sol_cols]"
   ]
  },
  {
   "cell_type": "code",
   "execution_count": 45,
   "metadata": {},
   "outputs": [],
   "source": [
    "l = model.get_layer('scale_layer')\n",
    "l.set_weights([np.array([[train_data[sol_cols].values.std()]]),\n",
    "               np.array([train_data[sol_cols].mean().mean()])])"
   ]
  },
  {
   "cell_type": "code",
   "execution_count": 46,
   "metadata": {},
   "outputs": [
    {
     "name": "stdout",
     "output_type": "stream",
     "text": [
      "Already output. Skipping\n"
     ]
    }
   ],
   "source": [
    "save_model_files('dielectric-constant-charges', charges_preprocessor,\n",
    "           model, output_props=sol_cols, normalize=False)"
   ]
  },
  {
   "cell_type": "markdown",
   "metadata": {},
   "source": [
    "Make a version trained on all solvents"
   ]
  },
  {
   "cell_type": "code",
   "execution_count": 47,
   "metadata": {},
   "outputs": [],
   "source": [
    "charges_preprocessor.dielectric_cnsts = [dielectric_constants[s] for s in sols_without_acn]"
   ]
  },
  {
   "cell_type": "code",
   "execution_count": 48,
   "metadata": {},
   "outputs": [],
   "source": [
    "l = model.get_layer('scale_layer')\n",
    "l.set_weights([np.array([[train_data[sols_without_acn].values.std()]]),\n",
    "               np.array([train_data[sols_without_acn].mean().mean()])])"
   ]
  },
  {
   "cell_type": "code",
   "execution_count": 49,
   "metadata": {},
   "outputs": [
    {
     "name": "stdout",
     "output_type": "stream",
     "text": [
      "Already output. Skipping\n"
     ]
    }
   ],
   "source": [
    "save_model_files('dielectric-constant-charges_no-acn', charges_preprocessor,\n",
    "                 model, output_props=sols_without_acn, normalize=False)"
   ]
  },
  {
   "cell_type": "markdown",
   "metadata": {},
   "source": [
    "Models were we use either Gasteiger partial charges or those predicted from an MPNN"
   ]
  },
  {
   "cell_type": "code",
   "execution_count": 50,
   "metadata": {},
   "outputs": [],
   "source": [
    "with open(os.path.join('..', '..', 'partial-charges', 'gasteiger-charges.pkl'), 'rb') as fp:\n",
    "    charges_preprocessor.charges_lookup = pkl.load(fp)"
   ]
  },
  {
   "cell_type": "code",
   "execution_count": 51,
   "metadata": {},
   "outputs": [
    {
     "name": "stdout",
     "output_type": "stream",
     "text": [
      "Already output. Skipping\n"
     ]
    }
   ],
   "source": [
    "save_model_files('dielectric-constant-gasteiger-charges_no-acn', charges_preprocessor,\n",
    "                 model, output_props=sols_without_acn, normalize=False)"
   ]
  },
  {
   "cell_type": "code",
   "execution_count": 52,
   "metadata": {},
   "outputs": [],
   "source": [
    "with open(os.path.join('..', '..', 'partial-charges', 'mpnn-charges.pkl'), 'rb') as fp:\n",
    "    charges_preprocessor.charges_lookup = pkl.load(fp)"
   ]
  },
  {
   "cell_type": "code",
   "execution_count": 53,
   "metadata": {},
   "outputs": [
    {
     "name": "stdout",
     "output_type": "stream",
     "text": [
      "Already output. Skipping\n"
     ]
    }
   ],
   "source": [
    "save_model_files('dielectric-constant-mpnn-charges_no-acn', charges_preprocessor,\n",
    "                 model, output_props=sols_without_acn, normalize=False)"
   ]
  },
  {
   "cell_type": "markdown",
   "metadata": {},
   "source": [
    "Save a version where we use all solvation energies and MPNN charges"
   ]
  },
  {
   "cell_type": "code",
   "execution_count": 54,
   "metadata": {},
   "outputs": [],
   "source": [
    "charges_preprocessor.dielectric_cnsts = [dielectric_constants[s] for s in sol_cols]"
   ]
  },
  {
   "cell_type": "code",
   "execution_count": 55,
   "metadata": {},
   "outputs": [],
   "source": [
    "l = model.get_layer('scale_layer')\n",
    "l.set_weights([np.array([[train_data[sols_without_acn].values.std()]]),\n",
    "               np.array([train_data[sols_without_acn].mean().mean()])])"
   ]
  },
  {
   "cell_type": "code",
   "execution_count": 57,
   "metadata": {},
   "outputs": [],
   "source": [
    "save_model_files('dielectric-constant-mpnn-charges', charges_preprocessor,\n",
    "                 model, output_props=sol_cols, normalize=False)"
   ]
  },
  {
   "cell_type": "code",
   "execution_count": null,
   "metadata": {},
   "outputs": [],
   "source": []
  }
 ],
 "metadata": {
  "kernelspec": {
   "display_name": "Python 3",
   "language": "python",
   "name": "python3"
  },
  "language_info": {
   "codemirror_mode": {
    "name": "ipython",
    "version": 3
   },
   "file_extension": ".py",
   "mimetype": "text/x-python",
   "name": "python",
   "nbconvert_exporter": "python",
   "pygments_lexer": "ipython3",
   "version": "3.6.8"
  }
 },
 "nbformat": 4,
 "nbformat_minor": 4
}
