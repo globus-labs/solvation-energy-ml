{
 "cells": [
  {
   "cell_type": "markdown",
   "metadata": {},
   "source": [
    "# Testing Models that Include Dielectric Constant as an Input\n",
    "A few of our modelling strategies employ the dielectric constant as an input to the model. \n",
    "Here, we test whether these models reasonably predict the sovlation energy for dielectric constants not included in the dataset."
   ]
  },
  {
   "cell_type": "code",
   "execution_count": 1,
   "metadata": {},
   "outputs": [
    {
     "name": "stdout",
     "output_type": "stream",
     "text": [
      "The history saving thread hit an unexpected error (DatabaseError('database disk image is malformed',)).History will not be written to the database.\n"
     ]
    },
    {
     "name": "stderr",
     "output_type": "stream",
     "text": [
      "Using TensorFlow backend.\n",
      "/home/wardlt/miniconda3/envs/solv_ml/lib/python3.6/site-packages/tensorflow/python/framework/dtypes.py:526: FutureWarning: Passing (type, 1) or '1type' as a synonym of type is deprecated; in a future version of numpy, it will be understood as (type, (1,)) / '(1,)type'.\n",
      "  _np_qint8 = np.dtype([(\"qint8\", np.int8, 1)])\n",
      "/home/wardlt/miniconda3/envs/solv_ml/lib/python3.6/site-packages/tensorflow/python/framework/dtypes.py:527: FutureWarning: Passing (type, 1) or '1type' as a synonym of type is deprecated; in a future version of numpy, it will be understood as (type, (1,)) / '(1,)type'.\n",
      "  _np_quint8 = np.dtype([(\"quint8\", np.uint8, 1)])\n",
      "/home/wardlt/miniconda3/envs/solv_ml/lib/python3.6/site-packages/tensorflow/python/framework/dtypes.py:528: FutureWarning: Passing (type, 1) or '1type' as a synonym of type is deprecated; in a future version of numpy, it will be understood as (type, (1,)) / '(1,)type'.\n",
      "  _np_qint16 = np.dtype([(\"qint16\", np.int16, 1)])\n",
      "/home/wardlt/miniconda3/envs/solv_ml/lib/python3.6/site-packages/tensorflow/python/framework/dtypes.py:529: FutureWarning: Passing (type, 1) or '1type' as a synonym of type is deprecated; in a future version of numpy, it will be understood as (type, (1,)) / '(1,)type'.\n",
      "  _np_quint16 = np.dtype([(\"quint16\", np.uint16, 1)])\n",
      "/home/wardlt/miniconda3/envs/solv_ml/lib/python3.6/site-packages/tensorflow/python/framework/dtypes.py:530: FutureWarning: Passing (type, 1) or '1type' as a synonym of type is deprecated; in a future version of numpy, it will be understood as (type, (1,)) / '(1,)type'.\n",
      "  _np_qint32 = np.dtype([(\"qint32\", np.int32, 1)])\n",
      "/home/wardlt/miniconda3/envs/solv_ml/lib/python3.6/site-packages/tensorflow/python/framework/dtypes.py:535: FutureWarning: Passing (type, 1) or '1type' as a synonym of type is deprecated; in a future version of numpy, it will be understood as (type, (1,)) / '(1,)type'.\n",
      "  np_resource = np.dtype([(\"resource\", np.ubyte, 1)])\n"
     ]
    }
   ],
   "source": [
    "%matplotlib inline\n",
    "from matplotlib import pyplot as plt\n",
    "from matplotlib.colors import LogNorm\n",
    "from jcesr_ml.benchmark import load_benchmark_data, dielectric_constants\n",
    "from jcesr_ml.mpnn import set_custom_objects, run_model\n",
    "from sklearn.metrics import mean_absolute_error, r2_score\n",
    "from nfp.preprocessing import GraphSequence\n",
    "from keras.models import load_model\n",
    "import pickle as pkl\n",
    "import pandas as pd\n",
    "import numpy as np\n",
    "import os"
   ]
  },
  {
   "cell_type": "markdown",
   "metadata": {},
   "source": [
    "Set up the environment"
   ]
  },
  {
   "cell_type": "code",
   "execution_count": 2,
   "metadata": {},
   "outputs": [],
   "source": [
    "set_custom_objects()"
   ]
  },
  {
   "cell_type": "code",
   "execution_count": 3,
   "metadata": {},
   "outputs": [],
   "source": [
    "data = pd.concat(load_benchmark_data())"
   ]
  },
  {
   "cell_type": "markdown",
   "metadata": {},
   "source": [
    "## Build Utility Scripts\n",
    "Scripts used to assess model performance"
   ]
  },
  {
   "cell_type": "code",
   "execution_count": 4,
   "metadata": {},
   "outputs": [],
   "source": [
    "models = pd.read_json('mpnn-results.json')"
   ]
  },
  {
   "cell_type": "code",
   "execution_count": 5,
   "metadata": {},
   "outputs": [],
   "source": [
    "def load_solv_model(desc):\n",
    "    \"\"\"Loads a model and associated featurizer\n",
    "    \n",
    "    Args:\n",
    "        desc (dict): Model configuration\n",
    "    Returns:\n",
    "        - (Model) Keras model\n",
    "        - (SmilesPreprocesser) Associated featurizer\n",
    "    \"\"\"\n",
    "    \n",
    "    # Check if network name is in the description\n",
    "    if 'network' not in desc:\n",
    "        raise ValueError('`network` must be included in the model configuration')\n",
    "        \n",
    "    # Load in the converter\n",
    "    conv_path = os.path.join('networks', desc['network'], 'converter.pkl')\n",
    "    with open(conv_path, 'rb') as fp:\n",
    "        conv = pkl.load(fp)\n",
    "    \n",
    "    # Find the desired model\n",
    "    query = ' and '.join(f'{k}==\"{v}\"' for k, v in desc.items())\n",
    "    hits = models.query(query)\n",
    "    if len(hits) > 1:\n",
    "        raise ValueError(f'Found more than one match: {hits[\"path\"].tolist()}')\n",
    "    elif len(hits) == 0:\n",
    "        raise ValueError(f'No such model for query: {query}')\n",
    "    model_info = hits.iloc[0]\n",
    "    model = load_model(os.path.join(model_info['path'], 'best_model.h5'))\n",
    "    \n",
    "    # Warn if model hasn't finished training\n",
    "    if not model_info['finished']:\n",
    "        print('WARNING: Model has not finished training')\n",
    "    \n",
    "    return model, conv"
   ]
  },
  {
   "cell_type": "markdown",
   "metadata": {},
   "source": [
    "## Plot the Performance of One Model on a Few Molecules\n",
    "Just to see what we're working with. Are the predictions smooth and accurate?"
   ]
  },
  {
   "cell_type": "code",
   "execution_count": 6,
   "metadata": {},
   "outputs": [
    {
     "name": "stdout",
     "output_type": "stream",
     "text": [
      "WARNING:tensorflow:From /home/wardlt/miniconda3/envs/solv_ml/lib/python3.6/site-packages/tensorflow/python/framework/op_def_library.py:263: colocate_with (from tensorflow.python.framework.ops) is deprecated and will be removed in a future version.\n",
      "Instructions for updating:\n",
      "Colocations handled automatically by placer.\n",
      "WARNING:tensorflow:From /home/wardlt/miniconda3/envs/solv_ml/lib/python3.6/site-packages/tensorflow/python/ops/math_ops.py:3066: to_int32 (from tensorflow.python.ops.math_ops) is deprecated and will be removed in a future version.\n",
      "Instructions for updating:\n",
      "Use tf.cast instead.\n"
     ]
    },
    {
     "name": "stderr",
     "output_type": "stream",
     "text": [
      "/home/wardlt/miniconda3/envs/solv_ml/lib/python3.6/site-packages/tensorflow/python/ops/gradients_impl.py:110: UserWarning: Converting sparse IndexedSlices to a dense Tensor of unknown shape. This may consume a large amount of memory.\n",
      "  \"Converting sparse IndexedSlices to a dense Tensor of unknown shape. \"\n"
     ]
    }
   ],
   "source": [
    "model, conv = load_solv_model({'network': 'dielectric-constant-softplus_no-acn', 'batch_size': 16384})"
   ]
  },
  {
   "cell_type": "code",
   "execution_count": 7,
   "metadata": {},
   "outputs": [],
   "source": [
    "def eval_solvation_energy(model, conv, mol, e):\n",
    "    \"\"\"Predict the solvation energy as a function of dielectric constant\n",
    "    \n",
    "    Args:\n",
    "        model (Model): Solvation energy model\n",
    "        conv (SmilesPreprocessor): Tool to generate inputs for model\n",
    "        mol (str): SMILES string of the molecule\n",
    "        c (ndarray): Dielectric constants at which to evaluate the dielectric constants\n",
    "    Returns:\n",
    "        \n",
    "    \"\"\"\n",
    "    \n",
    "    # Set the dielectric constants\n",
    "    conv.dielectric_cnsts = e\n",
    "    \n",
    "    # Turn the molecule into a graph sequence\n",
    "    g = GraphSequence(list(conv.preprocess([mol])))\n",
    "    \n",
    "    # Pipe the sequence through the model\n",
    "    return np.squeeze(model.predict_on_batch(g[0]))"
   ]
  },
  {
   "cell_type": "code",
   "execution_count": 8,
   "metadata": {},
   "outputs": [],
   "source": [
    "def get_ground_truth(mol):\n",
    "    \"\"\"Get the actual solvation energies for a certain molecule\n",
    "    \n",
    "    Args:\n",
    "        mol (str): SMILES string of the molecule\n",
    "    Returns:\n",
    "        - (ndarray) Dielectric constants\n",
    "        - (ndarray) Solvation energies\n",
    "        - (bool) Whether molecule was in the test set\n",
    "    \"\"\"\n",
    "    \n",
    "    # Find the molecule\n",
    "    hits = data.query(f'smiles_0 == \"{mol}\"')\n",
    "    if len(hits) != 1:\n",
    "        raise ValueError(f'This query did not work: {mol}')\n",
    "        \n",
    "    # Return its values\n",
    "    sol_cols = [x for x in data.columns if x.startswith('sol_')]\n",
    "    sols = hits.iloc[0][sol_cols]\n",
    "    dec = np.array([dielectric_constants[s] for s in sol_cols])\n",
    "    return dec, sols, hits.iloc[0]['in_holdout'], sol_cols"
   ]
  },
  {
   "cell_type": "markdown",
   "metadata": {},
   "source": [
    "Plot a few reprentative molecules"
   ]
  },
  {
   "cell_type": "code",
   "execution_count": 9,
   "metadata": {},
   "outputs": [],
   "source": [
    "mols_to_plot = [\n",
    "    ('CCC', 'Propane'),\n",
    "    ('O', 'Water'), \n",
    "    ('CCCCCCCO', '1-Heptanol'),\n",
    "    ('C1=CC=CC=C1', 'Benzene')\n",
    "]"
   ]
  },
  {
   "cell_type": "code",
   "execution_count": 10,
   "metadata": {},
   "outputs": [
    {
     "name": "stderr",
     "output_type": "stream",
     "text": [
      "100%|██████████| 1/1 [00:00<00:00, 96.53it/s]\n",
      "100%|██████████| 1/1 [00:00<00:00, 1477.91it/s]\n",
      "100%|██████████| 1/1 [00:00<00:00, 619.45it/s]\n",
      "100%|██████████| 1/1 [00:00<00:00, 843.08it/s]\n"
     ]
    },
    {
     "data": {
      "image/png": "[encoded data removed]",
      "text/plain": [
       "<Figure size 270x162 with 4 Axes>"
      ]
     },
     "metadata": {
      "needs_background": "light"
     },
     "output_type": "display_data"
    }
   ],
   "source": [
    "fig, axs = plt.subplots(2, 2, sharex=True, figsize=(3.75, 2.25))\n",
    "\n",
    "\n",
    "e = np.linspace(10, 85, 128)\n",
    "for (smiles, name), ax in zip(mols_to_plot, axs.flatten()):\n",
    "    e_true, s_true, holdout, sol_cols = get_ground_truth(smiles)\n",
    "    s = eval_solvation_energy(model, conv, smiles, e)\n",
    "    \n",
    "    # Get the ACN column that was held out\n",
    "    mask = np.array(sol_cols) == \"sol_acn\"\n",
    "    ax.scatter(e_true[~ mask], s_true[~ mask], marker='o', facecolor='none', edgecolor='k')\n",
    "    ax.scatter(e_true[mask], s_true[mask], marker='s', facecolor='none', edgecolor='crimson')\n",
    "    ax.plot(e, s)\n",
    "    ax.text(0.15, 0.1, f'Solute: {name}', transform=ax.transAxes, va='bottom', ha='left',\n",
    "           fontsize=9, bbox={'facecolor': 'w'})\n",
    "    \n",
    "fig.text(0.01, 0.6, 'Solvation Energy (kcal/mol)', rotation='vertical', ha='left', va='center')\n",
    "for ax in axs[-1, :]:\n",
    "    ax.set_xlabel('Dielectric Constant ($\\epsilon_0$)')\n",
    "fig.text(0.05, 0.9, '(a)')\n",
    "    \n",
    "fig.tight_layout(rect=[0.01, 0, 1, 1])\n",
    "fig.savefig(os.path.join('figures', 'dielectric-constant-effect.png'), dpi=320)\n",
    "fig.savefig(os.path.join('figures', 'dielectric-constant-effect.eps'))"
   ]
  },
  {
   "cell_type": "markdown",
   "metadata": {},
   "source": [
    "*Finding*: Our model does reasonably on a predicting a few varied molecules. We also see some unphsyiscal changes in the prediciton accuracy outside of the region of the training set."
   ]
  },
  {
   "cell_type": "markdown",
   "metadata": {},
   "source": [
    "## Plot for the Entire Dataset\n",
    "See how our model does for the solvation energy of all of the models"
   ]
  },
  {
   "cell_type": "code",
   "execution_count": 11,
   "metadata": {},
   "outputs": [
    {
     "name": "stdout",
     "output_type": "stream",
     "text": [
      "Evaluating on 130258 points\n"
     ]
    }
   ],
   "source": [
    "test_data = data  # Plot the full dataset\n",
    "print(f'Evaluating on {len(test_data)} points')"
   ]
  },
  {
   "cell_type": "code",
   "execution_count": 12,
   "metadata": {},
   "outputs": [],
   "source": [
    "acn_e = dielectric_constants['sol_acn']"
   ]
  },
  {
   "cell_type": "code",
   "execution_count": 13,
   "metadata": {},
   "outputs": [],
   "source": [
    "conv.dielectric_cnsts = [acn_e]"
   ]
  },
  {
   "cell_type": "code",
   "execution_count": 14,
   "metadata": {},
   "outputs": [
    {
     "name": "stdout",
     "output_type": "stream",
     "text": [
      "CPU times: user 16min 28s, sys: 16min 49s, total: 33min 17s\n",
      "Wall time: 11min 58s\n"
     ]
    }
   ],
   "source": [
    "%%time\n",
    "test_data['sol_acn_pred'] = run_model(model, conv, test_data['smiles_0'], n_jobs=4, chunk_size=2048)"
   ]
  },
  {
   "cell_type": "markdown",
   "metadata": {},
   "source": [
    "Measure MAE on the holdout set"
   ]
  },
  {
   "cell_type": "code",
   "execution_count": 15,
   "metadata": {},
   "outputs": [
    {
     "name": "stdout",
     "output_type": "stream",
     "text": [
      "MAE on holdout set: 0.630 kcal/mol\n"
     ]
    }
   ],
   "source": [
    "subset = test_data.query('in_holdout')\n",
    "holdout_mae = mean_absolute_error(subset['sol_acn_pred'], subset['sol_acn'])\n",
    "print(f'MAE on holdout set: {holdout_mae:.3f} kcal/mol')"
   ]
  },
  {
   "cell_type": "markdown",
   "metadata": {},
   "source": [
    "Measure the performance compared to using solvation energy in DMSO as a proxy"
   ]
  },
  {
   "cell_type": "code",
   "execution_count": 16,
   "metadata": {},
   "outputs": [
    {
     "data": {
      "text/plain": [
       "{'sol_acetone': 20.493,\n",
       " 'sol_acn': 35.688,\n",
       " 'sol_dmso': 46.826,\n",
       " 'sol_ethanol': 24.852,\n",
       " 'sol_water': 78.3553}"
      ]
     },
     "execution_count": 16,
     "metadata": {},
     "output_type": "execute_result"
    }
   ],
   "source": [
    "dielectric_constants"
   ]
  },
  {
   "cell_type": "markdown",
   "metadata": {},
   "source": [
    "Interpolate between DMSO and enthanol"
   ]
  },
  {
   "cell_type": "code",
   "execution_count": 17,
   "metadata": {},
   "outputs": [],
   "source": [
    "frac_eth = abs(dielectric_constants['sol_acn'] - dielectric_constants['sol_dmso']) / (dielectric_constants['sol_dmso'] - dielectric_constants['sol_ethanol'])"
   ]
  },
  {
   "cell_type": "code",
   "execution_count": 18,
   "metadata": {},
   "outputs": [
    {
     "name": "stdout",
     "output_type": "stream",
     "text": [
      "r2_score - Model  0.935 - DMSO  0.753 - Ethanol  0.800 - Interpolated  0.922\n",
      "mean_absolute_error - Model  0.535 - DMSO  1.201 - Ethanol  0.947 - Interpolated  0.601\n"
     ]
    }
   ],
   "source": [
    "for m in [r2_score, mean_absolute_error]:\n",
    "    m_score = m(test_data['sol_acn'], test_data['sol_acn_pred'])\n",
    "    d_score = m(test_data['sol_acn'], test_data['sol_dmso'])\n",
    "    e_score = m(test_data['sol_acn'], test_data['sol_ethanol'])\n",
    "    i_score = m(test_data['sol_acn'], frac_eth * test_data['sol_ethanol'] \n",
    "                + (1 - frac_eth) * test_data['sol_dmso'])\n",
    "    print(f'{m.__name__} - Model {m_score: .3f} - DMSO {d_score: .3f} - Ethanol {e_score: .3f} - Interpolated {i_score: .3f}')"
   ]
  },
  {
   "cell_type": "markdown",
   "metadata": {},
   "source": [
    "Plot the results"
   ]
  },
  {
   "cell_type": "code",
   "execution_count": 19,
   "metadata": {},
   "outputs": [
    {
     "name": "stdout",
     "output_type": "stream",
     "text": [
      "99th percentile for error:  1.80 kcal/mol\n"
     ]
    }
   ],
   "source": [
    "perc_95 = np.percentile((test_data['sol_acn'] - test_data['sol_acn_pred']).abs(), 99)\n",
    "print(f'99th percentile for error: {perc_95: .2f} kcal/mol')"
   ]
  },
  {
   "cell_type": "code",
   "execution_count": 20,
   "metadata": {},
   "outputs": [
    {
     "data": {
      "image/png": "[encoded data removed]",
      "text/plain": [
       "<Figure size 162x162 with 1 Axes>"
      ]
     },
     "metadata": {
      "needs_background": "light"
     },
     "output_type": "display_data"
    }
   ],
   "source": [
    "fig, ax = plt.subplots(figsize=(2.25, 2.25))\n",
    "\n",
    "lims = np.array([-60, test_data['sol_acn'].max()])\n",
    "ax.scatter(test_data['sol_acn'], test_data['sol_acn_pred'], s=3, alpha=0.4, edgecolor='none')\n",
    "\n",
    "ax.set_xlim(min(lims), max(lims))\n",
    "ax.set_ylim(ax.get_xlim())\n",
    "ax.plot(ax.get_xlim(), ax.get_xlim(), 'k--')\n",
    "ax.plot(lims, lims+perc_95, 'r:', lw=1.5)\n",
    "ax.plot(lims, lims-perc_95, 'r:', lw=1.5)\n",
    "\n",
    "#ax.text(0.05, 0.9, f'MAE:{mean_absolute_error(test_data[\"sol_acn\"], test_data[\"sol_acn_pred\"]): .2f} kcal/mol',\n",
    "#       fontsize=9, transform=ax.transAxes, ha='left')\n",
    "ax.annotate(f'99$^{{th}}$ %tile:\\n{perc_95:.1f} kcal/mol', xy=(-25, -25-perc_95), xytext=(-37, -55), \n",
    "            fontsize=9, arrowprops={'width': 1.8, 'headwidth': 5.4, 'color': 'r'})\n",
    "\n",
    "ax.set_xlabel('Solv. Energy, DFT (kcal/mol)')\n",
    "ax.set_ylabel('Solv. Energy, ML (kcal/mol)')\n",
    "fig.text(0.15, 0.9, '(b)')\n",
    "\n",
    "fig.tight_layout()\n",
    "fig.savefig(os.path.join('figures', 'acn-dielectric-model.png'), dpi=320)"
   ]
  },
  {
   "cell_type": "markdown",
   "metadata": {},
   "source": [
    "*Finding*: We do pretty well without having ACN in the training set. Statistics are better than just using the DMSO or Ethanol as proxies"
   ]
  },
  {
   "cell_type": "code",
   "execution_count": null,
   "metadata": {},
   "outputs": [],
   "source": []
  }
 ],
 "metadata": {
  "kernelspec": {
   "display_name": "Python 3",
   "language": "python",
   "name": "python3"
  },
  "language_info": {
   "codemirror_mode": {
    "name": "ipython",
    "version": 3
   },
   "file_extension": ".py",
   "mimetype": "text/x-python",
   "name": "python",
   "nbconvert_exporter": "python",
   "pygments_lexer": "ipython3",
   "version": "3.6.8"
  }
 },
 "nbformat": 4,
 "nbformat_minor": 4
}
