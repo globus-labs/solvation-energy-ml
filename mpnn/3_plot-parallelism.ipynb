{
 "cells": [
  {
   "cell_type": "markdown",
   "metadata": {},
   "source": [
    "# Evaluate Effect of Parallelism\n",
    "Show the effect of increasing the number of node replicas on training rate"
   ]
  },
  {
   "cell_type": "code",
   "execution_count": 1,
   "metadata": {},
   "outputs": [
    {
     "name": "stdout",
     "output_type": "stream",
     "text": [
      "The history saving thread hit an unexpected error (DatabaseError('database disk image is malformed',)).History will not be written to the database.\n"
     ]
    }
   ],
   "source": [
    "%matplotlib inline\n",
    "from matplotlib import pyplot as plt\n",
    "from matplotlib import cm\n",
    "import pandas as pd\n",
    "import os"
   ]
  },
  {
   "cell_type": "markdown",
   "metadata": {},
   "source": [
    "## Load in the Data\n",
    "We need a list of models and paths to their output directories"
   ]
  },
  {
   "cell_type": "code",
   "execution_count": 2,
   "metadata": {},
   "outputs": [],
   "source": [
    "results = pd.read_json('mpnn-results.json')"
   ]
  },
  {
   "cell_type": "markdown",
   "metadata": {},
   "source": [
    "## Plot the `dielectric-constant-charges` model\n",
    "We've run this on multiple node counts"
   ]
  },
  {
   "cell_type": "code",
   "execution_count": 3,
   "metadata": {},
   "outputs": [],
   "source": [
    "subset = results.query('entries==117232 and network==\"dielectric-constant-charges\" and batch_size<32768').sort_values('nodes')"
   ]
  },
  {
   "cell_type": "code",
   "execution_count": 4,
   "metadata": {},
   "outputs": [],
   "source": [
    "cmap = cm.get_cmap('Blues')"
   ]
  },
  {
   "cell_type": "code",
   "execution_count": 5,
   "metadata": {},
   "outputs": [
    {
     "data": {
      "image/png": "[encoded data removed]",
      "text/plain": [
       "<Figure size 252x144 with 1 Axes>"
      ]
     },
     "metadata": {
      "needs_background": "light"
     },
     "output_type": "display_data"
    }
   ],
   "source": [
    "fig, ax = plt.subplots()\n",
    "fig.set_size_inches(3.5, 2)\n",
    "\n",
    "for i, (_, m) in enumerate(subset.iterrows()):\n",
    "    log = pd.read_csv(os.path.join(m['path'], 'log.csv'))\n",
    "    ax.semilogy(log['epoch_time'].cumsum() / 3600, log['loss'], color=cmap((i+2)/5), label=f'{m[\"nodes\"]} nodes')\n",
    "\n",
    "ax.set_xlabel('Train Time (hr)')\n",
    "ax.set_ylabel('Training Loss')\n",
    "ax.set_xlim(0, 3)\n",
    "ax.set_ylim(4e-2, 20)\n",
    "ax.legend()\n",
    "fig.tight_layout()\n",
    "fig.savefig(os.path.join('figures', 'multi-node-training.png'), dpi=320)\n",
    "fig.savefig(os.path.join('figures', 'multi-node-training.eps'))"
   ]
  },
  {
   "cell_type": "markdown",
   "metadata": {},
   "source": [
    "*Finding*: The 128-node moel has the fastest training (as measured by the training loss), but also the largest noise due to the very large batch sizes"
   ]
  },
  {
   "cell_type": "code",
   "execution_count": null,
   "metadata": {},
   "outputs": [],
   "source": []
  }
 ],
 "metadata": {
  "kernelspec": {
   "display_name": "Python 3",
   "language": "python",
   "name": "python3"
  },
  "language_info": {
   "codemirror_mode": {
    "name": "ipython",
    "version": 3
   },
   "file_extension": ".py",
   "mimetype": "text/x-python",
   "name": "python",
   "nbconvert_exporter": "python",
   "pygments_lexer": "ipython3",
   "version": "3.6.8"
  }
 },
 "nbformat": 4,
 "nbformat_minor": 4
}
