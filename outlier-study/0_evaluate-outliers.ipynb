{
 "cells": [
  {
   "cell_type": "markdown",
   "metadata": {},
   "source": [
    "# Evaluate Outliers\n",
    "In this notebook, we assess the performance of the best model for water solvation energy prediction"
   ]
  },
  {
   "cell_type": "code",
   "execution_count": 1,
   "metadata": {},
   "outputs": [
    {
     "name": "stderr",
     "output_type": "stream",
     "text": [
      "Using TensorFlow backend.\n",
      "/home/wardlt/miniconda3/envs/solv_ml/lib/python3.6/site-packages/tensorflow/python/framework/dtypes.py:526: FutureWarning: Passing (type, 1) or '1type' as a synonym of type is deprecated; in a future version of numpy, it will be understood as (type, (1,)) / '(1,)type'.\n",
      "  _np_qint8 = np.dtype([(\"qint8\", np.int8, 1)])\n",
      "/home/wardlt/miniconda3/envs/solv_ml/lib/python3.6/site-packages/tensorflow/python/framework/dtypes.py:527: FutureWarning: Passing (type, 1) or '1type' as a synonym of type is deprecated; in a future version of numpy, it will be understood as (type, (1,)) / '(1,)type'.\n",
      "  _np_quint8 = np.dtype([(\"quint8\", np.uint8, 1)])\n",
      "/home/wardlt/miniconda3/envs/solv_ml/lib/python3.6/site-packages/tensorflow/python/framework/dtypes.py:528: FutureWarning: Passing (type, 1) or '1type' as a synonym of type is deprecated; in a future version of numpy, it will be understood as (type, (1,)) / '(1,)type'.\n",
      "  _np_qint16 = np.dtype([(\"qint16\", np.int16, 1)])\n",
      "/home/wardlt/miniconda3/envs/solv_ml/lib/python3.6/site-packages/tensorflow/python/framework/dtypes.py:529: FutureWarning: Passing (type, 1) or '1type' as a synonym of type is deprecated; in a future version of numpy, it will be understood as (type, (1,)) / '(1,)type'.\n",
      "  _np_quint16 = np.dtype([(\"quint16\", np.uint16, 1)])\n",
      "/home/wardlt/miniconda3/envs/solv_ml/lib/python3.6/site-packages/tensorflow/python/framework/dtypes.py:530: FutureWarning: Passing (type, 1) or '1type' as a synonym of type is deprecated; in a future version of numpy, it will be understood as (type, (1,)) / '(1,)type'.\n",
      "  _np_qint32 = np.dtype([(\"qint32\", np.int32, 1)])\n",
      "/home/wardlt/miniconda3/envs/solv_ml/lib/python3.6/site-packages/tensorflow/python/framework/dtypes.py:535: FutureWarning: Passing (type, 1) or '1type' as a synonym of type is deprecated; in a future version of numpy, it will be understood as (type, (1,)) / '(1,)type'.\n",
      "  np_resource = np.dtype([(\"resource\", np.ubyte, 1)])\n"
     ]
    }
   ],
   "source": [
    "%matplotlib inline\n",
    "from matplotlib import pyplot as plt\n",
    "from sklearn.neighbors import NearestNeighbors\n",
    "from sklearn.pipeline import Pipeline\n",
    "from sklearn.decomposition import PCA\n",
    "from sklearn.preprocessing import MinMaxScaler\n",
    "from jcesr_ml.mpnn import set_custom_objects, run_model, GraphModel\n",
    "from jcesr_ml.benchmark import load_benchmark_data\n",
    "from keras.models import load_model\n",
    "from tqdm import tqdm\n",
    "import pickle as pkl\n",
    "import pandas as pd\n",
    "import numpy as np\n",
    "import json\n",
    "import os"
   ]
  },
  {
   "cell_type": "markdown",
   "metadata": {},
   "source": [
    "## Load in Benchmark Data\n",
    "We are going to use the standard set"
   ]
  },
  {
   "cell_type": "code",
   "execution_count": 2,
   "metadata": {},
   "outputs": [],
   "source": [
    "train_data, test_data = load_benchmark_data()"
   ]
  },
  {
   "cell_type": "markdown",
   "metadata": {},
   "source": [
    "## Get MPNN Results\n",
    "Get the best MPNN for water that did not use DFT charges"
   ]
  },
  {
   "cell_type": "code",
   "execution_count": 3,
   "metadata": {},
   "outputs": [],
   "source": [
    "mpnn_data = pd.read_json(os.path.join('..', 'mpnn', 'mpnn-results.json'))\n",
    "mpnn_data = mpnn_data[~ mpnn_data.network.str.contains('dielectric-constant-charges')]"
   ]
  },
  {
   "cell_type": "code",
   "execution_count": 4,
   "metadata": {},
   "outputs": [],
   "source": [
    "chosen_model = mpnn_data.query('nodes==128 and batch_size==16384 and (\"constant-charges\" not in network)').sort_values('mae_water', ascending=True).head(1).iloc[0]"
   ]
  },
  {
   "cell_type": "code",
   "execution_count": 5,
   "metadata": {},
   "outputs": [
    {
     "name": "stdout",
     "output_type": "stream",
     "text": [
      "Our best-performing network is: single-task\n"
     ]
    }
   ],
   "source": [
    "print(f'Our best-performing network is: {chosen_model[\"network\"]}')"
   ]
  },
  {
   "cell_type": "code",
   "execution_count": 6,
   "metadata": {},
   "outputs": [],
   "source": [
    "set_custom_objects()"
   ]
  },
  {
   "cell_type": "code",
   "execution_count": 7,
   "metadata": {},
   "outputs": [
    {
     "name": "stdout",
     "output_type": "stream",
     "text": [
      "WARNING:tensorflow:From /home/wardlt/miniconda3/envs/solv_ml/lib/python3.6/site-packages/tensorflow/python/framework/op_def_library.py:263: colocate_with (from tensorflow.python.framework.ops) is deprecated and will be removed in a future version.\n",
      "Instructions for updating:\n",
      "Colocations handled automatically by placer.\n",
      "WARNING:tensorflow:From /home/wardlt/miniconda3/envs/solv_ml/lib/python3.6/site-packages/tensorflow/python/ops/math_ops.py:3066: to_int32 (from tensorflow.python.ops.math_ops) is deprecated and will be removed in a future version.\n",
      "Instructions for updating:\n",
      "Use tf.cast instead.\n"
     ]
    },
    {
     "name": "stderr",
     "output_type": "stream",
     "text": [
      "/home/wardlt/miniconda3/envs/solv_ml/lib/python3.6/site-packages/tensorflow/python/ops/gradients_impl.py:110: UserWarning: Converting sparse IndexedSlices to a dense Tensor of unknown shape. This may consume a large amount of memory.\n",
      "  \"Converting sparse IndexedSlices to a dense Tensor of unknown shape. \"\n"
     ]
    }
   ],
   "source": [
    "model = load_model(os.path.join('..', 'mpnn', chosen_model['path'], 'best_model.h5'))"
   ]
  },
  {
   "cell_type": "code",
   "execution_count": 8,
   "metadata": {},
   "outputs": [],
   "source": [
    "with open(os.path.join('..', 'mpnn', 'networks', chosen_model['network'], 'converter.pkl'), 'rb') as fp:\n",
    "    conv = pkl.load(fp)"
   ]
  },
  {
   "cell_type": "code",
   "execution_count": 9,
   "metadata": {},
   "outputs": [
    {
     "name": "stdout",
     "output_type": "stream",
     "text": [
      "CPU times: user 55.7 s, sys: 51.5 s, total: 1min 47s\n",
      "Wall time: 50.3 s\n"
     ]
    }
   ],
   "source": [
    "%%time\n",
    "test_data['mpnn_pred'] = run_model(model, conv, test_data['smiles_0'], n_jobs=1)"
   ]
  },
  {
   "cell_type": "markdown",
   "metadata": {},
   "source": [
    "## Compute Distance to Training Set\n",
    "We want to compute the distance of each point in the test set to the nearest entries in the training "
   ]
  },
  {
   "cell_type": "code",
   "execution_count": 10,
   "metadata": {},
   "outputs": [],
   "source": [
    "rep_model = GraphModel(inputs=model.inputs, outputs=model.get_layer('reduce_atom_to_mol_1').output)"
   ]
  },
  {
   "cell_type": "markdown",
   "metadata": {},
   "source": [
    "Compute the representations for the train and test sets"
   ]
  },
  {
   "cell_type": "code",
   "execution_count": 11,
   "metadata": {},
   "outputs": [
    {
     "name": "stdout",
     "output_type": "stream",
     "text": [
      "CPU times: user 2min 16s, sys: 2min 5s, total: 4min 21s\n",
      "Wall time: 1min 48s\n"
     ]
    }
   ],
   "source": [
    "%%time\n",
    "train_mols = run_model(rep_model, conv, train_data['smiles_0'].sample(32768), n_jobs=4)"
   ]
  },
  {
   "cell_type": "code",
   "execution_count": 12,
   "metadata": {},
   "outputs": [
    {
     "name": "stdout",
     "output_type": "stream",
     "text": [
      "CPU times: user 53 s, sys: 49.9 s, total: 1min 42s\n",
      "Wall time: 43.1 s\n"
     ]
    }
   ],
   "source": [
    "%%time\n",
    "test_mols = run_model(rep_model, conv, test_data['smiles_0'], n_jobs=4)"
   ]
  },
  {
   "cell_type": "markdown",
   "metadata": {},
   "source": [
    "Make the nearest neighbor computer on a reduced space"
   ]
  },
  {
   "cell_type": "code",
   "execution_count": 13,
   "metadata": {},
   "outputs": [],
   "source": [
    "dim_reduction = Pipeline([\n",
    "    ('scale', MinMaxScaler()),\n",
    "    ('pca', PCA(128)),\n",
    "])\n",
    "nn_computer = NearestNeighbors(n_jobs=-1).fit(dim_reduction.fit_transform(train_mols))"
   ]
  },
  {
   "cell_type": "code",
   "execution_count": 14,
   "metadata": {},
   "outputs": [],
   "source": [
    "test_data['train_dist'] = nn_computer.kneighbors(dim_reduction.transform(test_mols))[0].mean(axis=1)"
   ]
  },
  {
   "cell_type": "markdown",
   "metadata": {},
   "source": [
    "## Sort Molecules by Error\n",
    "Print out the the models with the largest error"
   ]
  },
  {
   "cell_type": "code",
   "execution_count": 15,
   "metadata": {},
   "outputs": [],
   "source": [
    "test_data['error'] = (test_data['sol_water'] - test_data['mpnn_pred']).abs()"
   ]
  },
  {
   "cell_type": "code",
   "execution_count": 16,
   "metadata": {},
   "outputs": [
    {
     "data": {
      "text/html": [
       "<div>\n",
       "<style scoped>\n",
       "    .dataframe tbody tr th:only-of-type {\n",
       "        vertical-align: middle;\n",
       "    }\n",
       "\n",
       "    .dataframe tbody tr th {\n",
       "        vertical-align: top;\n",
       "    }\n",
       "\n",
       "    .dataframe thead th {\n",
       "        text-align: right;\n",
       "    }\n",
       "</style>\n",
       "<table border=\"1\" class=\"dataframe\">\n",
       "  <thead>\n",
       "    <tr style=\"text-align: right;\">\n",
       "      <th></th>\n",
       "      <th>smiles_0</th>\n",
       "      <th>sol_water</th>\n",
       "      <th>mpnn_pred</th>\n",
       "      <th>error</th>\n",
       "      <th>train_dist</th>\n",
       "    </tr>\n",
       "  </thead>\n",
       "  <tbody>\n",
       "    <tr>\n",
       "      <th>97387</th>\n",
       "      <td>C[NH2+]C(C(N)=O)C([O-])=O</td>\n",
       "      <td>-18.4847</td>\n",
       "      <td>-38.409863</td>\n",
       "      <td>19.925163</td>\n",
       "      <td>3.635105</td>\n",
       "    </tr>\n",
       "    <tr>\n",
       "      <th>118917</th>\n",
       "      <td>C[NH2+]CCC(=O)C([O-])=O</td>\n",
       "      <td>-60.6360</td>\n",
       "      <td>-45.644169</td>\n",
       "      <td>14.991831</td>\n",
       "      <td>3.281838</td>\n",
       "    </tr>\n",
       "    <tr>\n",
       "      <th>120055</th>\n",
       "      <td>C[NH2+]CC[N-]C(=O)C#N</td>\n",
       "      <td>-49.4573</td>\n",
       "      <td>-35.464993</td>\n",
       "      <td>13.992307</td>\n",
       "      <td>3.222445</td>\n",
       "    </tr>\n",
       "    <tr>\n",
       "      <th>74071</th>\n",
       "      <td>CC1([NH3+])C(N)C1C([O-])=O</td>\n",
       "      <td>-50.4550</td>\n",
       "      <td>-42.094906</td>\n",
       "      <td>8.360094</td>\n",
       "      <td>2.765052</td>\n",
       "    </tr>\n",
       "    <tr>\n",
       "      <th>53724</th>\n",
       "      <td>[O-]C(=O)C1C[NH2+]CCO1</td>\n",
       "      <td>-52.8067</td>\n",
       "      <td>-44.575325</td>\n",
       "      <td>8.231375</td>\n",
       "      <td>2.758512</td>\n",
       "    </tr>\n",
       "    <tr>\n",
       "      <th>6122</th>\n",
       "      <td>CNC(=O)NC(C)=O</td>\n",
       "      <td>-8.0464</td>\n",
       "      <td>-15.339846</td>\n",
       "      <td>7.293446</td>\n",
       "      <td>2.524287</td>\n",
       "    </tr>\n",
       "    <tr>\n",
       "      <th>101320</th>\n",
       "      <td>CC1(C[NH3+])CC1C([O-])=O</td>\n",
       "      <td>-59.2984</td>\n",
       "      <td>-52.320507</td>\n",
       "      <td>6.977893</td>\n",
       "      <td>2.703950</td>\n",
       "    </tr>\n",
       "    <tr>\n",
       "      <th>120404</th>\n",
       "      <td>[NH3+]CCCCCC([O-])=O</td>\n",
       "      <td>-84.3461</td>\n",
       "      <td>-77.878914</td>\n",
       "      <td>6.467186</td>\n",
       "      <td>3.955390</td>\n",
       "    </tr>\n",
       "    <tr>\n",
       "      <th>4856</th>\n",
       "      <td>OC1=CNC=CC1=O</td>\n",
       "      <td>-18.6437</td>\n",
       "      <td>-12.199085</td>\n",
       "      <td>6.444615</td>\n",
       "      <td>2.563010</td>\n",
       "    </tr>\n",
       "    <tr>\n",
       "      <th>120405</th>\n",
       "      <td>[NH3+]CCOCCC([O-])=O</td>\n",
       "      <td>-54.0893</td>\n",
       "      <td>-60.092457</td>\n",
       "      <td>6.003157</td>\n",
       "      <td>3.421061</td>\n",
       "    </tr>\n",
       "    <tr>\n",
       "      <th>53723</th>\n",
       "      <td>[O-]C(=O)C1CC[NH2+]CC1</td>\n",
       "      <td>-52.9402</td>\n",
       "      <td>-47.171631</td>\n",
       "      <td>5.768569</td>\n",
       "      <td>2.198364</td>\n",
       "    </tr>\n",
       "    <tr>\n",
       "      <th>36384</th>\n",
       "      <td>C1C2C3C4C3N1CCN24</td>\n",
       "      <td>-11.9654</td>\n",
       "      <td>-17.634645</td>\n",
       "      <td>5.669245</td>\n",
       "      <td>2.865665</td>\n",
       "    </tr>\n",
       "    <tr>\n",
       "      <th>99569</th>\n",
       "      <td>C[NH2+][C-](C=O)C(=O)C=O</td>\n",
       "      <td>-23.0083</td>\n",
       "      <td>-28.433889</td>\n",
       "      <td>5.425589</td>\n",
       "      <td>4.103540</td>\n",
       "    </tr>\n",
       "    <tr>\n",
       "      <th>53688</th>\n",
       "      <td>NC(=O)N1CCOC1=O</td>\n",
       "      <td>-16.5857</td>\n",
       "      <td>-11.188044</td>\n",
       "      <td>5.397656</td>\n",
       "      <td>2.606747</td>\n",
       "    </tr>\n",
       "    <tr>\n",
       "      <th>35962</th>\n",
       "      <td>C1NC23CNC12C1OC31</td>\n",
       "      <td>-11.8491</td>\n",
       "      <td>-17.081102</td>\n",
       "      <td>5.232002</td>\n",
       "      <td>2.890528</td>\n",
       "    </tr>\n",
       "  </tbody>\n",
       "</table>\n",
       "</div>"
      ],
      "text/plain": [
       "                          smiles_0  sol_water  mpnn_pred      error  \\\n",
       "97387    C[NH2+]C(C(N)=O)C([O-])=O   -18.4847 -38.409863  19.925163   \n",
       "118917     C[NH2+]CCC(=O)C([O-])=O   -60.6360 -45.644169  14.991831   \n",
       "120055       C[NH2+]CC[N-]C(=O)C#N   -49.4573 -35.464993  13.992307   \n",
       "74071   CC1([NH3+])C(N)C1C([O-])=O   -50.4550 -42.094906   8.360094   \n",
       "53724       [O-]C(=O)C1C[NH2+]CCO1   -52.8067 -44.575325   8.231375   \n",
       "6122                CNC(=O)NC(C)=O    -8.0464 -15.339846   7.293446   \n",
       "101320    CC1(C[NH3+])CC1C([O-])=O   -59.2984 -52.320507   6.977893   \n",
       "120404        [NH3+]CCCCCC([O-])=O   -84.3461 -77.878914   6.467186   \n",
       "4856                 OC1=CNC=CC1=O   -18.6437 -12.199085   6.444615   \n",
       "120405        [NH3+]CCOCCC([O-])=O   -54.0893 -60.092457   6.003157   \n",
       "53723       [O-]C(=O)C1CC[NH2+]CC1   -52.9402 -47.171631   5.768569   \n",
       "36384            C1C2C3C4C3N1CCN24   -11.9654 -17.634645   5.669245   \n",
       "99569     C[NH2+][C-](C=O)C(=O)C=O   -23.0083 -28.433889   5.425589   \n",
       "53688              NC(=O)N1CCOC1=O   -16.5857 -11.188044   5.397656   \n",
       "35962            C1NC23CNC12C1OC31   -11.8491 -17.081102   5.232002   \n",
       "\n",
       "        train_dist  \n",
       "97387     3.635105  \n",
       "118917    3.281838  \n",
       "120055    3.222445  \n",
       "74071     2.765052  \n",
       "53724     2.758512  \n",
       "6122      2.524287  \n",
       "101320    2.703950  \n",
       "120404    3.955390  \n",
       "4856      2.563010  \n",
       "120405    3.421061  \n",
       "53723     2.198364  \n",
       "36384     2.865665  \n",
       "99569     4.103540  \n",
       "53688     2.606747  \n",
       "35962     2.890528  "
      ]
     },
     "execution_count": 16,
     "metadata": {},
     "output_type": "execute_result"
    }
   ],
   "source": [
    "test_data.sort_values('error', ascending=False)[['smiles_0', 'sol_water', 'mpnn_pred', 'error', 'train_dist']].head(15)"
   ]
  },
  {
   "cell_type": "markdown",
   "metadata": {},
   "source": [
    "Note that many of the top errors are for molecules with very large formation energy"
   ]
  },
  {
   "cell_type": "code",
   "execution_count": 17,
   "metadata": {},
   "outputs": [
    {
     "name": "stdout",
     "output_type": "stream",
     "text": [
      "99th percentile of sol_water: -17.80 kcal/mol\n"
     ]
    }
   ],
   "source": [
    "per99 = np.percentile(test_data[\"sol_water\"], 1)\n",
    "print(f'99th percentile of sol_water: {per99: .2f} kcal/mol')"
   ]
  },
  {
   "cell_type": "code",
   "execution_count": 18,
   "metadata": {},
   "outputs": [
    {
     "name": "stdout",
     "output_type": "stream",
     "text": [
      "Fraction of top errors in 1%:  60.0%\n"
     ]
    }
   ],
   "source": [
    "top_errors_are_outliers = (test_data.sort_values('error', ascending=False)['sol_water'].head(25) < per99).mean()\n",
    "print(f'Fraction of top errors in 1%: {top_errors_are_outliers * 100: .1f}%')"
   ]
  },
  {
   "cell_type": "markdown",
   "metadata": {},
   "source": [
    "Also that many have charged species"
   ]
  },
  {
   "cell_type": "code",
   "execution_count": 19,
   "metadata": {},
   "outputs": [
    {
     "data": {
      "text/html": [
       "<div>\n",
       "<style scoped>\n",
       "    .dataframe tbody tr th:only-of-type {\n",
       "        vertical-align: middle;\n",
       "    }\n",
       "\n",
       "    .dataframe tbody tr th {\n",
       "        vertical-align: top;\n",
       "    }\n",
       "\n",
       "    .dataframe thead th {\n",
       "        text-align: right;\n",
       "    }\n",
       "</style>\n",
       "<table border=\"1\" class=\"dataframe\">\n",
       "  <thead>\n",
       "    <tr style=\"text-align: right;\">\n",
       "      <th></th>\n",
       "      <th>smiles_0</th>\n",
       "      <th>sol_water</th>\n",
       "      <th>error</th>\n",
       "    </tr>\n",
       "  </thead>\n",
       "  <tbody>\n",
       "    <tr>\n",
       "      <th>49876</th>\n",
       "      <td>[NH2+]=CNC1=CC(=O)N[CH-]1</td>\n",
       "      <td>-32.914</td>\n",
       "      <td>0.806379</td>\n",
       "    </tr>\n",
       "  </tbody>\n",
       "</table>\n",
       "</div>"
      ],
      "text/plain": [
       "                        smiles_0  sol_water     error\n",
       "49876  [NH2+]=CNC1=CC(=O)N[CH-]1    -32.914  0.806379"
      ]
     },
     "execution_count": 19,
     "metadata": {},
     "output_type": "execute_result"
    }
   ],
   "source": [
    "test_data[test_data['smiles_0'].str.contains('C\\(=O\\)N') & test_data['smiles_0'].str.contains('\\+')][['smiles_0', 'sol_water', 'error']]"
   ]
  },
  {
   "cell_type": "code",
   "execution_count": null,
   "metadata": {},
   "outputs": [],
   "source": []
  }
 ],
 "metadata": {
  "kernelspec": {
   "display_name": "Python 3",
   "language": "python",
   "name": "python3"
  },
  "language_info": {
   "codemirror_mode": {
    "name": "ipython",
    "version": 3
   },
   "file_extension": ".py",
   "mimetype": "text/x-python",
   "name": "python",
   "nbconvert_exporter": "python",
   "pygments_lexer": "ipython3",
   "version": "3.6.8"
  }
 },
 "nbformat": 4,
 "nbformat_minor": 4
}
