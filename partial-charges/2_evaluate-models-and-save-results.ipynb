{
 "cells": [
  {
   "cell_type": "markdown",
   "metadata": {},
   "source": [
    "# Evaluate Partial Charge Prediction\n",
    "Test how well our models for partial charges are working"
   ]
  },
  {
   "cell_type": "code",
   "execution_count": 1,
   "metadata": {},
   "outputs": [
    {
     "name": "stderr",
     "output_type": "stream",
     "text": [
      "Using TensorFlow backend.\n"
     ]
    }
   ],
   "source": [
    "%matplotlib inline\n",
    "from matplotlib import pyplot as plt\n",
    "from jcesr_ml.mpnn import set_custom_objects, run_model\n",
    "from jcesr_ml.benchmark import load_benchmark_data\n",
    "from sklearn.metrics import mean_absolute_error\n",
    "from keras.models import load_model\n",
    "from ase.units import eV, Hartree\n",
    "from time import perf_counter\n",
    "from rdkit.Chem import AllChem\n",
    "from rdkit import Chem\n",
    "from pathlib import Path\n",
    "from tqdm import tqdm\n",
    "from glob import glob\n",
    "import pickle as pkl\n",
    "import pandas as pd\n",
    "import numpy as np\n",
    "import torch\n",
    "import json\n",
    "import os"
   ]
  },
  {
   "cell_type": "code",
   "execution_count": 2,
   "metadata": {},
   "outputs": [],
   "source": [
    "set_custom_objects()"
   ]
  },
  {
   "cell_type": "markdown",
   "metadata": {},
   "source": [
    "## Load in Datasets\n",
    "We need the datasets for determining the shape of the inputs"
   ]
  },
  {
   "cell_type": "code",
   "execution_count": 3,
   "metadata": {},
   "outputs": [],
   "source": [
    "test_data = pd.read_pickle('mapped_charges_dataset.pkl.gz')"
   ]
  },
  {
   "cell_type": "code",
   "execution_count": 4,
   "metadata": {},
   "outputs": [],
   "source": [
    "test_data.query('in_holdout', inplace=True)"
   ]
  },
  {
   "cell_type": "markdown",
   "metadata": {},
   "source": [
    "## Get Baselines\n",
    "See how good assuming all networks to be uncharged is."
   ]
  },
  {
   "cell_type": "code",
   "execution_count": 5,
   "metadata": {},
   "outputs": [
    {
     "name": "stdout",
     "output_type": "stream",
     "text": [
      "MAE of all charges  0.19\n"
     ]
    }
   ],
   "source": [
    "charge_mae = test_data['atomic_charges'].apply(np.array).apply(np.abs).apply(sum).sum() / test_data['n_atom'].sum()\n",
    "print(f'MAE of all charges {charge_mae: .2f}')"
   ]
  },
  {
   "cell_type": "markdown",
   "metadata": {},
   "source": [
    "Estimate partial charges with [Gasteiger Charges](https://www.rdkit.org/docs/source/rdkit.Chem.rdPartialCharges.html)"
   ]
  },
  {
   "cell_type": "code",
   "execution_count": 6,
   "metadata": {},
   "outputs": [],
   "source": [
    "def compute_gasteiger_charges(smiles):\n",
    "    \"\"\"Compute the Gasteiger partial charges for a molecule\n",
    "    \n",
    "    Args:\n",
    "        smiles (str): SMILES string of the molecule\n",
    "    Returns:\n",
    "        (ndarray) Charges on each atom\n",
    "    \"\"\"\n",
    "    \n",
    "    # Parse the SMILES string\n",
    "    mol = Chem.MolFromSmiles(smiles)\n",
    "    mol = Chem.AddHs(mol)\n",
    "    \n",
    "    # Compute the charges\n",
    "    AllChem.ComputeGasteigerCharges(mol)\n",
    "    \n",
    "    # Extract the charges\n",
    "    return np.array([float(atom.GetProp('_GasteigerCharge')) for atom in mol.GetAtoms()])"
   ]
  },
  {
   "cell_type": "code",
   "execution_count": 7,
   "metadata": {},
   "outputs": [
    {
     "name": "stdout",
     "output_type": "stream",
     "text": [
      "CPU times: user 6.15 s, sys: 6.13 ms, total: 6.16 s\n",
      "Wall time: 6.16 s\n"
     ]
    }
   ],
   "source": [
    "%%time\n",
    "test_data['gasteiger_charges'] = test_data['smiles_0'].apply(compute_gasteiger_charges)"
   ]
  },
  {
   "cell_type": "code",
   "execution_count": 8,
   "metadata": {},
   "outputs": [
    {
     "name": "stdout",
     "output_type": "stream",
     "text": [
      "Gastier MAE: 0.124\n"
     ]
    }
   ],
   "source": [
    "gasteiger_charges_mae = mean_absolute_error(np.hstack(test_data['gasteiger_charges']), np.hstack(test_data['mapped_charges']))\n",
    "print(f'Gastier MAE: {gasteiger_charges_mae:.3f}')"
   ]
  },
  {
   "cell_type": "markdown",
   "metadata": {},
   "source": [
    "## Evaluate All Models\n",
    "See if our deep learning model is better than the Gasteiger partial charges"
   ]
  },
  {
   "cell_type": "code",
   "execution_count": 9,
   "metadata": {},
   "outputs": [],
   "source": [
    "models = glob(os.path.join('networks', '**', 'best_model.h5'), recursive=True)"
   ]
  },
  {
   "cell_type": "code",
   "execution_count": 10,
   "metadata": {},
   "outputs": [],
   "source": [
    "def score_model(path):\n",
    "    \"\"\"Given a log file, parse the settings for the network and the epoch time / ending val_loss\n",
    "    \n",
    "    Args:\n",
    "        path (str): Get the path \n",
    "    \"\"\"\n",
    "    \n",
    "    # Get the metadata from directory structure\n",
    "    path = Path(path)\n",
    "    parents = list(path.parents)\n",
    "    metadata = [p.name for p in parents[:-3]]\n",
    "    metadata = dict([(x[-1], '-'.join(x[:-1])) for x in map(lambda x: x.split(\"-\"), metadata)])\n",
    "    metadata['path'] = str(path.parent)\n",
    "    metadata['network'] = parents[-3].name\n",
    "    \n",
    "    # Convert numerical values\n",
    "    for k in ['nodes', 'entries', 'batch_size']:\n",
    "        metadata[k] = int(metadata[k])\n",
    "    \n",
    "    # Score the model on the target variable\n",
    "    with open(parents[-3].joinpath('options.json')) as fp:\n",
    "        options = json.load(fp)\n",
    "    output = options['output_props']\n",
    "    metadata['output'] = output\n",
    "    \n",
    "    # Load in the log\n",
    "    log = pd.read_csv(path.parent.joinpath('log.csv'))\n",
    "    metadata['epochs'] = len(log)\n",
    "    metadata['median_epoch_time'] = np.percentile(log['epoch_time'], 50)\n",
    "    metadata['total_time'] = log['epoch_time'].sum()\n",
    "    metadata['cpu-hrs'] = metadata['total_time'] * metadata['nodes'] / 3600 * 64\n",
    "    metadata['best_loss'] = log['val_loss'].min()\n",
    "    metadata['best_loss_epoch'] = log['val_loss'].idxmin()\n",
    "    \n",
    "    # Check whether the network had finished training\n",
    "    metadata['finished'] = os.path.isfile(path.parent.joinpath('finished'))\n",
    "    \n",
    "    # Load the converter\n",
    "    with open(parents[-3].joinpath('converter.pkl'), 'rb') as fp:\n",
    "        converter = pkl.load(fp)\n",
    "    \n",
    "    # Load in the model and run it on the test set\n",
    "    directory = path.parent\n",
    "    y_true = np.hstack(test_data['mapped_charges'])\n",
    "    for name in ['best_model.h5', 'checkpoint.h5']:\n",
    "        tag = '-best' if name.startswith('best') else '-last'\n",
    "        \n",
    "        model = load_model(str(path.parent.joinpath(name)))\n",
    "        start_time = perf_counter()\n",
    "        y_pred = np.squeeze(run_model(model, converter, test_data['smiles_0'], chunk_size=1024))\n",
    "        metadata[f'mae{tag}'] = mean_absolute_error(y_pred, y_true)\n",
    "        metadata[f'eval_time{tag}'] = perf_counter() - start_time\n",
    "        \n",
    "    return metadata"
   ]
  },
  {
   "cell_type": "code",
   "execution_count": 11,
   "metadata": {},
   "outputs": [
    {
     "name": "stderr",
     "output_type": "stream",
     "text": [
      "  0%|          | 0/3 [00:00<?, ?it/s]"
     ]
    },
    {
     "name": "stdout",
     "output_type": "stream",
     "text": [
      "WARNING:tensorflow:From /home/lward/miniconda3/envs/jcesr_ml/lib/python3.6/site-packages/tensorflow/python/framework/op_def_library.py:263: colocate_with (from tensorflow.python.framework.ops) is deprecated and will be removed in a future version.\n",
      "Instructions for updating:\n",
      "Colocations handled automatically by placer.\n",
      "WARNING:tensorflow:From /home/lward/miniconda3/envs/jcesr_ml/lib/python3.6/site-packages/tensorflow/python/ops/math_ops.py:3066: to_int32 (from tensorflow.python.ops.math_ops) is deprecated and will be removed in a future version.\n",
      "Instructions for updating:\n",
      "Use tf.cast instead.\n"
     ]
    },
    {
     "name": "stderr",
     "output_type": "stream",
     "text": [
      "/home/lward/miniconda3/envs/jcesr_ml/lib/python3.6/site-packages/tensorflow/python/ops/gradients_impl.py:110: UserWarning: Converting sparse IndexedSlices to a dense Tensor of unknown shape. This may consume a large amount of memory.\n",
      "  \"Converting sparse IndexedSlices to a dense Tensor of unknown shape. \"\n",
      "/home/lward/miniconda3/envs/jcesr_ml/lib/python3.6/site-packages/tensorflow/python/ops/gradients_impl.py:110: UserWarning: Converting sparse IndexedSlices to a dense Tensor of unknown shape. This may consume a large amount of memory.\n",
      "  \"Converting sparse IndexedSlices to a dense Tensor of unknown shape. \"\n",
      " 33%|███▎      | 1/3 [00:22<00:45, 22.88s/it]/home/lward/miniconda3/envs/jcesr_ml/lib/python3.6/site-packages/tensorflow/python/ops/gradients_impl.py:110: UserWarning: Converting sparse IndexedSlices to a dense Tensor of unknown shape. This may consume a large amount of memory.\n",
      "  \"Converting sparse IndexedSlices to a dense Tensor of unknown shape. \"\n",
      "/home/lward/miniconda3/envs/jcesr_ml/lib/python3.6/site-packages/tensorflow/python/ops/gradients_impl.py:110: UserWarning: Converting sparse IndexedSlices to a dense Tensor of unknown shape. This may consume a large amount of memory.\n",
      "  \"Converting sparse IndexedSlices to a dense Tensor of unknown shape. \"\n",
      "100%|██████████| 3/3 [00:53<00:00, 17.77s/it]\n"
     ]
    }
   ],
   "source": [
    "results = pd.DataFrame([score_model(m) for m in tqdm(models) if 'standard' in m])"
   ]
  },
  {
   "cell_type": "code",
   "execution_count": 12,
   "metadata": {},
   "outputs": [
    {
     "data": {
      "text/html": [
       "<div>\n",
       "<style scoped>\n",
       "    .dataframe tbody tr th:only-of-type {\n",
       "        vertical-align: middle;\n",
       "    }\n",
       "\n",
       "    .dataframe tbody tr th {\n",
       "        vertical-align: top;\n",
       "    }\n",
       "\n",
       "    .dataframe thead th {\n",
       "        text-align: right;\n",
       "    }\n",
       "</style>\n",
       "<table border=\"1\" class=\"dataframe\">\n",
       "  <thead>\n",
       "    <tr style=\"text-align: right;\">\n",
       "      <th></th>\n",
       "      <th>network</th>\n",
       "      <th>learning_rate</th>\n",
       "      <th>batch_size</th>\n",
       "      <th>mae-best</th>\n",
       "      <th>mae-last</th>\n",
       "      <th>cpu-hrs</th>\n",
       "      <th>total_time</th>\n",
       "    </tr>\n",
       "  </thead>\n",
       "  <tbody>\n",
       "    <tr>\n",
       "      <th>0</th>\n",
       "      <td>standard</td>\n",
       "      <td>1.00e-04</td>\n",
       "      <td>1024</td>\n",
       "      <td>0.016461</td>\n",
       "      <td>0.017548</td>\n",
       "      <td>110.938707</td>\n",
       "      <td>6240.302262</td>\n",
       "    </tr>\n",
       "    <tr>\n",
       "      <th>1</th>\n",
       "      <td>standard</td>\n",
       "      <td>1.00e-04</td>\n",
       "      <td>8192</td>\n",
       "      <td>0.008406</td>\n",
       "      <td>0.010044</td>\n",
       "      <td>4788.905113</td>\n",
       "      <td>33671.989076</td>\n",
       "    </tr>\n",
       "  </tbody>\n",
       "</table>\n",
       "</div>"
      ],
      "text/plain": [
       "    network learning_rate  batch_size  mae-best  mae-last      cpu-hrs  \\\n",
       "0  standard      1.00e-04        1024  0.016461  0.017548   110.938707   \n",
       "1  standard      1.00e-04        8192  0.008406  0.010044  4788.905113   \n",
       "\n",
       "     total_time  \n",
       "0   6240.302262  \n",
       "1  33671.989076  "
      ]
     },
     "execution_count": 12,
     "metadata": {},
     "output_type": "execute_result"
    }
   ],
   "source": [
    "results[['network', 'learning_rate', 'batch_size', 'mae-best', 'mae-last', 'cpu-hrs', 'total_time']]"
   ]
  },
  {
   "cell_type": "markdown",
   "metadata": {},
   "source": [
    "## Plot the Convergence Curve\n",
    "See if the network is converged. Or at least close to it"
   ]
  },
  {
   "cell_type": "code",
   "execution_count": 13,
   "metadata": {},
   "outputs": [],
   "source": [
    "best_model = results.sort_values('mae-best', ascending=True).iloc[0]"
   ]
  },
  {
   "cell_type": "code",
   "execution_count": 14,
   "metadata": {},
   "outputs": [
    {
     "data": {
      "image/png": "[encoded data removed]",
      "text/plain": [
       "<Figure size 252x180 with 1 Axes>"
      ]
     },
     "metadata": {
      "needs_background": "light"
     },
     "output_type": "display_data"
    }
   ],
   "source": [
    "log = pd.read_csv(os.path.join(best_model.path, 'log.csv'))\n",
    "fig, ax = plt.subplots()\n",
    "\n",
    "ax.semilogy(log['epoch'], log['val_loss'])\n",
    "ax.set_ylim(1e-4, 1e-3)\n",
    "\n",
    "ax.set_xlabel('Epochs')\n",
    "ax.set_ylabel('Validation Loss')\n",
    "fig.set_size_inches(3.5, 2.5)"
   ]
  },
  {
   "cell_type": "markdown",
   "metadata": {},
   "source": [
    "## Save the Ouputs\n",
    "We need to save the ouputs in a lookup table format so that they can be used in a machine learning model's data loaders."
   ]
  },
  {
   "cell_type": "code",
   "execution_count": 15,
   "metadata": {},
   "outputs": [],
   "source": [
    "all_data = pd.concat(load_benchmark_data())"
   ]
  },
  {
   "cell_type": "markdown",
   "metadata": {},
   "source": [
    "Save the Gasteiger charges"
   ]
  },
  {
   "cell_type": "code",
   "execution_count": 16,
   "metadata": {},
   "outputs": [
    {
     "name": "stdout",
     "output_type": "stream",
     "text": [
      "CPU times: user 1min 5s, sys: 357 ms, total: 1min 5s\n",
      "Wall time: 1min 5s\n"
     ]
    }
   ],
   "source": [
    "%%time\n",
    "gasteiger_charges = dict(zip(all_data['smiles_0'], all_data['smiles_0'].apply(compute_gasteiger_charges)))"
   ]
  },
  {
   "cell_type": "code",
   "execution_count": 17,
   "metadata": {},
   "outputs": [],
   "source": [
    "filename = 'gasteiger-charges.pkl'\n",
    "if os.path.isfile(filename):\n",
    "    print('Skipping. Will not overwrite lookup table')\n",
    "else:\n",
    "    with open('gasteiger-charges.pkl', 'wb') as fp:\n",
    "        pkl.dump(gasteiger_charges, fp)"
   ]
  },
  {
   "cell_type": "markdown",
   "metadata": {},
   "source": [
    "Save the MPNN-computed charges"
   ]
  },
  {
   "cell_type": "code",
   "execution_count": 18,
   "metadata": {},
   "outputs": [
    {
     "name": "stderr",
     "output_type": "stream",
     "text": [
      "/home/lward/miniconda3/envs/jcesr_ml/lib/python3.6/site-packages/tensorflow/python/ops/gradients_impl.py:110: UserWarning: Converting sparse IndexedSlices to a dense Tensor of unknown shape. This may consume a large amount of memory.\n",
      "  \"Converting sparse IndexedSlices to a dense Tensor of unknown shape. \"\n"
     ]
    }
   ],
   "source": [
    "model = load_model(os.path.join(best_model.path, 'best_model.h5'))"
   ]
  },
  {
   "cell_type": "code",
   "execution_count": 19,
   "metadata": {},
   "outputs": [],
   "source": [
    "with open(os.path.join('networks', best_model.network, 'converter.pkl'), 'rb') as fp:\n",
    "    converter = pkl.load(fp)"
   ]
  },
  {
   "cell_type": "code",
   "execution_count": 20,
   "metadata": {},
   "outputs": [],
   "source": [
    "def compute_mpnn_charges(model, converter, test_data, chunk_size=1024):\n",
    "    \"\"\"Compute the chargest for all molecules in a dataset\n",
    "    \n",
    "    Args:\n",
    "        test_data (DataFrame): Dataset to evalaute\n",
    "        chunk_size (int): How many chargest to evaluate at once\n",
    "    Returns:\n",
    "        ([ndarray]): Charges for each molecule\n",
    "    \"\"\"\n",
    "    \n",
    "    # Get the predicted charges\n",
    "    y_pred = np.squeeze(run_model(model, converter, test_data['smiles_0'], chunk_size=1024))\n",
    "    \n",
    "    # Break up by molecule\n",
    "    return np.split(y_pred, test_data['n_atom'].cumsum())[:-1]"
   ]
  },
  {
   "cell_type": "code",
   "execution_count": 21,
   "metadata": {},
   "outputs": [
    {
     "name": "stdout",
     "output_type": "stream",
     "text": [
      "CPU times: user 41min 36s, sys: 5min 8s, total: 46min 44s\n",
      "Wall time: 1min 6s\n"
     ]
    }
   ],
   "source": [
    "%%time\n",
    "mpnn_charges = compute_mpnn_charges(model, converter, all_data)"
   ]
  },
  {
   "cell_type": "code",
   "execution_count": 22,
   "metadata": {},
   "outputs": [],
   "source": [
    "mpnn_charges = dict(zip(all_data['smiles_0'], mpnn_charges))"
   ]
  },
  {
   "cell_type": "code",
   "execution_count": 23,
   "metadata": {},
   "outputs": [],
   "source": [
    "filename = 'mpnn-charges.pkl'\n",
    "if os.path.isfile(filename):\n",
    "    print('Skipping. Will not overwrite lookup table')\n",
    "else:\n",
    "    with open(filename, 'wb') as fp:\n",
    "        pkl.dump(mpnn_charges, fp)"
   ]
  }
 ],
 "metadata": {
  "kernelspec": {
   "display_name": "jcesr_ml",
   "language": "python",
   "name": "jcesr_ml"
  },
  "language_info": {
   "codemirror_mode": {
    "name": "ipython",
    "version": 3
   },
   "file_extension": ".py",
   "mimetype": "text/x-python",
   "name": "python",
   "nbconvert_exporter": "python",
   "pygments_lexer": "ipython3",
   "version": "3.6.8"
  }
 },
 "nbformat": 4,
 "nbformat_minor": 4
}
